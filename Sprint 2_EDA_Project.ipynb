{
 "cells": [
  {
   "cell_type": "markdown",
   "id": "c7b21334-4d3b-44dc-ab69-39424fea95cb",
   "metadata": {},
   "source": [
    "<div style=\"border:solid green 2px; padding: 20px\"> <h1 style=\"color:green; margin-bottom:20px\">Reviewers comment v1</h1>\n",
    "\n",
    "Hello Jimmy!\n",
    "\n",
    "Im happy to review your project today 🙌\n",
    "\n",
    "You can find my comments under the heading **«Review»**. I will categorize my comments in green, blue or red boxes like this:\n",
    "\n",
    "<div class=\"alert alert-success\">\n",
    "    <b>Success:</b> if everything is done successfully\n",
    "</div>\n",
    "<div class=\"alert alert-warning\">\n",
    "    <b>Remarks:</b> if I can give some recommendations or ways to improve the project\n",
    "</div>\n",
    "<div class=\"alert alert-danger\">\n",
    "    <b>Needs fixing:</b> if the block requires some corrections. Work cant be accepted with the red comments\n",
    "</div>\n",
    "\n",
    "Please dont remove my comments :) If you have any questions dont hesitate to respond to my comments in a different section. \n",
    "<div class=\"alert alert-info\"> <b>Student comments:</b> For example like this</div>    \n"
   ]
  },
  {
   "cell_type": "markdown",
   "id": "d2bd047c-bf19-4250-9a54-bc8f848223a0",
   "metadata": {},
   "source": [
    "<div style=\"border:solid green 2px; padding: 20px\">\n",
    "<b>Reviewer's comment v1:</b>\n",
    "\n",
    "    \n",
    "<b>Overall Feedback</b>\n",
    "    \n",
    "Hello Jimmy,\n",
    "    \n",
    "Another project successfully completed - well done! 🏆 Your consistent effort and progress are truly commendable. There are no critical issues, so your project has been accepted!\n",
    "      \n",
    "You can find more detailed notes within your project notebook in the **Reviewer's comment v1:** sections.\n",
    "   \n",
    "Congratulations again on your accomplishment! You truly did an amazing job. Each project you complete adds to your growing expertise, and it’s exciting to see you making such great strides. Keep up the great work! 🎯\n",
    "    \n",
    "PS: As a final suggestion, I recommend trying out some practice tasks with pandas: https://www.machinelearningplus.com/python/101-pandas-exercises-python/ 🙌"
   ]
  },
  {
   "cell_type": "markdown",
   "id": "00e6bcdb-a882-473d-9723-2f644d8a6ba1",
   "metadata": {},
   "source": [
    "<div class=\"alert alert-block alert-warning\">\n",
    "<b>Reviewer's comment v1</b>\n",
    "    \n",
    "It would be immensely helpful if you can add some contextual information at the beginning of the notebook, covering:\n",
    "\n",
    "- A brief description of the project's objective.\n",
    "- An overview of the data you're working with.\n",
    "- Any expected outcomes or results you aim to achieve.\n",
    "\n",
    "Providing such context allows anyone reviewing or revisiting the notebook to quickly understand its purpose and the data being used, ensuring smoother collaboration and more intuitive navigation.\n",
    "\n",
    "</div>"
   ]
  },
  {
   "cell_type": "markdown",
   "id": "dafcfda4-03ec-40b7-9a59-6e21ad6a2447",
   "metadata": {
    "id": "dafcfda4-03ec-40b7-9a59-6e21ad6a2447"
   },
   "source": [
    "# Instacart Market Basket Analysis"
   ]
  },
  {
   "cell_type": "markdown",
   "id": "7c513406-9b90-479c-ab2f-a02f79ade6fc",
   "metadata": {
    "id": "7c513406-9b90-479c-ab2f-a02f79ade6fc"
   },
   "source": [
    "## Importing the required libraries"
   ]
  },
  {
   "cell_type": "code",
   "execution_count": 1,
   "id": "fbf1adab",
   "metadata": {
    "id": "fbf1adab"
   },
   "outputs": [],
   "source": [
    "\n",
    "# Import the libraries you'll need for this analysis\n",
    "import pandas as pd\n",
    "import matplotlib.pyplot as plt\n"
   ]
  },
  {
   "cell_type": "code",
   "execution_count": 2,
   "id": "fe188ef3-27b2-4825-b955-232cdd326307",
   "metadata": {
    "id": "fe188ef3-27b2-4825-b955-232cdd326307"
   },
   "outputs": [],
   "source": [
    "\n",
    "# Load the datasets\n",
    "# Note: These files use semicolon (;) as the separator instead of comma\n",
    "orders         = pd.read_csv('/datasets/instacart_orders.csv', sep=';')\n",
    "products       = pd.read_csv('/datasets/products.csv', sep=';')\n",
    "departments    = pd.read_csv('/datasets/departments.csv', sep=';')\n",
    "aisles         = pd.read_csv('/datasets/aisles.csv', sep=';')\n",
    "order_products = pd.read_csv('/datasets/order_products.csv', sep=';')\n"
   ]
  },
  {
   "cell_type": "markdown",
   "id": "9a38987c-bf93-4219-b61a-d31781438c8e",
   "metadata": {
    "id": "9a38987c-bf93-4219-b61a-d31781438c8e"
   },
   "source": [
    "## Analyze your data"
   ]
  },
  {
   "cell_type": "markdown",
   "id": "04d4b1a9-a75f-4c89-a297-3a6002b0e53d",
   "metadata": {
    "id": "04d4b1a9-a75f-4c89-a297-3a6002b0e53d"
   },
   "source": [
    "In the cells below, display the datasets using `.info()` and `.head()` to gain insights into their structure and content.\n",
    "\n",
    "- `.info()`: Provides a concise summary of the dataset, including the data types, non-null counts, and memory usage.\n",
    "- `.head()`: Displays the first few rows of the dataset, offering a quick overview of the data values."
   ]
  },
  {
   "cell_type": "code",
   "execution_count": 3,
   "id": "10cc6096-d5ba-40b9-ba42-967e2fb7dec1",
   "metadata": {
    "id": "10cc6096-d5ba-40b9-ba42-967e2fb7dec1"
   },
   "outputs": [
    {
     "name": "stdout",
     "output_type": "stream",
     "text": [
      "   order_id  user_id  order_number  order_dow  order_hour_of_day  \\\n",
      "0   1515936   183418            11          6                 13   \n",
      "1   1690866   163593             5          5                 12   \n",
      "2   1454967    39980             4          5                 19   \n",
      "3   1768857    82516            56          0                 20   \n",
      "4   3007858   196724             2          4                 12   \n",
      "\n",
      "   days_since_prior_order  \n",
      "0                    30.0  \n",
      "1                     9.0  \n",
      "2                     2.0  \n",
      "3                    10.0  \n",
      "4                    17.0  \n"
     ]
    }
   ],
   "source": [
    "\n",
    "# In this cell, type \"orders\" below this line and execute the cell\n",
    "print(orders.head())\n"
   ]
  },
  {
   "cell_type": "markdown",
   "id": "4e702c3d-0fcc-4848-b924-8e67838a11ff",
   "metadata": {},
   "source": [
    "<div class=\"alert alert-block alert-warning\">\n",
    "<b>Reviewer's comment v1:</b>\n",
    "\n",
    "Using `display()` instead of `print()` for multiple outputs creates clearer visual separation between results and automatically formats complex data structures like DataFrames into attractive, interactive tables. While `print()` converts everything to plain text in a single stream, `display()` preserves rich output types and renders each result with proper formatting. This makes data exploration more intuitive for students, allowing them to focus on interpretation rather than deciphering poorly formatted output."
   ]
  },
  {
   "cell_type": "code",
   "execution_count": 4,
   "id": "5130e05e",
   "metadata": {
    "id": "5130e05e"
   },
   "outputs": [
    {
     "name": "stdout",
     "output_type": "stream",
     "text": [
      "   product_id                                       product_name  aisle_id  \\\n",
      "0           1                         Chocolate Sandwich Cookies        61   \n",
      "1           2                                   All-Seasons Salt       104   \n",
      "2           3               Robust Golden Unsweetened Oolong Tea        94   \n",
      "3           4  Smart Ones Classic Favorites Mini Rigatoni Wit...        38   \n",
      "4           5                          Green Chile Anytime Sauce         5   \n",
      "\n",
      "   department_id  \n",
      "0             19  \n",
      "1             13  \n",
      "2              7  \n",
      "3              1  \n",
      "4             13  \n"
     ]
    }
   ],
   "source": [
    "\n",
    "# In this cell, type \"products\" below this line and execute the cell\n",
    "print(products.head())\n"
   ]
  },
  {
   "cell_type": "markdown",
   "id": "5143e30d-f791-4596-b1f2-3c64cf8d2243",
   "metadata": {
    "id": "5143e30d-f791-4596-b1f2-3c64cf8d2243"
   },
   "source": [
    "Repeat this process for each dataset to understand the structure, including the types of columns and rows they contain. Add additional code cells as needed for your analysis."
   ]
  },
  {
   "cell_type": "code",
   "execution_count": 5,
   "id": "bd92cb32-f0c5-41b8-aecf-b99e1a35a3e6",
   "metadata": {},
   "outputs": [
    {
     "name": "stdout",
     "output_type": "stream",
     "text": [
      "   department_id department\n",
      "0              1     frozen\n",
      "1              2      other\n",
      "2              3     bakery\n",
      "3              4    produce\n",
      "4              5    alcohol\n"
     ]
    }
   ],
   "source": [
    "\n",
    "# In this cell, type \"departments\" below this line and execute the cell\n",
    "print(departments.head())\n"
   ]
  },
  {
   "cell_type": "code",
   "execution_count": 6,
   "id": "cf6fc8a8-1be8-43e1-97e2-d16b208e3d53",
   "metadata": {
    "scrolled": true
   },
   "outputs": [
    {
     "name": "stdout",
     "output_type": "stream",
     "text": [
      "   aisle_id                       aisle\n",
      "0         1       prepared soups salads\n",
      "1         2           specialty cheeses\n",
      "2         3         energy granola bars\n",
      "3         4               instant foods\n",
      "4         5  marinades meat preparation\n"
     ]
    }
   ],
   "source": [
    "\n",
    "# In this cell, type \"aisles\" below this line and execute the cell\n",
    "print(aisles.head())\n"
   ]
  },
  {
   "cell_type": "code",
   "execution_count": 7,
   "id": "a98922f3-7940-499a-8fd2-5e1179c59b62",
   "metadata": {},
   "outputs": [
    {
     "name": "stdout",
     "output_type": "stream",
     "text": [
      "   order_id  product_id  add_to_cart_order  reordered\n",
      "0   2141543       11440               17.0          0\n",
      "1    567889        1560                1.0          1\n",
      "2   2261212       26683                1.0          1\n",
      "3    491251        8670               35.0          1\n",
      "4   2571142        1940                5.0          1\n"
     ]
    }
   ],
   "source": [
    "\n",
    "# In this cell, type \"order_products\" below this line and execute the cell\n",
    "print(order_products.head())\n"
   ]
  },
  {
   "cell_type": "code",
   "execution_count": 8,
   "id": "d8370c05",
   "metadata": {
    "id": "d8370c05"
   },
   "outputs": [
    {
     "name": "stdout",
     "output_type": "stream",
     "text": [
      "<class 'pandas.core.frame.DataFrame'>\n",
      "RangeIndex: 478967 entries, 0 to 478966\n",
      "Data columns (total 6 columns):\n",
      " #   Column                  Non-Null Count   Dtype  \n",
      "---  ------                  --------------   -----  \n",
      " 0   order_id                478967 non-null  int64  \n",
      " 1   user_id                 478967 non-null  int64  \n",
      " 2   order_number            478967 non-null  int64  \n",
      " 3   order_dow               478967 non-null  int64  \n",
      " 4   order_hour_of_day       478967 non-null  int64  \n",
      " 5   days_since_prior_order  450148 non-null  float64\n",
      "dtypes: float64(1), int64(5)\n",
      "memory usage: 21.9 MB\n"
     ]
    }
   ],
   "source": [
    "\n",
    "# In this cell, type \"orders.info() below this line and execute the cell\n",
    "orders.info()\n"
   ]
  },
  {
   "cell_type": "markdown",
   "id": "73bc6c88-e73f-4d53-b887-5ee6b5e6c570",
   "metadata": {
    "id": "73bc6c88-e73f-4d53-b887-5ee6b5e6c570"
   },
   "source": [
    "The \"Non-Null Count\" column provides information about any missing values in each column of the dataset. With a total of 478,952 entries, observe any columns where the non-null count is less than this number to identify missing values."
   ]
  },
  {
   "cell_type": "code",
   "execution_count": 9,
   "id": "59e2090f",
   "metadata": {
    "id": "59e2090f"
   },
   "outputs": [
    {
     "name": "stdout",
     "output_type": "stream",
     "text": [
      "<class 'pandas.core.frame.DataFrame'>\n",
      "RangeIndex: 4545007 entries, 0 to 4545006\n",
      "Data columns (total 4 columns):\n",
      " #   Column             Dtype  \n",
      "---  ------             -----  \n",
      " 0   order_id           int64  \n",
      " 1   product_id         int64  \n",
      " 2   add_to_cart_order  float64\n",
      " 3   reordered          int64  \n",
      "dtypes: float64(1), int64(3)\n",
      "memory usage: 138.7 MB\n"
     ]
    }
   ],
   "source": [
    "\n",
    "# In this cell, run orders_products.info() below, but include the argument show_counts=True since this is a large file.\n",
    "order_products.info()\n"
   ]
  },
  {
   "cell_type": "markdown",
   "id": "3360e4ce-723c-45bd-8998-ca2f1db53349",
   "metadata": {
    "id": "3360e4ce-723c-45bd-8998-ca2f1db53349"
   },
   "source": [
    "Repeat the use of .info() on the remaining datasets to identify missing values and understand their structure. Check the \"Non-Null Count\" for each dataset to spot any columns with missing values."
   ]
  },
  {
   "cell_type": "code",
   "execution_count": 10,
   "id": "928b960a-3971-416a-8feb-c0e48acc204c",
   "metadata": {},
   "outputs": [
    {
     "name": "stdout",
     "output_type": "stream",
     "text": [
      "<class 'pandas.core.frame.DataFrame'>\n",
      "RangeIndex: 49694 entries, 0 to 49693\n",
      "Data columns (total 4 columns):\n",
      " #   Column         Non-Null Count  Dtype \n",
      "---  ------         --------------  ----- \n",
      " 0   product_id     49694 non-null  int64 \n",
      " 1   product_name   48436 non-null  object\n",
      " 2   aisle_id       49694 non-null  int64 \n",
      " 3   department_id  49694 non-null  int64 \n",
      "dtypes: int64(3), object(1)\n",
      "memory usage: 1.5+ MB\n"
     ]
    }
   ],
   "source": [
    "\n",
    "# In this cell, run products.info() below, but include the argument show_counts=True since this is a large file.\n",
    "products.info()\n"
   ]
  },
  {
   "cell_type": "code",
   "execution_count": 11,
   "id": "0891d04c-cf12-47ec-a8b1-002353901b28",
   "metadata": {},
   "outputs": [
    {
     "name": "stdout",
     "output_type": "stream",
     "text": [
      "<class 'pandas.core.frame.DataFrame'>\n",
      "RangeIndex: 21 entries, 0 to 20\n",
      "Data columns (total 2 columns):\n",
      " #   Column         Non-Null Count  Dtype \n",
      "---  ------         --------------  ----- \n",
      " 0   department_id  21 non-null     int64 \n",
      " 1   department     21 non-null     object\n",
      "dtypes: int64(1), object(1)\n",
      "memory usage: 464.0+ bytes\n"
     ]
    }
   ],
   "source": [
    "\n",
    "# In this cell, run departments.info() below, but include the argument show_counts=True since this is a large file.\n",
    "departments.info()\n"
   ]
  },
  {
   "cell_type": "code",
   "execution_count": 12,
   "id": "e8deec4b-583e-480e-98c0-62ce2394a76e",
   "metadata": {},
   "outputs": [
    {
     "name": "stdout",
     "output_type": "stream",
     "text": [
      "<class 'pandas.core.frame.DataFrame'>\n",
      "RangeIndex: 134 entries, 0 to 133\n",
      "Data columns (total 2 columns):\n",
      " #   Column    Non-Null Count  Dtype \n",
      "---  ------    --------------  ----- \n",
      " 0   aisle_id  134 non-null    int64 \n",
      " 1   aisle     134 non-null    object\n",
      "dtypes: int64(1), object(1)\n",
      "memory usage: 2.2+ KB\n"
     ]
    }
   ],
   "source": [
    "\n",
    "# In this cell, run aisles.info() below, but include the argument show_counts=True since this is a large file.\n",
    "aisles.info()\n"
   ]
  },
  {
   "cell_type": "markdown",
   "id": "1e46de76",
   "metadata": {
    "id": "1e46de76"
   },
   "source": [
    "## Find and Remove Missing Values\n",
    "\n",
    "We noticed that some columns contain missing values.\n",
    "\n",
    "Here are some useful code snippets:\n",
    "\n",
    "```python\n",
    "# Identify missing values in each column\n",
    "print(dataset.isnull().sum())\n",
    "\n",
    "# Display rows where a specific column has missing values\n",
    "print(dataset[dataset['column_name'].isna()])\n",
    "\n",
    "# Confirm no missing values remain\n",
    "print(dataset.isnull().sum())\n",
    "```"
   ]
  },
  {
   "cell_type": "markdown",
   "id": "c0aebd78",
   "metadata": {
    "id": "c0aebd78"
   },
   "source": [
    "### `products` Data Frame\n",
    "\n",
    "We will begin by addressing the missing values in the `products` data frame."
   ]
  },
  {
   "cell_type": "code",
   "execution_count": 13,
   "id": "fe4a8b0f",
   "metadata": {
    "id": "fe4a8b0f"
   },
   "outputs": [
    {
     "name": "stdout",
     "output_type": "stream",
     "text": [
      "product_id          0\n",
      "product_name     1258\n",
      "aisle_id            0\n",
      "department_id       0\n",
      "dtype: int64\n"
     ]
    }
   ],
   "source": [
    "\n",
    "# Identify which column is missing data as a fresh reminder\n",
    "print(products.isnull().sum())\n"
   ]
  },
  {
   "cell_type": "code",
   "execution_count": 14,
   "id": "0c8040e2-5eb6-43da-83fe-6a68e096c8a2",
   "metadata": {
    "scrolled": true
   },
   "outputs": [
    {
     "name": "stdout",
     "output_type": "stream",
     "text": [
      "       product_id product_name  aisle_id  department_id\n",
      "37             38          NaN       100             21\n",
      "71             72          NaN       100             21\n",
      "109           110          NaN       100             21\n",
      "296           297          NaN       100             21\n",
      "416           417          NaN       100             21\n",
      "...           ...          ...       ...            ...\n",
      "49552       49553          NaN       100             21\n",
      "49574       49575          NaN       100             21\n",
      "49640       49641          NaN       100             21\n",
      "49663       49664          NaN       100             21\n",
      "49668       49669          NaN       100             21\n",
      "\n",
      "[1258 rows x 4 columns]\n"
     ]
    }
   ],
   "source": [
    "\n",
    "# Display rows where the product_name column has missing values\n",
    "print(products[products['product_name'].isna()])\n"
   ]
  },
  {
   "cell_type": "markdown",
   "id": "b077fb59-f1f2-4390-a2bd-cdccadd5a747",
   "metadata": {
    "id": "b077fb59-f1f2-4390-a2bd-cdccadd5a747"
   },
   "source": [
    "It seems suspicious that all rows with missing `product_name` might be associated with `aisle_id` 100 and `department_id` 21. Let’s verify this by checking if any rows with missing `product_name` have an `aisle_id` different from 100 and 21. This will help us confirm if the issue is isolated to this aisle or spread across others."
   ]
  },
  {
   "cell_type": "code",
   "execution_count": 85,
   "id": "e96167bc",
   "metadata": {
    "id": "e96167bc"
   },
   "outputs": [],
   "source": [
    "# Combine conditions to check for missing product names in aisles other than 100\n",
    "df_products_name = products[(~products['aisle_id'] == 100) & (~products['department_id'] == 21)]"
   ]
  },
  {
   "cell_type": "markdown",
   "id": "4b6b8de2-9a7c-42ef-a6c6-398b60fe002d",
   "metadata": {},
   "source": [
    "<div class=\"alert alert-block alert-warning\">\n",
    "<b>Reviewer's comment v1:</b>\n",
    "\n",
    "A bit different approach to check it:\n",
    "\n",
    "```python\n",
    "is_null_name = products['product_name'].isnull()\n",
    "not_in_missing_aisle_dept = (products['aisle_id'] != 100) & (products['department_id'] != 21)\n",
    "\n",
    "print(products[is_null_name & not_in_missing_aisle_dept])\n",
    "# Expected output: Empty DataFrame\n",
    "```"
   ]
  },
  {
   "cell_type": "code",
   "execution_count": 16,
   "id": "8fd0a541",
   "metadata": {
    "id": "8fd0a541",
    "scrolled": true
   },
   "outputs": [
    {
     "name": "stdout",
     "output_type": "stream",
     "text": [
      "Empty DataFrame\n",
      "Columns: [product_id, product_name, aisle_id, department_id]\n",
      "Index: []\n"
     ]
    }
   ],
   "source": [
    "\n",
    "\n",
    "# Combine conditions to check for missing product names in aisles other than 21\n",
    "print(df_products_name)\n",
    "\n"
   ]
  },
  {
   "cell_type": "markdown",
   "id": "2c74c53f-a139-4d83-9be9-628fca74ce7c",
   "metadata": {
    "id": "2c74c53f-a139-4d83-9be9-628fca74ce7c"
   },
   "source": [
    "To better understand the missing product_name values, let’s determine what department_id 21 and aisle_id 100 represent by referencing the departments and aisles tables."
   ]
  },
  {
   "cell_type": "code",
   "execution_count": 17,
   "id": "325c3464",
   "metadata": {
    "id": "325c3464"
   },
   "outputs": [
    {
     "name": "stdout",
     "output_type": "stream",
     "text": [
      "    department_id department\n",
      "20             21    missing\n",
      "\n",
      "    aisle_id    aisle\n",
      "99       100  missing\n"
     ]
    }
   ],
   "source": [
    "\n",
    "# What is this aisle and department?\n",
    "#filter department_id to 21\n",
    "print(departments[departments['department_id'] == 21])\n",
    "print()\n",
    "#filter aisle_id to 100\n",
    "print(aisles[aisles['aisle_id'] == 100])\n"
   ]
  },
  {
   "cell_type": "code",
   "execution_count": 18,
   "id": "6b295120",
   "metadata": {
    "id": "6b295120"
   },
   "outputs": [
    {
     "name": "stdout",
     "output_type": "stream",
     "text": [
      "product_id       0\n",
      "product_name     0\n",
      "aisle_id         0\n",
      "department_id    0\n",
      "dtype: int64\n",
      "\n",
      "       product_id product_name  aisle_id  department_id\n",
      "37             38      Unknown       100             21\n",
      "71             72      Unknown       100             21\n",
      "109           110      Unknown       100             21\n",
      "296           297      Unknown       100             21\n",
      "416           417      Unknown       100             21\n",
      "...           ...          ...       ...            ...\n",
      "49552       49553      Unknown       100             21\n",
      "49574       49575      Unknown       100             21\n",
      "49640       49641      Unknown       100             21\n",
      "49663       49664      Unknown       100             21\n",
      "49668       49669      Unknown       100             21\n",
      "\n",
      "[1258 rows x 4 columns]\n"
     ]
    }
   ],
   "source": [
    "# Fill missing product names with 'Unknown'\n",
    "products['product_name'] = products['product_name'].fillna('Unknown')\n",
    "# verifying that we don't have any missing value from products table\n",
    "print(products.isnull().sum())\n",
    "print()\n",
    "# verying that aisle_id 100 and department_id 21 will show as \"Unknown\" in the product_name column\n",
    "print(products[products['aisle_id'] == 100])\n"
   ]
  },
  {
   "cell_type": "markdown",
   "id": "7eb45c86",
   "metadata": {
    "id": "7eb45c86"
   },
   "source": [
    "### `orders` data frame\n",
    "\n",
    "Now let's fill in missing values from the `orders` table."
   ]
  },
  {
   "cell_type": "code",
   "execution_count": 19,
   "id": "69181fb4-3d0a-4c34-b783-26ea485b2c41",
   "metadata": {},
   "outputs": [
    {
     "name": "stdout",
     "output_type": "stream",
     "text": [
      "order_id                      0\n",
      "user_id                       0\n",
      "order_number                  0\n",
      "order_dow                     0\n",
      "order_hour_of_day             0\n",
      "days_since_prior_order    28819\n",
      "dtype: int64\n"
     ]
    }
   ],
   "source": [
    "\n",
    "# Identify which column is missing data as a fresh reminder\n",
    "print(orders.isnull().sum())\n"
   ]
  },
  {
   "cell_type": "code",
   "execution_count": 20,
   "id": "93e41d96",
   "metadata": {
    "id": "93e41d96"
   },
   "outputs": [
    {
     "name": "stdout",
     "output_type": "stream",
     "text": [
      "        order_id  user_id  order_number  order_dow  order_hour_of_day  \\\n",
      "28        133707   182261             1          3                 10   \n",
      "96        787445    25685             1          6                 18   \n",
      "100       294410   111449             1          0                 19   \n",
      "103      2869915   123958             1          4                 16   \n",
      "104      2521921    42286             1          3                 18   \n",
      "...          ...      ...           ...        ...                ...   \n",
      "478895   2589657   205028             1          0                 16   \n",
      "478896   2222353   141211             1          2                 13   \n",
      "478922   2272807   204154             1          1                 15   \n",
      "478926   2499542    68810             1          4                 19   \n",
      "478945   1387033    22496             1          5                 14   \n",
      "\n",
      "        days_since_prior_order  \n",
      "28                         NaN  \n",
      "96                         NaN  \n",
      "100                        NaN  \n",
      "103                        NaN  \n",
      "104                        NaN  \n",
      "...                        ...  \n",
      "478895                     NaN  \n",
      "478896                     NaN  \n",
      "478922                     NaN  \n",
      "478926                     NaN  \n",
      "478945                     NaN  \n",
      "\n",
      "[28819 rows x 6 columns]\n"
     ]
    }
   ],
   "source": [
    "# Display rows where the days_since_prior_order column has missing values\n",
    "print(orders[orders['days_since_prior_order'].isna()])"
   ]
  },
  {
   "cell_type": "code",
   "execution_count": 21,
   "id": "166e5a86",
   "metadata": {
    "id": "166e5a86"
   },
   "outputs": [
    {
     "name": "stdout",
     "output_type": "stream",
     "text": [
      "Empty DataFrame\n",
      "Columns: [order_id, user_id, order_number, order_dow, order_hour_of_day, days_since_prior_order]\n",
      "Index: []\n"
     ]
    }
   ],
   "source": [
    "# Are there any missing values where it's not a customer's first order?\n",
    "missing_post_first_order = orders[(orders['order_number'] != 1) & (orders['days_since_prior_order'].isna())]\n",
    "print(missing_post_first_order)"
   ]
  },
  {
   "cell_type": "markdown",
   "id": "4e23d089",
   "metadata": {
    "id": "4e23d089"
   },
   "source": [
    "All of the missing `'days_since_prior_order'` values correspond to a customer's first ever order. This makes sense because there is no prior order! We'll leave the values as `NaN` so the column can remain numeric. Also, the `NaN` values shouldn't interfere with any calculations we might do using this column."
   ]
  },
  {
   "cell_type": "markdown",
   "id": "69dc9ca4",
   "metadata": {
    "id": "69dc9ca4"
   },
   "source": [
    "### `order_products` data frame\n",
    "\n",
    "Now let's fill in missing values from the order_products table."
   ]
  },
  {
   "cell_type": "code",
   "execution_count": 22,
   "id": "b8240253",
   "metadata": {
    "id": "b8240253"
   },
   "outputs": [
    {
     "name": "stdout",
     "output_type": "stream",
     "text": [
      "         order_id  product_id  add_to_cart_order  reordered\n",
      "737       2449164        5068                NaN          0\n",
      "9926      1968313       43867                NaN          0\n",
      "14394     2926893       11688                NaN          0\n",
      "16418     1717990        4142                NaN          0\n",
      "30114     1959075       42828                NaN          1\n",
      "...           ...         ...                ...        ...\n",
      "4505662   1800005        7411                NaN          0\n",
      "4511400   1633337         260                NaN          0\n",
      "4517562    404157        9517                NaN          0\n",
      "4534112   1673227       17835                NaN          0\n",
      "4535739   1832957       17949                NaN          1\n",
      "\n",
      "[836 rows x 4 columns]\n"
     ]
    }
   ],
   "source": [
    "# Display rows where the add_to_cart_order column has missing values\n",
    "print(order_products[order_products['add_to_cart_order'].isna()])"
   ]
  },
  {
   "cell_type": "code",
   "execution_count": 23,
   "id": "9a78e5ee",
   "metadata": {
    "id": "9a78e5ee"
   },
   "outputs": [
    {
     "name": "stdout",
     "output_type": "stream",
     "text": [
      "min:  1.0\n",
      "max:  64.0\n"
     ]
    }
   ],
   "source": [
    "# Use .min() and .max() to find the minimum and maximum values for this column.\n",
    "print(\"min: \",order_products['add_to_cart_order'].min())\n",
    "print(\"max: \", order_products['add_to_cart_order'].max())"
   ]
  },
  {
   "cell_type": "code",
   "execution_count": 24,
   "id": "ab9d0c2b",
   "metadata": {
    "id": "ab9d0c2b"
   },
   "outputs": [
    {
     "name": "stdout",
     "output_type": "stream",
     "text": [
      "737        2449164\n",
      "9926       1968313\n",
      "14394      2926893\n",
      "16418      1717990\n",
      "30114      1959075\n",
      "            ...   \n",
      "2437093       9310\n",
      "2438301    2170451\n",
      "3275635    2979697\n",
      "3282194    1625713\n",
      "3357079    1529171\n",
      "Name: order_id, Length: 70, dtype: int64\n"
     ]
    }
   ],
   "source": [
    "# Save all order IDs with at least one missing value in 'add_to_cart_order'\n",
    "missing_add_to_cart_orders = order_products[order_products['add_to_cart_order'].isna()]\n",
    "unique_missing_ids = missing_add_to_cart_orders['order_id'].drop_duplicates()\n",
    "print(unique_missing_ids)"
   ]
  },
  {
   "cell_type": "code",
   "execution_count": 25,
   "id": "54c31695",
   "metadata": {
    "id": "54c31695"
   },
   "outputs": [
    {
     "name": "stdout",
     "output_type": "stream",
     "text": [
      "61355      False\n",
      "3308010    False\n",
      "2136777    False\n",
      "171934     False\n",
      "1959075    False\n",
      "           ...  \n",
      "2652650    False\n",
      "2729254    False\n",
      "2621907    False\n",
      "888470     False\n",
      "1677118    False\n",
      "Name: order_id, Length: 70, dtype: bool\n"
     ]
    }
   ],
   "source": [
    "# Do all orders with missing values have more than 64 products?\n",
    "order_count = missing_add_to_cart_orders['order_id'].value_counts()\n",
    "above_64 = order_count > 64\n",
    "print(above_64)"
   ]
  },
  {
   "cell_type": "code",
   "execution_count": 26,
   "id": "7a987d08",
   "metadata": {
    "id": "7a987d08"
   },
   "outputs": [
    {
     "name": "stdout",
     "output_type": "stream",
     "text": [
      "<class 'pandas.core.frame.DataFrame'>\n",
      "RangeIndex: 4545007 entries, 0 to 4545006\n",
      "Data columns (total 4 columns):\n",
      " #   Column             Dtype\n",
      "---  ------             -----\n",
      " 0   order_id           int64\n",
      " 1   product_id         int64\n",
      " 2   add_to_cart_order  int64\n",
      " 3   reordered          int64\n",
      "dtypes: int64(4)\n",
      "memory usage: 138.7 MB\n",
      "\n",
      "         order_id  product_id  add_to_cart_order  reordered\n",
      "737       2449164        5068                999          0\n",
      "9926      1968313       43867                999          0\n",
      "14394     2926893       11688                999          0\n",
      "16418     1717990        4142                999          0\n",
      "30114     1959075       42828                999          1\n",
      "...           ...         ...                ...        ...\n",
      "4505662   1800005        7411                999          0\n",
      "4511400   1633337         260                999          0\n",
      "4517562    404157        9517                999          0\n",
      "4534112   1673227       17835                999          0\n",
      "4535739   1832957       17949                999          1\n",
      "\n",
      "[836 rows x 4 columns]\n"
     ]
    }
   ],
   "source": [
    "# Replace missing values with 999 and convert column to integer type\n",
    "order_products ['add_to_cart_order'] = order_products['add_to_cart_order'].fillna(999).astype('int')\n",
    "order_products.info()\n",
    "print()\n",
    "print(order_products[order_products['add_to_cart_order'] == 999])"
   ]
  },
  {
   "cell_type": "markdown",
   "id": "fea4bcc7",
   "metadata": {
    "id": "fea4bcc7"
   },
   "source": [
    "For some reason, any item placed in the cart 65th or later has a missing value in the `'add_to_cart_order'` column. Maybe the data type of that column in the database could only hold integer values from 1 to 64. We've decided to replace the missing values with a code value, 999, that represents an unknown placed in cart order above 64. We also converted the column to integer data type. We just need to be careful to remember this if we perform calculations using this column during our analysis.\n",
    "\n",
    "Other sensible code values we could've used are 0 or -1 because they don't show up elsewhere in the dataset and they don't have any real physical meaning for this variable.\n",
    "\n",
    "Also note that, for orders with exactly 65 items, we could replace the missing value with 65. But we're going to neglect that for now since we can't determine the 65th item for all orders with 66 items or more."
   ]
  },
  {
   "cell_type": "markdown",
   "id": "c3d799a6-e808-4a57-bd30-c0f275cbb8e2",
   "metadata": {},
   "source": [
    "<div class=\"alert alert-block alert-success\">\n",
    "<b>Reviewer's comment v1</b>\n",
    "\n",
    "Overall, your exploration and cleaning process is well-thought-out. \n",
    "\n",
    "You correctly identified and addressed NaN values in `product_name`, `days_since_prior_order`, `add_to_cart_order`. "
   ]
  },
  {
   "cell_type": "markdown",
   "id": "07357848-dc64-4156-9cc3-01ff4365226d",
   "metadata": {
    "id": "07357848-dc64-4156-9cc3-01ff4365226d"
   },
   "source": [
    "## Find and Remove Duplicate Values from All the Datasets\n",
    "\n",
    "Each dataset may contain duplicate rows, which can lead to redundancy and affect the accuracy of our analysis. To handle this:\n",
    "\n",
    "1. Use the `.duplicated()` method to identify duplicate rows. This method returns a Boolean series where `True` indicates a duplicate row.\n",
    "2. Apply the `.drop_duplicates()` method to remove these duplicate rows, ensuring a cleaner dataset.\n",
    "3. Optionally, you can set the `keep` parameter in `.drop_duplicates()` to specify which duplicate to retain (`'first'` or `'last'`).\n",
    "\n",
    "Here is some example code for reference:\n",
    "```python\n",
    "# Check for duplicates\n",
    "print(dataset.duplicated().sum())  # Number of duplicate rows\n",
    "\n",
    "# View duplicate rows\n",
    "print(dataset[dataset.duplicated()]\n",
    "\n",
    "# Remove duplicates\n",
    "dataset = dataset.drop_duplicates().reset_index(drop=True)\n",
    "\n",
    "# Confirm removal\n",
    "print(dataset.duplicated().sum())  # Should return 0\n",
    "```\n",
    "\n",
    "Repeat this process for all datasets to ensure they are free of duplicate rows."
   ]
  },
  {
   "cell_type": "markdown",
   "id": "f179f0a9",
   "metadata": {
    "id": "f179f0a9"
   },
   "source": [
    "### `orders` data frame"
   ]
  },
  {
   "cell_type": "code",
   "execution_count": 27,
   "id": "bb1a8c31-0a95-487a-98fc-c040228245f6",
   "metadata": {
    "id": "bb1a8c31-0a95-487a-98fc-c040228245f6"
   },
   "outputs": [
    {
     "name": "stdout",
     "output_type": "stream",
     "text": [
      "15\n"
     ]
    }
   ],
   "source": [
    "# Find the number of duplicate rows in the orders dataframe\n",
    "print(orders.duplicated().sum())"
   ]
  },
  {
   "cell_type": "code",
   "execution_count": 28,
   "id": "b99297a5-405a-463d-8535-9adc3da4ad74",
   "metadata": {
    "id": "b99297a5-405a-463d-8535-9adc3da4ad74"
   },
   "outputs": [
    {
     "name": "stdout",
     "output_type": "stream",
     "text": [
      "        order_id  user_id  order_number  order_dow  order_hour_of_day  \\\n",
      "145574    794638    50898            24          3                  2   \n",
      "223105   2160484   107525            16          3                  2   \n",
      "230807   1918001   188546            14          3                  2   \n",
      "266232   1782114   106752             1          3                  2   \n",
      "273805   1112182   202304            84          3                  2   \n",
      "284038   2845099    31189            11          3                  2   \n",
      "311713   1021560    53767             3          3                  2   \n",
      "321100    408114    68324             4          3                  2   \n",
      "323900   1919531   191501            32          3                  2   \n",
      "345917   2232988    82565             1          3                  2   \n",
      "371905    391768    57671            19          3                  2   \n",
      "394347    467134    63189            21          3                  2   \n",
      "411408   1286742   183220            48          3                  2   \n",
      "415163   2282673    86751            49          3                  2   \n",
      "441599   2125197    14050            48          3                  2   \n",
      "\n",
      "        days_since_prior_order  \n",
      "145574                     2.0  \n",
      "223105                    30.0  \n",
      "230807                    16.0  \n",
      "266232                     NaN  \n",
      "273805                     6.0  \n",
      "284038                     7.0  \n",
      "311713                     9.0  \n",
      "321100                    18.0  \n",
      "323900                     7.0  \n",
      "345917                     NaN  \n",
      "371905                    10.0  \n",
      "394347                     2.0  \n",
      "411408                     4.0  \n",
      "415163                     2.0  \n",
      "441599                     3.0  \n"
     ]
    }
   ],
   "source": [
    "# View the duplicate rows\n",
    "print(orders[orders.duplicated()])"
   ]
  },
  {
   "cell_type": "code",
   "execution_count": 29,
   "id": "480563c7",
   "metadata": {
    "id": "480563c7"
   },
   "outputs": [],
   "source": [
    "# Remove duplicate orders\n",
    "orders = orders.drop_duplicates().reset_index(drop=True)"
   ]
  },
  {
   "cell_type": "code",
   "execution_count": 30,
   "id": "0b2396a2",
   "metadata": {
    "id": "0b2396a2"
   },
   "outputs": [
    {
     "name": "stdout",
     "output_type": "stream",
     "text": [
      "0\n"
     ]
    }
   ],
   "source": [
    "# Double check for duplicate rows\n",
    "print(orders.duplicated().sum())"
   ]
  },
  {
   "cell_type": "markdown",
   "id": "45e6bc46",
   "metadata": {
    "id": "45e6bc46"
   },
   "source": [
    "### `products` data frame"
   ]
  },
  {
   "cell_type": "code",
   "execution_count": 31,
   "id": "5f526b5b-8175-46fa-a0fd-441767d50e64",
   "metadata": {
    "id": "5f526b5b-8175-46fa-a0fd-441767d50e64"
   },
   "outputs": [
    {
     "name": "stdout",
     "output_type": "stream",
     "text": [
      "Empty DataFrame\n",
      "Columns: [product_id, product_name, aisle_id, department_id]\n",
      "Index: []\n"
     ]
    }
   ],
   "source": [
    "# Check for fully duplicate rows\n",
    "print(products[products.duplicated()])"
   ]
  },
  {
   "cell_type": "code",
   "execution_count": 32,
   "id": "88daa4f4",
   "metadata": {
    "id": "88daa4f4"
   },
   "outputs": [
    {
     "name": "stdout",
     "output_type": "stream",
     "text": [
      "Empty DataFrame\n",
      "Columns: [product_id, product_name, aisle_id, department_id]\n",
      "Index: []\n"
     ]
    }
   ],
   "source": [
    "# Check for just duplicate product IDs using subset='product_id' in duplicated()\n",
    "print(products[products.duplicated(subset='product_id')])"
   ]
  },
  {
   "cell_type": "markdown",
   "id": "03c82be5-3463-4adb-a5eb-1755f011faa0",
   "metadata": {
    "id": "03c82be5-3463-4adb-a5eb-1755f011faa0"
   },
   "source": [
    "Hint: To identify duplicate product names more effectively, convert the names to lowercase for consistent comparison. Use the .str.lower() method on the product_name column to standardize the text before checking for duplicates."
   ]
  },
  {
   "cell_type": "code",
   "execution_count": 33,
   "id": "c773f0bf",
   "metadata": {
    "id": "c773f0bf"
   },
   "outputs": [
    {
     "name": "stdout",
     "output_type": "stream",
     "text": [
      "       product_id                                     product_name  aisle_id  \\\n",
      "71             72                                          unknown       100   \n",
      "109           110                                          unknown       100   \n",
      "296           297                                          unknown       100   \n",
      "416           417                                          unknown       100   \n",
      "436           437                                          unknown       100   \n",
      "...           ...                                              ...       ...   \n",
      "49689       49690                    high performance energy drink        64   \n",
      "49690       49691                    original pancake & waffle mix       130   \n",
      "49691       49692  organic instant oatmeal light maple brown sugar       130   \n",
      "49692       49693                           spring water body wash       127   \n",
      "49693       49694                          burrito- steak & cheese        38   \n",
      "\n",
      "       department_id  \n",
      "71                21  \n",
      "109               21  \n",
      "296               21  \n",
      "416               21  \n",
      "436               21  \n",
      "...              ...  \n",
      "49689              7  \n",
      "49690             14  \n",
      "49691             14  \n",
      "49692             11  \n",
      "49693              1  \n",
      "\n",
      "[1361 rows x 4 columns]\n"
     ]
    }
   ],
   "source": [
    "# Check for just duplicate product names (convert names to lowercase to compare better)\n",
    "products['product_name'] = products['product_name'].str.lower()\n",
    "print(products[products.duplicated(subset='product_name')])"
   ]
  },
  {
   "cell_type": "markdown",
   "id": "c502f00b-979b-4f6a-9457-569f412e1183",
   "metadata": {
    "id": "c502f00b-979b-4f6a-9457-569f412e1183"
   },
   "source": [
    "Let's see what that looks like in our dataset :"
   ]
  },
  {
   "cell_type": "code",
   "execution_count": 34,
   "id": "515b21b1-f458-4428-ba10-2820fef6158d",
   "metadata": {
    "id": "515b21b1-f458-4428-ba10-2820fef6158d"
   },
   "outputs": [
    {
     "data": {
      "text/html": [
       "<div>\n",
       "<style scoped>\n",
       "    .dataframe tbody tr th:only-of-type {\n",
       "        vertical-align: middle;\n",
       "    }\n",
       "\n",
       "    .dataframe tbody tr th {\n",
       "        vertical-align: top;\n",
       "    }\n",
       "\n",
       "    .dataframe thead th {\n",
       "        text-align: right;\n",
       "    }\n",
       "</style>\n",
       "<table border=\"1\" class=\"dataframe\">\n",
       "  <thead>\n",
       "    <tr style=\"text-align: right;\">\n",
       "      <th></th>\n",
       "      <th>product_id</th>\n",
       "      <th>product_name</th>\n",
       "      <th>aisle_id</th>\n",
       "      <th>department_id</th>\n",
       "    </tr>\n",
       "  </thead>\n",
       "  <tbody>\n",
       "    <tr>\n",
       "      <th>22540</th>\n",
       "      <td>22541</td>\n",
       "      <td>high performance energy drink</td>\n",
       "      <td>64</td>\n",
       "      <td>7</td>\n",
       "    </tr>\n",
       "    <tr>\n",
       "      <th>49689</th>\n",
       "      <td>49690</td>\n",
       "      <td>high performance energy drink</td>\n",
       "      <td>64</td>\n",
       "      <td>7</td>\n",
       "    </tr>\n",
       "  </tbody>\n",
       "</table>\n",
       "</div>"
      ],
      "text/plain": [
       "       product_id                   product_name  aisle_id  department_id\n",
       "22540       22541  high performance energy drink        64              7\n",
       "49689       49690  high performance energy drink        64              7"
      ]
     },
     "execution_count": 34,
     "metadata": {},
     "output_type": "execute_result"
    }
   ],
   "source": [
    "products[products['product_name'].str.lower() == 'high performance energy drink']"
   ]
  },
  {
   "cell_type": "code",
   "execution_count": 35,
   "id": "51a0e65f-2c0d-42f7-98d6-fd962a599a18",
   "metadata": {
    "id": "51a0e65f-2c0d-42f7-98d6-fd962a599a18"
   },
   "outputs": [
    {
     "name": "stdout",
     "output_type": "stream",
     "text": [
      "       product_id                   product_name  aisle_id  department_id\n",
      "25892       25893  original pancake & waffle mix       130             14\n",
      "\n",
      "Empty DataFrame\n",
      "Columns: [product_id, product_name, aisle_id, department_id]\n",
      "Index: []\n"
     ]
    }
   ],
   "source": [
    "# Drop duplicate product names (case insensitive)\n",
    "products = products.drop_duplicates(subset='product_name')\n",
    "\n",
    "# confirm the dupes were dropped\n",
    "print(products[products['product_name'] == 'original pancake & waffle mix']) # checking to see if one of the duplicated product_name would print only once after dupe removal\n",
    "print()\n",
    "print(products[products.duplicated(subset='product_name')])"
   ]
  },
  {
   "cell_type": "markdown",
   "id": "10f994dc-448d-4f11-8955-de08fee2b412",
   "metadata": {},
   "source": [
    "<div class=\"alert alert-block alert-warning\">\n",
    "<b>Reviewer's comment v1</b>\n",
    "\n",
    "When dropping duplicates, it's often good practice to reset the index afterwards using `.reset_index(drop=True)` if you want a clean, contiguous index. Your current approach is fine, but this is a general tip."
   ]
  },
  {
   "cell_type": "markdown",
   "id": "60f30db1",
   "metadata": {
    "id": "60f30db1"
   },
   "source": [
    "### `departments` data frame"
   ]
  },
  {
   "cell_type": "code",
   "execution_count": 36,
   "id": "fb410ad4-0fbf-4b80-bb09-23fdea79afe3",
   "metadata": {
    "id": "fb410ad4-0fbf-4b80-bb09-23fdea79afe3"
   },
   "outputs": [
    {
     "data": {
      "text/html": [
       "<div>\n",
       "<style scoped>\n",
       "    .dataframe tbody tr th:only-of-type {\n",
       "        vertical-align: middle;\n",
       "    }\n",
       "\n",
       "    .dataframe tbody tr th {\n",
       "        vertical-align: top;\n",
       "    }\n",
       "\n",
       "    .dataframe thead th {\n",
       "        text-align: right;\n",
       "    }\n",
       "</style>\n",
       "<table border=\"1\" class=\"dataframe\">\n",
       "  <thead>\n",
       "    <tr style=\"text-align: right;\">\n",
       "      <th></th>\n",
       "      <th>department_id</th>\n",
       "      <th>department</th>\n",
       "    </tr>\n",
       "  </thead>\n",
       "  <tbody>\n",
       "  </tbody>\n",
       "</table>\n",
       "</div>"
      ],
      "text/plain": [
       "Empty DataFrame\n",
       "Columns: [department_id, department]\n",
       "Index: []"
      ]
     },
     "execution_count": 36,
     "metadata": {},
     "output_type": "execute_result"
    }
   ],
   "source": [
    "# Check for duplicate entries in the departments dataframe\n",
    "departments[departments.duplicated()]"
   ]
  },
  {
   "cell_type": "markdown",
   "id": "889349c1",
   "metadata": {
    "id": "889349c1"
   },
   "source": [
    "### `aisles` data frame"
   ]
  },
  {
   "cell_type": "code",
   "execution_count": 37,
   "id": "9da89fb9-4679-40f5-ad0d-c34df753a3f8",
   "metadata": {
    "id": "9da89fb9-4679-40f5-ad0d-c34df753a3f8"
   },
   "outputs": [
    {
     "name": "stdout",
     "output_type": "stream",
     "text": [
      "<class 'pandas.core.frame.DataFrame'>\n",
      "RangeIndex: 134 entries, 0 to 133\n",
      "Data columns (total 2 columns):\n",
      " #   Column    Non-Null Count  Dtype \n",
      "---  ------    --------------  ----- \n",
      " 0   aisle_id  134 non-null    int64 \n",
      " 1   aisle     134 non-null    object\n",
      "dtypes: int64(1), object(1)\n",
      "memory usage: 2.2+ KB\n",
      "\n",
      "<class 'pandas.core.frame.DataFrame'>\n",
      "RangeIndex: 21 entries, 0 to 20\n",
      "Data columns (total 2 columns):\n",
      " #   Column         Non-Null Count  Dtype \n",
      "---  ------         --------------  ----- \n",
      " 0   department_id  21 non-null     int64 \n",
      " 1   department     21 non-null     object\n",
      "dtypes: int64(1), object(1)\n",
      "memory usage: 464.0+ bytes\n"
     ]
    }
   ],
   "source": [
    "\n",
    "# Check for aisles entries in the departments dataframe \n",
    "\n",
    "# Re-run the info to see any missing values\n",
    "aisles.info()\n",
    "print()\n",
    "departments.info()\n"
   ]
  },
  {
   "cell_type": "code",
   "execution_count": 38,
   "id": "50810815-eeb8-4f1c-8975-4bfd9bf45edb",
   "metadata": {},
   "outputs": [
    {
     "name": "stdout",
     "output_type": "stream",
     "text": [
      "Empty DataFrame\n",
      "Columns: [aisle_id, aisle]\n",
      "Index: []\n",
      "Empty DataFrame\n",
      "Columns: [department_id, department]\n",
      "Index: []\n"
     ]
    }
   ],
   "source": [
    "\n",
    "# View duplicate rows for aisle in aisles df\n",
    "print(aisles[aisles['aisle'].duplicated()])\n",
    "\n",
    "# View duplicate rows for department in departments df\n",
    "print(departments[departments['department'].duplicated()])\n",
    "\n"
   ]
  },
  {
   "cell_type": "markdown",
   "id": "274cd06a",
   "metadata": {
    "id": "274cd06a"
   },
   "source": [
    "### `order_products` data frame"
   ]
  },
  {
   "cell_type": "code",
   "execution_count": 39,
   "id": "52326689-84a8-4b8f-a881-7c68780f62c9",
   "metadata": {
    "id": "52326689-84a8-4b8f-a881-7c68780f62c9"
   },
   "outputs": [
    {
     "name": "stdout",
     "output_type": "stream",
     "text": [
      "0\n"
     ]
    }
   ],
   "source": [
    "\n",
    "# Check for duplicate entries in the order_products dataframe\n",
    "print(order_products.duplicated().sum())  # Number of duplicate rows\n"
   ]
  },
  {
   "cell_type": "markdown",
   "id": "e5952f1b-3a4a-4144-a58e-77d72e1ed599",
   "metadata": {
    "id": "e5952f1b-3a4a-4144-a58e-77d72e1ed599"
   },
   "source": [
    "We have now successfully cleaned our data. Let's begin our exploratory data analysis."
   ]
  },
  {
   "cell_type": "markdown",
   "id": "c8a3c2cd-6c3d-4cc7-93d2-f388d495ba88",
   "metadata": {},
   "source": [
    "<div class=\"alert alert-block alert-success\">\n",
    "<b>Reviewer's comment v1</b>\n",
    "\n",
    "You've done a good job at checking duplicates in the table."
   ]
  },
  {
   "cell_type": "markdown",
   "id": "e763705f-c6c5-4c45-9522-7af3ee99ec22",
   "metadata": {},
   "source": [
    "<div class=\"alert alert-block alert-warning\">\n",
    "<b>Reviewer's comment v1</b>\n",
    "\n",
    "If you're repeating the same set of operations (like checking info, printing the head, checking for NaNs, and checking for duplicates) for each dataframe, consider creating a function to perform these checks. This will make your code cleaner and more efficient.\n",
    "\n",
    "````\n",
    "def analyze_data(df):\n",
    "    # Info\n",
    "    print(df.info())\n",
    "    \n",
    "    # First few rows\n",
    "    print(df.head())\n",
    "    \n",
    "    # Missing values\n",
    "    print(df.isna().sum())\n",
    "    \n",
    "    # Duplicates\n",
    "    print(df.duplicated().sum())\n",
    "\n",
    "# Use the function\n",
    "analyze_data(aisles)\n",
    "analyze_data(departments)\n",
    "# ... and so on for other dataframes\n",
    "````\n",
    "<div/>\n",
    " \n",
    "    \n"
   ]
  },
  {
   "cell_type": "markdown",
   "id": "turkish-kidney",
   "metadata": {
    "id": "turkish-kidney"
   },
   "source": [
    "# [A] Easy (must complete all to pass)"
   ]
  },
  {
   "cell_type": "markdown",
   "id": "short-capability",
   "metadata": {
    "id": "short-capability"
   },
   "source": [
    "### [A1] Verify that the `'order_hour_of_day'` and `'order_dow'` values in the `orders` tables are sensible (i.e. `'order_hour_of_day'` ranges from 0 to 23 and `'order_dow'` ranges from 0 to 6)\n",
    "\n",
    "To verify that the values in the `order_hour_of_day` and `order_dow` columns are sensible:\n",
    "\n",
    "1. **Check unique values**: Use `.unique()` on each column to extract all distinct values present.\n",
    "2. **Sort the results**: Use `sorted()` to arrange the unique values in ascending order for easier verification.\n",
    "3. **Validate ranges**:\n",
    "   - Ensure `order_hour_of_day` values range from 0 to 23 (representing hours of the day).\n",
    "   - Ensure `order_dow` values range from 0 to 6 (representing days of the week).\n",
    "\n",
    "This process confirms that the data aligns with expected ranges and there are no out-of-bound or invalid entries."
   ]
  },
  {
   "cell_type": "code",
   "execution_count": 40,
   "id": "growing-fruit",
   "metadata": {
    "id": "growing-fruit",
    "scrolled": true
   },
   "outputs": [
    {
     "name": "stdout",
     "output_type": "stream",
     "text": [
      "[0, 1, 2, 3, 4, 5, 6, 7, 8, 9, 10, 11, 12, 13, 14, 15, 16, 17, 18, 19, 20, 21, 22, 23]\n",
      "\n",
      "[0, 1, 2, 3, 4, 5, 6]\n",
      "\n",
      "min order_hour_of_day is:  0 and max order_hour_of_day is : 23\n",
      "\n",
      "min order_dow is:  0 and max order_dow is : 6\n"
     ]
    }
   ],
   "source": [
    "\n",
    "# check to see if order_hour_of_day are sensible\n",
    "print(sorted(orders['order_hour_of_day'].unique()))\n",
    "\n",
    "print()\n",
    "\n",
    "# check to see if order_dow are sensible\n",
    "print(sorted(orders['order_dow'].unique()))\n",
    "\n",
    "print()\n",
    "\n",
    "# check for min and max\n",
    "print(\"min order_hour_of_day is: \", orders['order_hour_of_day'].min(), \"and max order_hour_of_day is :\", orders['order_hour_of_day'].max())\n",
    "print()\n",
    "print(\"min order_dow is: \", orders['order_dow'].min(), \"and max order_dow is :\", orders['order_dow'].max())"
   ]
  },
  {
   "cell_type": "code",
   "execution_count": 41,
   "id": "25026739-bb57-4c9a-95d0-7e735676b2e9",
   "metadata": {},
   "outputs": [
    {
     "name": "stdout",
     "output_type": "stream",
     "text": [
      "<class 'pandas.core.frame.DataFrame'>\n",
      "RangeIndex: 478952 entries, 0 to 478951\n",
      "Data columns (total 6 columns):\n",
      " #   Column                  Non-Null Count   Dtype  \n",
      "---  ------                  --------------   -----  \n",
      " 0   order_id                478952 non-null  int64  \n",
      " 1   user_id                 478952 non-null  int64  \n",
      " 2   order_number            478952 non-null  int64  \n",
      " 3   order_dow               478952 non-null  int64  \n",
      " 4   order_hour_of_day       478952 non-null  int64  \n",
      " 5   days_since_prior_order  450135 non-null  float64\n",
      "dtypes: float64(1), int64(5)\n",
      "memory usage: 21.9 MB\n"
     ]
    }
   ],
   "source": [
    "#Double checking to verify we're not missing any values in order_hour_of_day and order_dow\n",
    "orders.info()"
   ]
  },
  {
   "cell_type": "markdown",
   "id": "1533efed-f8b0-4fba-b41a-9c00291375dc",
   "metadata": {},
   "source": [
    "<div class=\"alert alert-block alert-success\">\n",
    "<b>Reviewer's comment v1</b>\n",
    "\n",
    "You correctly verified that `order_hour_of_day` ranges from 0 to 23 and `order_dow` ranges from 0 to 6 using `.unique()` and `sorted()`.\n",
    "\n",
    "As a second approach you could use `.describe()` function for getting an initial understanding of data, especially for numeric columns. However, this function might return descriptive statistics for all numeric columns in the dataframe. If you are interested in specific columns, you might want to narrow it down.\n",
    "\n",
    "`instacart[['order_hour_of_day', 'order_dow']].describe()`\n",
    "    \n"
   ]
  },
  {
   "cell_type": "markdown",
   "id": "a6743a70",
   "metadata": {
    "id": "a6743a70"
   },
   "source": [
    "### [A2] What time of day do people shop for groceries?\n",
    "\n",
    "To determine the time of day people shop for groceries, analyze the order_hour_of_day column in the orders dataset. Use .value_counts() to count the number of orders placed at each hour, and then sort the results by the hour for a clear chronological order.\n",
    "\n",
    "Finally, visualize the data with a bar plot to easily observe the shopping trends across different times of the day."
   ]
  },
  {
   "cell_type": "code",
   "execution_count": 42,
   "id": "a36cca27",
   "metadata": {
    "id": "a36cca27"
   },
   "outputs": [
    {
     "name": "stdout",
     "output_type": "stream",
     "text": [
      "10    40578\n",
      "11    40032\n",
      "15    39789\n",
      "14    39631\n",
      "13    39007\n",
      "16    38112\n",
      "12    38034\n",
      "9     35896\n",
      "17    31930\n",
      "18    25510\n",
      "8     25024\n",
      "19    19547\n",
      "20    14624\n",
      "7     13043\n",
      "21    11019\n",
      "22     8512\n",
      "23     5611\n",
      "6      4215\n",
      "0      3180\n",
      "1      1763\n",
      "5      1371\n",
      "2       989\n",
      "3       770\n",
      "4       765\n",
      "Name: order_hour_of_day, dtype: int64\n"
     ]
    }
   ],
   "source": [
    "print(orders['order_hour_of_day'].value_counts())"
   ]
  },
  {
   "cell_type": "code",
   "execution_count": 43,
   "id": "3214c222-e915-4781-8b7f-59f0d28310be",
   "metadata": {},
   "outputs": [
    {
     "data": {
      "image/png": "[encoded data removed]",
      "text/plain": [
       "<Figure size 640x480 with 1 Axes>"
      ]
     },
     "metadata": {},
     "output_type": "display_data"
    }
   ],
   "source": [
    "\n",
    "# Create an assignment to sort the order_hour_of_day \n",
    "hourly_count = orders['order_hour_of_day'].value_counts().sort_index()\n",
    "# Create bar graph\n",
    "hourly_count.plot(kind='bar')\n",
    "plt.title('Number of Orders by Hour of Day')\n",
    "plt.xlabel('Hour of Day')\n",
    "plt.ylabel('# of orders')\n",
    "plt.show()\n",
    "\n"
   ]
  },
  {
   "cell_type": "markdown",
   "id": "11270eed",
   "metadata": {
    "id": "11270eed"
   },
   "source": [
    "Most orders occur between 9:00 AM and 5:00 PM, with peaks at 10:00 AM and 3:00 PM"
   ]
  },
  {
   "cell_type": "markdown",
   "id": "19126cea-00ef-4751-b8d3-6a3a30120675",
   "metadata": {},
   "source": [
    "<div class=\"alert alert-block alert-success\">\n",
    "<b>Reviewer's comment v1</b>\n",
    "\n",
    "The bar plot clearly shows orders per hour.  Agree with the results and conclusions. "
   ]
  },
  {
   "cell_type": "markdown",
   "id": "documented-command",
   "metadata": {
    "id": "documented-command"
   },
   "source": [
    "### [A3] What day of the week do people shop for groceries?\n",
    "\n",
    "To figure out what day of the week people shop for groceries, analyze the order_dow column in the orders dataset. Use .value_counts() to count the number of orders for each day of the week, and then sort the results by the day index to maintain the correct order.\n",
    "\n",
    "Visualize the data with a bar plot to clearly observe shopping patterns across the days of the week."
   ]
  },
  {
   "cell_type": "code",
   "execution_count": 44,
   "id": "c170da74-2c8c-4aaf-a7cb-794e69ec8b45",
   "metadata": {},
   "outputs": [
    {
     "name": "stdout",
     "output_type": "stream",
     "text": [
      "0    84090\n",
      "1    82185\n",
      "2    65833\n",
      "5    63488\n",
      "6    62649\n",
      "3    60897\n",
      "4    59810\n",
      "Name: order_dow, dtype: int64\n"
     ]
    }
   ],
   "source": [
    "#print the value_counts of order_dow\n",
    "print(orders['order_dow'].value_counts())"
   ]
  },
  {
   "cell_type": "code",
   "execution_count": 45,
   "id": "chief-digit",
   "metadata": {
    "id": "chief-digit"
   },
   "outputs": [
    {
     "data": {
      "image/png": "[encoded data removed]",
      "text/plain": [
       "<Figure size 640x480 with 1 Axes>"
      ]
     },
     "metadata": {},
     "output_type": "display_data"
    }
   ],
   "source": [
    "# create a bar graph for day of the week\n",
    "dow = orders['order_dow'].value_counts().sort_index()\n",
    "dow.plot(kind = 'bar')\n",
    "plt.xlabel('Day of the Week')\n",
    "plt.ylabel('# of orders for each day')\n",
    "plt.title('Orders per day of the week')\n",
    "plt.show()"
   ]
  },
  {
   "cell_type": "markdown",
   "id": "dominant-lightning",
   "metadata": {
    "id": "dominant-lightning"
   },
   "source": [
    "The data dictionary does not state which integer corresponds to which day of the week. Assuming Sunday = 0, then people place more orders at the beginning of the week (Sunday and Monday)."
   ]
  },
  {
   "cell_type": "markdown",
   "id": "d60bb274-9039-4788-ab14-8f0e4a22c6f3",
   "metadata": {},
   "source": [
    "<div class=\"alert alert-block alert-success\">\n",
    "<b>Reviewer's comment v1</b>\n",
    "\n",
    "You got correct results. "
   ]
  },
  {
   "cell_type": "markdown",
   "id": "cutting-concert",
   "metadata": {
    "id": "cutting-concert"
   },
   "source": [
    "### [A4] How long do people wait until placing another order?\n",
    "\n",
    "To understand how long people wait before placing another order, analyze the days_since_prior_order column in the orders dataset. Use .value_counts() to count how many orders were placed for each interval of days, then sort the results by the number of days for clarity.\n",
    "\n",
    "Visualize the data using a bar plot to observe patterns in ordering frequency over time."
   ]
  },
  {
   "cell_type": "code",
   "execution_count": 46,
   "id": "c231f523",
   "metadata": {
    "id": "c231f523"
   },
   "outputs": [
    {
     "name": "stdout",
     "output_type": "stream",
     "text": [
      "30.0    51337\n",
      "7.0     44577\n",
      "6.0     33930\n",
      "4.0     31006\n",
      "3.0     30224\n",
      "5.0     30096\n",
      "2.0     27138\n",
      "8.0     25361\n",
      "1.0     20179\n",
      "9.0     16753\n",
      "14.0    13992\n",
      "10.0    13309\n",
      "13.0    11737\n",
      "11.0    11467\n",
      "12.0    10658\n",
      "0.0      9589\n",
      "15.0     9416\n",
      "16.0     6587\n",
      "21.0     6448\n",
      "17.0     5498\n",
      "20.0     5302\n",
      "18.0     4971\n",
      "19.0     4939\n",
      "22.0     4514\n",
      "28.0     3745\n",
      "23.0     3337\n",
      "24.0     3015\n",
      "27.0     2986\n",
      "25.0     2711\n",
      "29.0     2673\n",
      "26.0     2640\n",
      "Name: days_since_prior_order, dtype: int64\n"
     ]
    }
   ],
   "source": [
    "#print value_counts for days_since_prior_order\n",
    "print(orders['days_since_prior_order'].value_counts())"
   ]
  },
  {
   "cell_type": "code",
   "execution_count": 47,
   "id": "e9094b41-55e6-4516-8cbd-2179a91433e9",
   "metadata": {},
   "outputs": [
    {
     "data": {
      "image/png": "[encoded data removed]",
      "text/plain": [
       "<Figure size 640x480 with 1 Axes>"
      ]
     },
     "metadata": {},
     "output_type": "display_data"
    }
   ],
   "source": [
    "# Create a bar graph\n",
    "dspo = orders['days_since_prior_order'].value_counts().sort_index()\n",
    "dspo.plot(kind = 'bar')\n",
    "plt.title('The amount of days since prior order')\n",
    "plt.ylabel('# or orders per prior day')\n",
    "plt.xlabel('# of days since prior order')\n",
    "plt.show()"
   ]
  },
  {
   "cell_type": "markdown",
   "id": "04d9c21a-3fbf-4c32-aecd-3410a3c6e48d",
   "metadata": {},
   "source": [
    "<div class=\"alert alert-block alert-warning\">\n",
    "<b>Reviewer's comment v1</b>\n",
    "\n",
    "Additionally you could also add descriptive analysis in the following way: \n",
    "   \n",
    "```python\n",
    "avg_days = days_since_prior_order_counts.mean()\n",
    "median_days = days_since_prior_order_counts.median()\n",
    "print(f\"The order frequency shows a notable spike at 7 days ({days_since_prior_order_counts[7]} orders).\")\n",
    "print(f\"Average days between orders: {avg_days:.2f}\")\n",
    "print(f\"Median days between orders: {median_days:.2f}\")\n",
    "```"
   ]
  },
  {
   "cell_type": "markdown",
   "id": "discrete-vertex",
   "metadata": {
    "id": "discrete-vertex"
   },
   "source": [
    "The 0 values probably correspond to customers who placed more than one order on the same day.\n",
    "\n",
    "The max value of 30 days and the high spike at that value is puzzling though. The spike might be explained by people who set up recurring subscriptions to automatically order once a month. But that doesn't explain why there are no values above 30 days. I would expect many customers to place orders less often than once a month. Maybe those customers were intentionally excluded from the dataset."
   ]
  },
  {
   "cell_type": "markdown",
   "id": "8d926614",
   "metadata": {
    "id": "8d926614"
   },
   "source": [
    "Disregarding the spike at 30 days, most people wait between 2 to 10 days in between orders. The most common wait time is 7 days. In other words, it's common for people to place weekly grocery orders. Interestingly, in the tail of the distribution we also see small spikes at 14, 21, and 28 days. These would correspond to orders every 2, 3, or 4 weeks."
   ]
  },
  {
   "cell_type": "markdown",
   "id": "9f7bcf51-682c-4a01-9957-a173dfcdd733",
   "metadata": {},
   "source": [
    "<div class=\"alert alert-block alert-success\">\n",
    "<b>Reviewer's comment v1</b>\n",
    "\n",
    "You got correct results. "
   ]
  },
  {
   "cell_type": "markdown",
   "id": "tight-staff",
   "metadata": {
    "id": "tight-staff"
   },
   "source": [
    "# [B] Medium (must complete all to pass)"
   ]
  },
  {
   "cell_type": "markdown",
   "id": "packed-classic",
   "metadata": {
    "id": "packed-classic"
   },
   "source": [
    "### [B1] Is there a difference in `'order_hour_of_day'` distributions on Wednesdays and Saturdays? Plot the histograms for both days and describe the differences that you see.\n",
    "\n",
    "To determine if there’s a difference in the `order_hour_of_day` distributions on Wednesdays and Saturdays, follow these steps:\n",
    "\n",
    "1. **Create masks** for Wednesday (`order_dow == 3`) and Saturday (`order_dow == 6`) to filter the orders data.\n",
    "2. **Count the order hours** for each day using `.value_counts()` and sort them by hour with `.sort_index()` for clarity.\n",
    "3. **Combine the counts** for both days into a single DataFrame using `pd.concat()`, and label the columns for easier interpretation.\n",
    "\n",
    "After preparing the data, plot histograms for both days to visually compare the distribution of order times. Look for patterns such as peaks or differences in the busiest times."
   ]
  },
  {
   "cell_type": "code",
   "execution_count": 48,
   "id": "d89b8403",
   "metadata": {
    "id": "d89b8403"
   },
   "outputs": [],
   "source": [
    "#filter the days 3 and 6 (Wednesday to Saturday)\n",
    "wed_orders = orders[orders['order_dow'] == 3]\n",
    "sat_orders = orders[orders['order_dow'] == 6]\n"
   ]
  },
  {
   "cell_type": "code",
   "execution_count": 49,
   "id": "94e54e8a",
   "metadata": {
    "id": "94e54e8a"
   },
   "outputs": [
    {
     "name": "stdout",
     "output_type": "stream",
     "text": [
      "15    5163\n",
      "10    5026\n",
      "11    5004\n",
      "16    4976\n",
      "14    4774\n",
      "12    4688\n",
      "13    4674\n",
      "9     4490\n",
      "17    4175\n",
      "18    3463\n",
      "8     3125\n",
      "19    2652\n",
      "20    1917\n",
      "7     1732\n",
      "21    1450\n",
      "22    1154\n",
      "23     718\n",
      "6      643\n",
      "0      373\n",
      "1      215\n",
      "5      170\n",
      "4      108\n",
      "2      106\n",
      "3      101\n",
      "Name: order_hour_of_day, dtype: int64\n",
      "\n",
      "14    5375\n",
      "13    5323\n",
      "15    5188\n",
      "12    5132\n",
      "11    5116\n",
      "16    5029\n",
      "10    4919\n",
      "9     4311\n",
      "17    4295\n",
      "18    3338\n",
      "8     3246\n",
      "19    2610\n",
      "20    1847\n",
      "7     1619\n",
      "21    1473\n",
      "22    1185\n",
      "23     893\n",
      "0      464\n",
      "6      451\n",
      "1      254\n",
      "2      177\n",
      "5      161\n",
      "3      125\n",
      "4      118\n",
      "Name: order_hour_of_day, dtype: int64\n"
     ]
    }
   ],
   "source": [
    "#print value_counts() for wed and sat orders\n",
    "print(wed_orders['order_hour_of_day'].value_counts())\n",
    "print()\n",
    "print(sat_orders['order_hour_of_day'].value_counts())"
   ]
  },
  {
   "cell_type": "code",
   "execution_count": 50,
   "id": "797c90a8",
   "metadata": {
    "id": "797c90a8"
   },
   "outputs": [],
   "source": [
    "\n",
    "# Assign and sort_index by hour\n",
    "wed_hour_sort = wed_orders['order_hour_of_day'].value_counts().sort_index()\n",
    "sat_hour_sort = sat_orders['order_hour_of_day'].value_counts().sort_index()\n"
   ]
  },
  {
   "cell_type": "code",
   "execution_count": 51,
   "id": "35bcea30",
   "metadata": {
    "id": "35bcea30"
   },
   "outputs": [
    {
     "data": {
      "image/png": "[encoded data removed]",
      "text/plain": [
       "<Figure size 640x480 with 1 Axes>"
      ]
     },
     "metadata": {},
     "output_type": "display_data"
    }
   ],
   "source": [
    "days_hours_concat = pd.concat([wed_hour_sort,sat_hour_sort], axis = 'columns')\n",
    "plt.hist(wed_orders['order_hour_of_day'], bins=24, label='Wednesday', color ='green')\n",
    "plt.hist(sat_orders['order_hour_of_day'], bins=24, label = 'Saturday',color ='orange')\n",
    "plt.xlabel('hour of the day')\n",
    "plt.ylabel('# of orders')\n",
    "plt.title('Wednesday vs Saturday')\n",
    "plt.legend()\n",
    "plt.show()\n",
    "\n",
    "#had problems where it said xlabel was a string 'plt.xlabel = ' but wasn't the issue. Took an hour to figure out \n",
    "#I had to restart the Kernel\n",
    "#print(\"Type of plt.xlabel:\", type(plt.xlabel))\n",
    "#print(\"Value of plt.xlabel:\", plt.xlabel)\n"
   ]
  },
  {
   "cell_type": "markdown",
   "id": "charitable-congo",
   "metadata": {
    "id": "charitable-congo"
   },
   "source": [
    "There's a small dip from 11h to 13h on Wednesdays. This dip is absent on Saturdays. Maybe this dip can be attributed to people who don't use Instacart because they have lunch somewhere between 11h and 13h."
   ]
  },
  {
   "cell_type": "markdown",
   "id": "add534ac-104d-4a0b-b9ce-25c33d755ef4",
   "metadata": {},
   "source": [
    "<div class=\"alert alert-block alert-success\">\n",
    "<b>Reviewer's comment v1</b>\n",
    " \n",
    "Everything is correct here. \n"
   ]
  },
  {
   "cell_type": "markdown",
   "id": "6395d2c5-6135-48be-af87-21af08a8a756",
   "metadata": {
    "id": "e3891143"
   },
   "source": [
    "### [B2] What's the distribution for the number of orders per customer?\n",
    "\n",
    "To explore the distribution of the number of orders per customer:\n",
    "1. **Group the data** by `user_id` to calculate the total number of orders for each customer. Use `.groupby('user_id')` and count the `order_id` for each group.\n",
    "2. **Sort the results** using `.sort_values()` for better readability.\n",
    "3. **Visualize the distribution** using a histogram to observe how many orders most customers typically place.\n",
    "Adjust the number of bins in the histogram to refine the visualization and better capture the pattern."
   ]
  },
  {
   "cell_type": "code",
   "execution_count": 52,
   "id": "d8c26c23",
   "metadata": {
    "id": "d8c26c23"
   },
   "outputs": [
    {
     "name": "stdout",
     "output_type": "stream",
     "text": [
      "user_id\n",
      "2         2\n",
      "4         2\n",
      "5         1\n",
      "6         2\n",
      "7         2\n",
      "         ..\n",
      "206203    1\n",
      "206206    7\n",
      "206207    5\n",
      "206208    9\n",
      "206209    2\n",
      "Name: order_id, Length: 157437, dtype: int64\n",
      "\n",
      "user_id\n",
      "152331     1\n",
      "139876     1\n",
      "60408      1\n",
      "139873     1\n",
      "139871     1\n",
      "          ..\n",
      "66664     24\n",
      "148162    24\n",
      "78375     25\n",
      "193164    26\n",
      "149605    28\n",
      "Name: order_id, Length: 157437, dtype: int64\n"
     ]
    }
   ],
   "source": [
    "# assign variable to group by user_id with order_id\n",
    "group_orders = orders.groupby('user_id')['order_id'].count()\n",
    "print(group_orders)\n",
    "print()\n",
    "# assign variable to sort order_ids\n",
    "sort_group = group_orders.sort_values()\n",
    "print(sort_group)\n"
   ]
  },
  {
   "cell_type": "code",
   "execution_count": 53,
   "id": "00e69a66",
   "metadata": {
    "id": "00e69a66"
   },
   "outputs": [
    {
     "name": "stdout",
     "output_type": "stream",
     "text": [
      "149605    28\n",
      "193164    26\n",
      "78375     25\n",
      "148162    24\n",
      "66664     24\n",
      "          ..\n",
      "166116     1\n",
      "63564      1\n",
      "170214     1\n",
      "51274      1\n",
      "2047       1\n",
      "Name: user_id, Length: 157437, dtype: int64\n"
     ]
    },
    {
     "data": {
      "image/png": "[encoded data removed]",
      "text/plain": [
       "<Figure size 640x480 with 1 Axes>"
      ]
     },
     "metadata": {},
     "output_type": "display_data"
    }
   ],
   "source": [
    "\n",
    "\n",
    "# let's look at the value count for user_id\n",
    "print(orders['user_id'].value_counts())\n",
    "\n",
    "#Create hist graph\n",
    "sort_group.hist(bins=26)\n",
    "plt.title('Orders per customer')\n",
    "plt.xlabel('# of orders')\n",
    "plt.ylabel('# of customers')\n",
    "plt.ylim(0,56000)\n",
    "plt.show()\n",
    "\n",
    "\n",
    "\n"
   ]
  },
  {
   "cell_type": "markdown",
   "id": "ad67ff5b-51cf-45d2-8c2f-4b7c13ea97b1",
   "metadata": {},
   "source": [
    "<div class=\"alert alert-block alert-warning\">\n",
    "<b>Reviewer's comment v1</b>\n",
    " \n",
    "Additionally you could add a mean line to your histogram in the following way: \n",
    "    \n",
    "```\n",
    "mean_value = orders_per_customer.order_count.mean()\n",
    "plt.axvline(mean_value, color='red', linestyle='dashed', linewidth=2, label=f'Mean: {mean_value:.2f}')\n",
    "```"
   ]
  },
  {
   "cell_type": "code",
   "execution_count": 54,
   "id": "59d7bb48-1ca2-4761-ba1f-03e91129bf39",
   "metadata": {},
   "outputs": [
    {
     "name": "stdout",
     "output_type": "stream",
     "text": [
      "55357\n",
      "36508\n",
      "21547\n"
     ]
    }
   ],
   "source": [
    "\n",
    "# let's see how many customers order from just one to a few\n",
    "print((orders['user_id'].value_counts() == 1).sum())\n",
    "print((orders['user_id'].value_counts() == 2).sum())\n",
    "print((orders['user_id'].value_counts() == 3).sum())\n"
   ]
  },
  {
   "cell_type": "markdown",
   "id": "d2eff7d5",
   "metadata": {
    "id": "d2eff7d5"
   },
   "source": [
    "Most customers in the dataset have placed between 1 and 10 orders, with number of orders per customer sharply decreasing after just 1 order."
   ]
  },
  {
   "cell_type": "markdown",
   "id": "14483555-ff03-4d7d-859f-2ec8408d8073",
   "metadata": {},
   "source": [
    "<div class=\"alert alert-block alert-success\">\n",
    "<b>Reviewer's comment v1</b>\n",
    " \n",
    "Everything is correct here. "
   ]
  },
  {
   "cell_type": "markdown",
   "id": "54a0319c",
   "metadata": {
    "id": "54a0319c"
   },
   "source": [
    "### [B3] What are the top 20 popular products (display their id and name)?\n",
    "To identify the top 20 most popular products:\n",
    "1. **Merge the datasets**: Combine `order_products` and `products` on `product_id` to access both the product IDs and names in a single DataFrame.\n",
    "2. **Group the data**: Group by both `product_id` and `product_name` to aggregate the order counts for each product using `.size()`.\n",
    "3. **Sort the results**: Use `.sort_values(ascending=False)` to rank products by their popularity.\n",
    "4. **Display the top 20**: Use `.head(20)` to focus on the most frequently ordered products.\n",
    "5. **Visualize the results**: Create a bar chart to highlight the top products and their order counts.\n",
    "This will give you a clear view of the most popular products and their ranking.\n"
   ]
  },
  {
   "cell_type": "code",
   "execution_count": 55,
   "id": "exterior-arizona",
   "metadata": {
    "id": "exterior-arizona",
    "scrolled": true
   },
   "outputs": [
    {
     "name": "stdout",
     "output_type": "stream",
     "text": [
      "<class 'pandas.core.frame.DataFrame'>\n",
      "RangeIndex: 4545007 entries, 0 to 4545006\n",
      "Data columns (total 4 columns):\n",
      " #   Column             Dtype\n",
      "---  ------             -----\n",
      " 0   order_id           int64\n",
      " 1   product_id         int64\n",
      " 2   add_to_cart_order  int64\n",
      " 3   reordered          int64\n",
      "dtypes: int64(4)\n",
      "memory usage: 138.7 MB\n",
      "\n",
      "<class 'pandas.core.frame.DataFrame'>\n",
      "Int64Index: 48333 entries, 0 to 49687\n",
      "Data columns (total 4 columns):\n",
      " #   Column         Non-Null Count  Dtype \n",
      "---  ------         --------------  ----- \n",
      " 0   product_id     48333 non-null  int64 \n",
      " 1   product_name   48333 non-null  object\n",
      " 2   aisle_id       48333 non-null  int64 \n",
      " 3   department_id  48333 non-null  int64 \n",
      "dtypes: int64(3), object(1)\n",
      "memory usage: 1.8+ MB\n"
     ]
    }
   ],
   "source": [
    "# refresher of what columns we have in order_products\n",
    "order_products.info()\n",
    "print()\n",
    "products.info()"
   ]
  },
  {
   "cell_type": "code",
   "execution_count": 56,
   "id": "b481afeb-85ca-4c5f-8d48-7f725ca1084e",
   "metadata": {},
   "outputs": [
    {
     "name": "stdout",
     "output_type": "stream",
     "text": [
      "         order_id  product_id  add_to_cart_order  reordered  \\\n",
      "0         2141543       11440                 17          0   \n",
      "1          147172       11440                  7          1   \n",
      "2         3341719       11440                  4          1   \n",
      "3         1938779       11440                  8          1   \n",
      "4         1728338       11440                 23          0   \n",
      "...           ...         ...                ...        ...   \n",
      "4524190    267402       45226                 14          0   \n",
      "4524191   2621676       25201                 10          0   \n",
      "4524192    937623       49153                  2          0   \n",
      "4524193    532895        8182                  1          0   \n",
      "4524194   3132243       40024                  1          0   \n",
      "\n",
      "                               product_name  aisle_id  department_id  \n",
      "0            chicken breast tenders breaded       129              1  \n",
      "1            chicken breast tenders breaded       129              1  \n",
      "2            chicken breast tenders breaded       129              1  \n",
      "3            chicken breast tenders breaded       129              1  \n",
      "4            chicken breast tenders breaded       129              1  \n",
      "...                                     ...       ...            ...  \n",
      "4524190   sweet teriyaki chicken oven sauce         5             13  \n",
      "4524191          crisp waters candle scents       101             17  \n",
      "4524192  shine collection brillance shampoo        22             11  \n",
      "4524193    total mint stripe gel toothpaste        20             11  \n",
      "4524194                 egg replacer powder        17             13  \n",
      "\n",
      "[4524195 rows x 7 columns]\n"
     ]
    }
   ],
   "source": [
    "\n",
    "#Combine order_products and products on product_id to access both the product IDs and names in a single DataFrame.\n",
    "merge = order_products.merge(products, on='product_id')\n",
    "print (merge)\n"
   ]
  },
  {
   "cell_type": "code",
   "execution_count": 57,
   "id": "bbcdd20b",
   "metadata": {
    "id": "bbcdd20b"
   },
   "outputs": [
    {
     "name": "stdout",
     "output_type": "stream",
     "text": [
      "product_id  product_name                                                     \n",
      "1           chocolate sandwich cookies                                           280\n",
      "2           all-seasons salt                                                      11\n",
      "3           robust golden unsweetened oolong tea                                  42\n",
      "4           smart ones classic favorites mini rigatoni with vodka cream sauce     49\n",
      "7           pure coconut water with orange                                         2\n",
      "                                                                                ... \n",
      "49684       vodka- triple distilled- twist of vanilla                              1\n",
      "49685       en croute roast hazelnut cranberry                                     2\n",
      "49686       artisan baguette                                                      24\n",
      "49687       smartblend healthy metabolism dry cat food                             1\n",
      "49688       fresh foaming cleanser                                                 9\n",
      "Length: 44516, dtype: int64\n"
     ]
    }
   ],
   "source": [
    "\n",
    "#Group by both product_id and product_name to aggregate the order counts for each product using .size().\n",
    "group_product = merge.groupby(['product_id','product_name']).size()\n",
    "\n",
    "print(group_product)\n",
    "\n"
   ]
  },
  {
   "cell_type": "code",
   "execution_count": 58,
   "id": "35012ef7-9b06-469c-a396-51f58449df0f",
   "metadata": {},
   "outputs": [
    {
     "name": "stdout",
     "output_type": "stream",
     "text": [
      "product_id  product_name            \n",
      "24852       banana                      66050\n",
      "13176       bag of organic bananas      53297\n",
      "21137       organic strawberries        37039\n",
      "21903       organic baby spinach        33971\n",
      "47209       organic hass avocado        29773\n",
      "47766       organic avocado             24689\n",
      "47626       large lemon                 21495\n",
      "16797       strawberries                20018\n",
      "26209       limes                       19690\n",
      "27845       organic whole milk          19600\n",
      "27966       organic raspberries         19197\n",
      "22935       organic yellow onion        15898\n",
      "24964       organic garlic              15292\n",
      "45007       organic zucchini            14584\n",
      "39275       organic blueberries         13879\n",
      "49683       cucumber kirby              13675\n",
      "28204       organic fuji apple          12544\n",
      "5876        organic lemon               12232\n",
      "8277        apple honeycrisp organic    11993\n",
      "40706       organic grape tomatoes      11781\n",
      "dtype: int64\n"
     ]
    }
   ],
   "source": [
    "\n",
    "#Use .sort_values(ascending=False) to rank products by their popularity\n",
    "sort_group_product = group_product.sort_values(ascending=False) \n",
    "\n",
    "#Use .head(20) to focus on the most frequently ordered products.\n",
    "top_20 = sort_group_product.head(20)\n",
    "print(top_20)\n"
   ]
  },
  {
   "cell_type": "code",
   "execution_count": 59,
   "id": "5dbea99f-8b30-4d5a-a88b-a3637979e5a0",
   "metadata": {},
   "outputs": [
    {
     "data": {
      "image/png": "[encoded data removed]",
      "text/plain": [
       "<Figure size 640x480 with 1 Axes>"
      ]
     },
     "metadata": {},
     "output_type": "display_data"
    }
   ],
   "source": [
    "top_20.plot(kind='bar')\n",
    "plt.title('Top 20 Products')\n",
    "plt.xlabel('# of orders')\n",
    "plt.ylabel('Product Name')\n",
    "plt.show()"
   ]
  },
  {
   "cell_type": "markdown",
   "id": "7df00f47",
   "metadata": {
    "id": "7df00f47"
   },
   "source": [
    "The top 20 items are all produce, except for the milk. Looks like people want delicious and nutritious! * I don't see milk in the top 20 list, am I missing something from the data??**"
   ]
  },
  {
   "cell_type": "markdown",
   "id": "605d809c-1aae-42e0-85bb-399a7489b1c5",
   "metadata": {},
   "source": [
    "<div class=\"alert alert-block alert-success\">\n",
    "<b>Reviewer's comment v1</b>\n",
    " \n",
    "Well done! Correct results and graph. \n",
    "\n",
    "As a second approach you could also try a horizontal bar plot. \n",
    "\n",
    "```python\n",
    "plt.barh(top_products_sorted['product_name'], top_products_sorted['order_count'], color='skyblue')\n",
    "``` "
   ]
  },
  {
   "cell_type": "markdown",
   "id": "f4d10df8-298e-4e08-95e3-c6f7d48a9862",
   "metadata": {
    "id": "f4a2af09"
   },
   "source": [
    "### I know I was only suppose to do only 2 but wanted to try all 5. Looking forward on your feedback! :)"
   ]
  },
  {
   "cell_type": "markdown",
   "id": "a188a634-adbf-4d72-8ba6-ec2e404470b5",
   "metadata": {},
   "source": [
    "<div class=\"alert alert-block alert-success\">\n",
    "<b>Reviewer's comment v1</b>\n",
    " \n",
    "That’s fantastic! I really appreciate your enthusiasm. Let's have a look 🤩"
   ]
  },
  {
   "cell_type": "markdown",
   "id": "gross-theme",
   "metadata": {
    "id": "gross-theme"
   },
   "source": [
    "# [C] Hard (must complete at least two to pass)"
   ]
  },
  {
   "cell_type": "markdown",
   "id": "romantic-deposit",
   "metadata": {
    "id": "romantic-deposit"
   },
   "source": [
    "### [C1] How many items do people typically buy in one order? What does the distribution look like?\n",
    "To analyze how many items people typically buy in one order:\n",
    "\n",
    "1. **Group the data** by `order_id` and count the number of products (`product_id`) in each order using `.count()`. This gives the number of items in each order.\n",
    "2. **Aggregate the counts**: Use `.value_counts()` to determine how frequently different order sizes occur, and then sort the results with `.sort_index()` to organize by the number of items.\n",
    "3. **Visualize the distribution**: Use a bar plot to show the frequency of orders for each size, with the x-axis representing the number of items and the y-axis representing the number of orders.\n",
    "\n",
    "This will help you understand the typical size of a grocery order and identify any trends in purchasing behavior."
   ]
  },
  {
   "cell_type": "code",
   "execution_count": 60,
   "id": "virtual-punch",
   "metadata": {
    "id": "virtual-punch"
   },
   "outputs": [
    {
     "name": "stdout",
     "output_type": "stream",
     "text": [
      "order_id\n",
      "4          13\n",
      "9          15\n",
      "11          5\n",
      "19          3\n",
      "20          8\n",
      "           ..\n",
      "3421034    17\n",
      "3421053     9\n",
      "3421071     5\n",
      "3421077     4\n",
      "3421079     1\n",
      "Name: product_id, Length: 450046, dtype: int64\n"
     ]
    }
   ],
   "source": [
    "# Group the data by order_id and count the number of products (product_id) in each order using .count(). This gives the number of items in each order.\n",
    "bulk_order = order_products.groupby('order_id')['product_id'].count()\n",
    "print(bulk_order)\n"
   ]
  },
  {
   "cell_type": "code",
   "execution_count": 61,
   "id": "sensitive-breathing",
   "metadata": {
    "id": "sensitive-breathing"
   },
   "outputs": [
    {
     "name": "stdout",
     "output_type": "stream",
     "text": [
      "1      21847\n",
      "2      26292\n",
      "3      29046\n",
      "4      31054\n",
      "5      31923\n",
      "       ...  \n",
      "98         1\n",
      "104        1\n",
      "108        1\n",
      "115        1\n",
      "127        1\n",
      "Name: product_id, Length: 90, dtype: int64\n"
     ]
    }
   ],
   "source": [
    "# Use .value_counts() to determine how frequently different order sizes occur, and then sort the results with .sort_index() to organize by the number of items.\n",
    "bulk_ct = bulk_order.value_counts().sort_index()\n",
    "print(bulk_ct)"
   ]
  },
  {
   "cell_type": "markdown",
   "id": "bd4ed530",
   "metadata": {
    "id": "bd4ed530"
   },
   "source": [
    "Most of the order numbers are in the tail of the distribution. To get a better look at the non-tail part, let's choose a value in the tail as a cutoff and just plot order with fewer than that many items. An order size of 35 items is far enough into the tail for this."
   ]
  },
  {
   "cell_type": "code",
   "execution_count": 62,
   "id": "completed-frank",
   "metadata": {
    "id": "completed-frank"
   },
   "outputs": [
    {
     "data": {
      "image/png": "[encoded data removed]",
      "text/plain": [
       "<Figure size 1200x600 with 1 Axes>"
      ]
     },
     "metadata": {},
     "output_type": "display_data"
    }
   ],
   "source": [
    "# Use a bar plot to show the frequency of orders for each size, with the x-axis representing the number of items and the y-axis representing the number of orders.\n",
    "bulk_ct.plot(kind='bar',figsize=(12,6))\n",
    "plt.title('# of items per order')\n",
    "plt.xlabel('# of Items in Order')\n",
    "plt.ylabel('# of orders')\n",
    "plt.xlim(0,50)\n",
    "plt.show()"
   ]
  },
  {
   "cell_type": "markdown",
   "id": "designed-mortality",
   "metadata": {
    "id": "designed-mortality"
   },
   "source": [
    "The typical order contains 5 or 6 items, with most orders having between 1 and 20 items."
   ]
  },
  {
   "cell_type": "markdown",
   "id": "7320c264-4352-4117-9fde-5f454e1a345e",
   "metadata": {},
   "source": [
    "<div class=\"alert alert-block alert-warning\">\n",
    "<b>Reviewer's comment v1</b>\n",
    " \n",
    "Usually, a histogram is better suited for plotting a distribution than a bar chart because histograms are specifically designed to display the frequency of data within continuous intervals (bins). This allows you to see the shape and spread of the data distribution more clearly, whereas bar charts are typically used for comparing discrete categories."
   ]
  },
  {
   "cell_type": "markdown",
   "id": "5e6b5537",
   "metadata": {
    "id": "5e6b5537"
   },
   "source": [
    "### [C2] What are the top 20 items that are reordered most frequently (display their names and product IDs)?\n",
    "\n",
    "To find the top 20 most frequently reordered items:\n",
    "\n",
    "1. **Filter the data**: Use `order_products['reordered'] == 1` to isolate only the products that have been reordered.\n",
    "2. **Merge the datasets**: Combine the filtered `order_products` with the `products` dataset on `product_id` to get both the product names and IDs.\n",
    "3. **Group the data**: Group by both `product_id` and `product_name` to calculate how many times each product was reordered, using `.size()`.\n",
    "4. **Sort the results**: Use `.sort_values(ascending=False)` to rank the products by reorder frequency.\n",
    "5. **Display the top 20**: Use `.head(20)` to focus on the most frequently reordered products.\n",
    "6. **Visualize the data**: Create a bar chart to showcase the top reordered items and their frequencies.\n",
    "\n",
    "This process highlights the products that customers consistently return to and reorder."
   ]
  },
  {
   "cell_type": "code",
   "execution_count": 63,
   "id": "9374e55a",
   "metadata": {
    "id": "9374e55a"
   },
   "outputs": [
    {
     "name": "stdout",
     "output_type": "stream",
     "text": [
      "         order_id  product_id  add_to_cart_order  reordered\n",
      "1          567889        1560                  1          1\n",
      "2         2261212       26683                  1          1\n",
      "3          491251        8670                 35          1\n",
      "4         2571142        1940                  5          1\n",
      "5         2456893       21616                  4          1\n",
      "...           ...         ...                ...        ...\n",
      "4544999   1622300       24852                  1          1\n",
      "4545000   1125324       40600                  6          1\n",
      "4545002    577211       15290                 12          1\n",
      "4545004    692640       47766                  4          1\n",
      "4545005    319435         691                  8          1\n",
      "\n",
      "[2683838 rows x 4 columns]\n"
     ]
    }
   ],
   "source": [
    "\n",
    "# Use order_products['reordered'] == 1 to isolate only the products that have been reordered.\n",
    "reorder = order_products[order_products['reordered'] == 1]\n",
    "\n",
    "print(reorder)\n"
   ]
  },
  {
   "cell_type": "code",
   "execution_count": 64,
   "id": "possible-change",
   "metadata": {
    "id": "possible-change",
    "scrolled": true
   },
   "outputs": [
    {
     "name": "stdout",
     "output_type": "stream",
     "text": [
      "         order_id  product_id  add_to_cart_order  reordered  \\\n",
      "0          567889        1560                  1          1   \n",
      "1          761899        1560                  2          1   \n",
      "2         1388514        1560                  8          1   \n",
      "3         2629631        1560                  1          1   \n",
      "4          866921        1560                  6          1   \n",
      "...           ...         ...                ...        ...   \n",
      "2674347   1338379       33506                  3          1   \n",
      "2674348    191894       27878                  3          1   \n",
      "2674349   3041739       31751                 14          1   \n",
      "2674350    949244       24384                 18          1   \n",
      "2674351   1078099       47673                 11          1   \n",
      "\n",
      "                                              product_name  aisle_id  \\\n",
      "0                                               bag of ice        37   \n",
      "1                                               bag of ice        37   \n",
      "2                                               bag of ice        37   \n",
      "3                                               bag of ice        37   \n",
      "4                                               bag of ice        37   \n",
      "...                                                    ...       ...   \n",
      "2674347  simply 9 white meat chicken & whole barley rec...        40   \n",
      "2674348        crackers wheat sundried tomato basil crispy        78   \n",
      "2674349                       french style cut green beans       116   \n",
      "2674350                        invisible matte finish tape        10   \n",
      "2674351         toast chee peanut butter sandwich crackers        78   \n",
      "\n",
      "         department_id  \n",
      "0                    1  \n",
      "1                    1  \n",
      "2                    1  \n",
      "3                    1  \n",
      "4                    1  \n",
      "...                ...  \n",
      "2674347              8  \n",
      "2674348             19  \n",
      "2674349              1  \n",
      "2674350             17  \n",
      "2674351             19  \n",
      "\n",
      "[2674352 rows x 7 columns]\n"
     ]
    }
   ],
   "source": [
    "#Combine the filtered order_products with the products dataset on product_id to get both the product names and IDs.\n",
    "product_reorder = reorder.merge(products, on ='product_id')\n",
    "print(product_reorder)"
   ]
  },
  {
   "cell_type": "code",
   "execution_count": 65,
   "id": "professional-surfing",
   "metadata": {
    "id": "professional-surfing",
    "scrolled": true
   },
   "outputs": [
    {
     "name": "stdout",
     "output_type": "stream",
     "text": [
      "product_id  product_name                                                     \n",
      "1           chocolate sandwich cookies                                            158\n",
      "3           robust golden unsweetened oolong tea                                   31\n",
      "4           smart ones classic favorites mini rigatoni with vodka cream sauce      25\n",
      "7           pure coconut water with orange                                          1\n",
      "8           cut russet potatoes steam n' mash                                       6\n",
      "                                                                                 ... \n",
      "49682       california limeade                                                      6\n",
      "49683       cucumber kirby                                                       9538\n",
      "49685       en croute roast hazelnut cranberry                                      1\n",
      "49686       artisan baguette                                                       15\n",
      "49688       fresh foaming cleanser                                                  1\n",
      "Length: 35639, dtype: int64\n"
     ]
    }
   ],
   "source": [
    "# Group by both product_id and product_name to calculate how many times each product was reordered, using .size().\n",
    "reorder_count = product_reorder.groupby(['product_id','product_name']).size()\n",
    "print(reorder_count)"
   ]
  },
  {
   "cell_type": "code",
   "execution_count": 66,
   "id": "48dd3658",
   "metadata": {
    "id": "48dd3658"
   },
   "outputs": [
    {
     "name": "stdout",
     "output_type": "stream",
     "text": [
      "product_id  product_name                                             \n",
      "24852       banana                                                       55763\n",
      "13176       bag of organic bananas                                       44450\n",
      "21137       organic strawberries                                         28639\n",
      "21903       organic baby spinach                                         26233\n",
      "47209       organic hass avocado                                         23629\n",
      "                                                                         ...  \n",
      "28081       whole wheat with white cheddar filling cracker sandwiches        1\n",
      "28084       cote d azur french milled oval bar soap                          1\n",
      "28089       rolled hot cereal 5 grain                                        1\n",
      "28112       hickory &  brown sugar barbecue sauce                            1\n",
      "49688       fresh foaming cleanser                                           1\n",
      "Length: 35639, dtype: int64\n"
     ]
    }
   ],
   "source": [
    "# Use .sort_values(ascending=False) to rank the products by reorder frequency.\n",
    "sort_reorder_count = reorder_count.sort_values(ascending=False)\n",
    "print(sort_reorder_count)"
   ]
  },
  {
   "cell_type": "code",
   "execution_count": 67,
   "id": "afa73ece-4d19-4d4d-815f-c1adb259cf08",
   "metadata": {},
   "outputs": [
    {
     "name": "stdout",
     "output_type": "stream",
     "text": [
      "product_id  product_name            \n",
      "24852       banana                      66050\n",
      "13176       bag of organic bananas      53297\n",
      "21137       organic strawberries        37039\n",
      "21903       organic baby spinach        33971\n",
      "47209       organic hass avocado        29773\n",
      "47766       organic avocado             24689\n",
      "47626       large lemon                 21495\n",
      "16797       strawberries                20018\n",
      "26209       limes                       19690\n",
      "27845       organic whole milk          19600\n",
      "27966       organic raspberries         19197\n",
      "22935       organic yellow onion        15898\n",
      "24964       organic garlic              15292\n",
      "45007       organic zucchini            14584\n",
      "39275       organic blueberries         13879\n",
      "49683       cucumber kirby              13675\n",
      "28204       organic fuji apple          12544\n",
      "5876        organic lemon               12232\n",
      "8277        apple honeycrisp organic    11993\n",
      "40706       organic grape tomatoes      11781\n",
      "dtype: int64\n"
     ]
    }
   ],
   "source": [
    "# Use .head(20) to focus on the most frequently reordered products.\n",
    "top_20_reorder = sort_reorder_count.head(20)\n",
    "print(top_20)"
   ]
  },
  {
   "cell_type": "code",
   "execution_count": 68,
   "id": "f9e3f504-f462-4dd9-a64b-c8796d26ab36",
   "metadata": {},
   "outputs": [
    {
     "data": {
      "image/png": "[encoded data removed]",
      "text/plain": [
       "<Figure size 640x480 with 1 Axes>"
      ]
     },
     "metadata": {},
     "output_type": "display_data"
    }
   ],
   "source": [
    "# Create a bar chart to showcase the top reordered items and their frequencies.\n",
    "top_20_reorder.plot(kind = 'bar')\n",
    "plt.title('Top 20 reordered items')\n",
    "plt.xlabel('items')\n",
    "plt.ylabel('# of times purchased')\n",
    "plt.show()"
   ]
  },
  {
   "cell_type": "markdown",
   "id": "80e70c74",
   "metadata": {
    "id": "80e70c74"
   },
   "source": [
    "It looks like produce and dairy comprise the most reordered products as well. It makes sense that perishables would be the most reordered items."
   ]
  },
  {
   "cell_type": "markdown",
   "id": "2b43e2d5-60a1-46da-bc9f-a5c0ea357e4d",
   "metadata": {},
   "source": [
    "<div class=\"alert alert-block alert-success\">\n",
    "<b>Reviewer's comment v1</b>\n",
    " \n",
    "Correct results and conclusions 💫"
   ]
  },
  {
   "cell_type": "markdown",
   "id": "9d312b14",
   "metadata": {
    "id": "9d312b14"
   },
   "source": [
    "### [C3] For each product, what proportion of its orders are reorders?\n",
    "\n",
    "To calculate the proportion of orders for each product that are reorders:\n",
    "1. **Merge the datasets**: Combine `order_products` with the `products` dataset to access product names and IDs in the same DataFrame.\n",
    "2. **Group the data**: Group by `product_id` and `product_name` to isolate each product's order history.\n",
    "3. **Calculate the mean of `reordered`**: Use `.mean()` on the `reordered` column to compute the proportion of orders for each product that were reorders. The value represents the reorder rate.\n",
    "4. **Sort the results**: Use `.sort_values(ascending=False)` to rank products by their reorder rates.\n",
    "5. **Convert to a DataFrame**: Use `.reset_index()` to organize the grouped data into a readable DataFrame.\n",
    "6. **Optional Sorting**: Sort the results by `product_id` or another column for better clarity.\n",
    "\n",
    "This approach provides insights into how frequently each product is reordered, helping identify customer favorites or staples.\n"
   ]
  },
  {
   "cell_type": "code",
   "execution_count": 69,
   "id": "e242b4ad-d375-435d-a8a8-135499893107",
   "metadata": {},
   "outputs": [
    {
     "name": "stdout",
     "output_type": "stream",
     "text": [
      "<class 'pandas.core.frame.DataFrame'>\n",
      "RangeIndex: 4545007 entries, 0 to 4545006\n",
      "Data columns (total 4 columns):\n",
      " #   Column             Dtype\n",
      "---  ------             -----\n",
      " 0   order_id           int64\n",
      " 1   product_id         int64\n",
      " 2   add_to_cart_order  int64\n",
      " 3   reordered          int64\n",
      "dtypes: int64(4)\n",
      "memory usage: 138.7 MB\n"
     ]
    }
   ],
   "source": [
    "# Refresher on the columns in ordre_products csv file\n",
    "order_products.info()"
   ]
  },
  {
   "cell_type": "code",
   "execution_count": 70,
   "id": "8ae9f4b1",
   "metadata": {
    "id": "8ae9f4b1"
   },
   "outputs": [
    {
     "name": "stdout",
     "output_type": "stream",
     "text": [
      "         order_id  product_id  add_to_cart_order  reordered  \\\n",
      "0         2141543       11440                 17          0   \n",
      "1          147172       11440                  7          1   \n",
      "2         3341719       11440                  4          1   \n",
      "3         1938779       11440                  8          1   \n",
      "4         1728338       11440                 23          0   \n",
      "...           ...         ...                ...        ...   \n",
      "4524190    267402       45226                 14          0   \n",
      "4524191   2621676       25201                 10          0   \n",
      "4524192    937623       49153                  2          0   \n",
      "4524193    532895        8182                  1          0   \n",
      "4524194   3132243       40024                  1          0   \n",
      "\n",
      "                               product_name  aisle_id  department_id  \n",
      "0            chicken breast tenders breaded       129              1  \n",
      "1            chicken breast tenders breaded       129              1  \n",
      "2            chicken breast tenders breaded       129              1  \n",
      "3            chicken breast tenders breaded       129              1  \n",
      "4            chicken breast tenders breaded       129              1  \n",
      "...                                     ...       ...            ...  \n",
      "4524190   sweet teriyaki chicken oven sauce         5             13  \n",
      "4524191          crisp waters candle scents       101             17  \n",
      "4524192  shine collection brillance shampoo        22             11  \n",
      "4524193    total mint stripe gel toothpaste        20             11  \n",
      "4524194                 egg replacer powder        17             13  \n",
      "\n",
      "[4524195 rows x 7 columns]\n"
     ]
    }
   ],
   "source": [
    "# Combine order_products with the products dataset to access product names and IDs in the same DataFrame.\n",
    "merge_products = order_products.merge(products, on='product_id')\n",
    "print(merge_products)"
   ]
  },
  {
   "cell_type": "code",
   "execution_count": 71,
   "id": "be4418bc-489c-4a2c-828c-4e9a05395ba6",
   "metadata": {},
   "outputs": [
    {
     "name": "stdout",
     "output_type": "stream",
     "text": [
      "product_id  product_name                                                     \n",
      "1           chocolate sandwich cookies                                           0.564286\n",
      "2           all-seasons salt                                                     0.000000\n",
      "3           robust golden unsweetened oolong tea                                 0.738095\n",
      "4           smart ones classic favorites mini rigatoni with vodka cream sauce    0.510204\n",
      "7           pure coconut water with orange                                       0.500000\n",
      "                                                                                   ...   \n",
      "49684       vodka- triple distilled- twist of vanilla                            0.000000\n",
      "49685       en croute roast hazelnut cranberry                                   0.500000\n",
      "49686       artisan baguette                                                     0.625000\n",
      "49687       smartblend healthy metabolism dry cat food                           0.000000\n",
      "49688       fresh foaming cleanser                                               0.111111\n",
      "Name: reordered, Length: 44516, dtype: float64\n"
     ]
    }
   ],
   "source": [
    "# Group by product_id and product_name to isolate each product's order history.\n",
    "group_products = merge_products.groupby(['product_id','product_name'])['reordered'].mean()\n",
    "\n",
    "#This should display the average reordered column per product_name.The value represents the reorder rate. Why am I getting a dupe output? \n",
    "print(group_products)"
   ]
  },
  {
   "cell_type": "code",
   "execution_count": 72,
   "id": "social-individual",
   "metadata": {
    "id": "social-individual"
   },
   "outputs": [
    {
     "name": "stdout",
     "output_type": "stream",
     "text": [
      "product_id  product_name                              \n",
      "18121       jalapenos with sea salt                       1.0\n",
      "27387       banana greek nonfat yogurt                    1.0\n",
      "17773       quinoa- with olive oil                        1.0\n",
      "49063       rosemary & sea salt crackers                  1.0\n",
      "14935       kombucha blueberry basil                      1.0\n",
      "                                                         ... \n",
      "25053       frost arctic blitz sports drink               0.0\n",
      "25051       herb for beef gravy mix                       0.0\n",
      "25045       bandages- waterproof                          0.0\n",
      "25044       pure pacific mountain strawberry preserves    0.0\n",
      "24793       sea salt- course                              0.0\n",
      "Name: reordered, Length: 44516, dtype: float64\n"
     ]
    }
   ],
   "source": [
    "# Use .sort_values(ascending=False) to rank products by their reorder rates.\n",
    "sorted_group_products = group_products.sort_values(ascending=False)\n",
    "print(sorted_group_products)"
   ]
  },
  {
   "cell_type": "code",
   "execution_count": 73,
   "id": "c1f0aaf7-91bf-4c12-a729-df2889fc54a1",
   "metadata": {},
   "outputs": [
    {
     "name": "stdout",
     "output_type": "stream",
     "text": [
      "       product_id                                product_name  reordered\n",
      "0           18121                     jalapenos with sea salt        1.0\n",
      "1           27387                  banana greek nonfat yogurt        1.0\n",
      "2           17773                      quinoa- with olive oil        1.0\n",
      "3           49063                rosemary & sea salt crackers        1.0\n",
      "4           14935                    kombucha blueberry basil        1.0\n",
      "...           ...                                         ...        ...\n",
      "44511       25053             frost arctic blitz sports drink        0.0\n",
      "44512       25051                     herb for beef gravy mix        0.0\n",
      "44513       25045                        bandages- waterproof        0.0\n",
      "44514       25044  pure pacific mountain strawberry preserves        0.0\n",
      "44515       24793                            sea salt- course        0.0\n",
      "\n",
      "[44516 rows x 3 columns]\n"
     ]
    }
   ],
   "source": [
    "# Use .reset_index() to organize the grouped data into a readable DataFrame.\n",
    "reset_group_products = sorted_group_products.reset_index()\n",
    "print(reset_group_products)"
   ]
  },
  {
   "cell_type": "code",
   "execution_count": 74,
   "id": "0f681f5b-5407-4d8d-b238-4b352326af8e",
   "metadata": {},
   "outputs": [
    {
     "name": "stdout",
     "output_type": "stream",
     "text": [
      "product_id  product_name                                  \n",
      "1623        hot nacho sliced jalapenos                          2\n",
      "2729        diced jalapenos                                    56\n",
      "3507        cheddar cheese stuffed jalapenos poppers            5\n",
      "4293        sliced jalapenos in escabeche                       2\n",
      "7119        crispy jalapenos                                    4\n",
      "7360        jalapenos- nacho sliced                            20\n",
      "8272        refried beans- with jalapenos                      10\n",
      "18121       jalapenos with sea salt                             1\n",
      "19825       black beans with diced jalapenos                   12\n",
      "20551       pickled jalapenos                                   1\n",
      "24100       cheese spread with jalapenos                        7\n",
      "25395       pinto beans with jalapenos                          4\n",
      "28298       sliced hot nacho jalapenos                          1\n",
      "33703       jalapenos chiles whole                              1\n",
      "34196       stuffed jalapenos with cream cheese                 7\n",
      "37008       hot bean dip with jalapenos peppers                 6\n",
      "38435       cheddar cheese stuffed jalapenos                    5\n",
      "38442       whole jalapenos in escabeche                        1\n",
      "42805       sliced jalapenos                                   33\n",
      "45819       nacho sliced jalapenos                            171\n",
      "46940       cream cheese stuffed jalapenos poppers              3\n",
      "47072       petite cut diced tomatoes with zesty jalapenos      9\n",
      "49551       lightly salted crispy jalapenos                     6\n",
      "dtype: int64\n",
      "\n",
      "product_id  product_name                                                                       \n",
      "212         organic blue corn sea salt tortilla chips                                              37\n",
      "683         town house sea salt & olive oil flatbread crisps                                       16\n",
      "756         malt vinegar & sea salt kettle cooked potato chips                                     25\n",
      "1015        original herbamare infused sea salt                                                    13\n",
      "1100        balanced breaks white cheddar with sea salted roasted almonds and dried cranberries    30\n",
      "                                                                                                   ..\n",
      "48878       kale & sea salt popcorn                                                                85\n",
      "49063       rosemary & sea salt crackers                                                            3\n",
      "49210       snack box to go traditional hummus sea salt pita chips                                  2\n",
      "49290       protection magickal mineral bath salts with natural sea salt & pure essential oils      5\n",
      "49400       pumpkin seeds- heirloom- organic- with a bit of sea salt                                1\n",
      "Length: 385, dtype: int64\n"
     ]
    }
   ],
   "source": [
    "# Check how many times each product was ordered, investigating and coming with possibilities as to why the reordered rate is 100%\n",
    "# Investigating the 100% reordered rates to see whether the number of items is small\n",
    "product_order_counts = merge_products.groupby(['product_id','product_name']).size()\n",
    "print(product_order_counts[product_order_counts.index.get_level_values('product_name').str.contains('jalapenos')])## asked DOT regarding the bunch of 100% \n",
    "#/n reordered rates and gave analysis points and gave me the following code to test: jalapenos with sea salt was only bought one time \n",
    "print()\n",
    "# Let's try sea salt\n",
    "print(product_order_counts[product_order_counts.index.get_level_values('product_name').str.contains('sea salt')])"
   ]
  },
  {
   "cell_type": "code",
   "execution_count": 75,
   "id": "b7bd4a31-cb04-49ec-b0e3-a9da0c7199d0",
   "metadata": {},
   "outputs": [
    {
     "name": "stdout",
     "output_type": "stream",
     "text": [
      "       product_id                                       product_name  \\\n",
      "34870       49688                             fresh foaming cleanser   \n",
      "38360       49687         smartblend healthy metabolism dry cat food   \n",
      "8600        49686                                   artisan baguette   \n",
      "17853       49685                 en croute roast hazelnut cranberry   \n",
      "38357       49684          vodka- triple distilled- twist of vanilla   \n",
      "...           ...                                                ...   \n",
      "17908           7                     pure coconut water with orange   \n",
      "14764           4  smart ones classic favorites mini rigatoni wit...   \n",
      "3746            3               robust golden unsweetened oolong tea   \n",
      "44430           2                                   all-seasons salt   \n",
      "11957           1                         chocolate sandwich cookies   \n",
      "\n",
      "       reordered  \n",
      "34870   0.111111  \n",
      "38360   0.000000  \n",
      "8600    0.625000  \n",
      "17853   0.500000  \n",
      "38357   0.000000  \n",
      "...          ...  \n",
      "17908   0.500000  \n",
      "14764   0.510204  \n",
      "3746    0.738095  \n",
      "44430   0.000000  \n",
      "11957   0.564286  \n",
      "\n",
      "[44516 rows x 3 columns]\n"
     ]
    }
   ],
   "source": [
    "# Sort the results by product_id or another column for better clarity\n",
    "sort_id = reset_group_products.sort_values(by='product_id', ascending=False)\n",
    "print(sort_id)"
   ]
  },
  {
   "cell_type": "markdown",
   "id": "bf313ca2-1d48-4380-af30-29cc428b164c",
   "metadata": {},
   "source": [
    "<div class=\"alert alert-block alert-success\">\n",
    "<b>Reviewer's comment v1</b>\n",
    " \n",
    "Everything is correct here. "
   ]
  },
  {
   "cell_type": "markdown",
   "id": "subject-boxing",
   "metadata": {
    "id": "subject-boxing"
   },
   "source": [
    "### [C4] For each customer, what proportion of their products ordered are reorders?\n",
    "\n",
    "To calculate the proportion of products reordered by each customer:\n",
    "\n",
    "1. **Merge the datasets**: Combine `order_products` with `orders` to link order and customer information.\n",
    "2. **Group the data**: Group by `user_id` to focus on each customer's ordering behavior.\n",
    "3. **Calculate the mean of `reordered`**: Use `.mean()` on the `reordered` column to determine the proportion of products reordered by each customer.\n",
    "4. **Sort the results**: Use `.sort_values(ascending=False)` to identify customers with the highest reorder rates.\n",
    "5. **Convert to a DataFrame**: Use `.reset_index()` to format the grouped data into a structured DataFrame for further analysis.\n",
    "\n",
    "This analysis reveals the extent to which individual customers reorder products, providing insights into customer loyalty and preferences.\n"
   ]
  },
  {
   "cell_type": "code",
   "execution_count": 76,
   "id": "medical-couple",
   "metadata": {
    "id": "medical-couple",
    "scrolled": true
   },
   "outputs": [
    {
     "name": "stdout",
     "output_type": "stream",
     "text": [
      "         order_id  product_id  add_to_cart_order  reordered  user_id  \\\n",
      "0         2141543       11440                 17          0    58454   \n",
      "1         2141543       31869                 15          1    58454   \n",
      "2         2141543       30233                  9          1    58454   \n",
      "3         2141543       27966                 20          1    58454   \n",
      "4         2141543       13176                  2          1    58454   \n",
      "...           ...         ...                ...        ...      ...   \n",
      "4545002   1790509       43739                  1          1    60894   \n",
      "4545003   1274005       38275                  1          1    32958   \n",
      "4545004    812418       46149                  1          1   130466   \n",
      "4545005   2666881         196                  1          1    33946   \n",
      "4545006   1461911       33198                  1          1    54019   \n",
      "\n",
      "         order_number  order_dow  order_hour_of_day  days_since_prior_order  \n",
      "0                  25          0                 15                     8.0  \n",
      "1                  25          0                 15                     8.0  \n",
      "2                  25          0                 15                     8.0  \n",
      "3                  25          0                 15                     8.0  \n",
      "4                  25          0                 15                     8.0  \n",
      "...               ...        ...                ...                     ...  \n",
      "4545002             9          2                 21                    18.0  \n",
      "4545003             7          5                 17                     1.0  \n",
      "4545004            34          1                 14                     0.0  \n",
      "4545005            12          1                  8                    17.0  \n",
      "4545006            10          5                 11                    23.0  \n",
      "\n",
      "[4545007 rows x 9 columns]\n"
     ]
    }
   ],
   "source": [
    "# Combine order_products with orders to link order and customer information.\n",
    "merge_orders = order_products.merge(orders, on='order_id')\n",
    "print(merge_orders)\n"
   ]
  },
  {
   "cell_type": "code",
   "execution_count": 77,
   "id": "8892e4b4",
   "metadata": {
    "id": "8892e4b4"
   },
   "outputs": [
    {
     "name": "stdout",
     "output_type": "stream",
     "text": [
      "user_id\n",
      "2          26\n",
      "4           2\n",
      "5          12\n",
      "6           4\n",
      "7          14\n",
      "         ... \n",
      "206203     27\n",
      "206206     21\n",
      "206207     46\n",
      "206208    125\n",
      "206209     25\n",
      "Length: 149626, dtype: int64\n"
     ]
    }
   ],
   "source": [
    "# Group by user_id to focus on each customer's ordering behavior.\n",
    "group_users = merge_orders.groupby('user_id').size()\n",
    "print(group_users)"
   ]
  },
  {
   "cell_type": "code",
   "execution_count": 78,
   "id": "5401fe3d-15ce-446e-a85f-a8221638f166",
   "metadata": {},
   "outputs": [
    {
     "name": "stdout",
     "output_type": "stream",
     "text": [
      "user_id\n",
      "2         0.038462\n",
      "4         0.000000\n",
      "5         0.666667\n",
      "6         0.000000\n",
      "7         0.928571\n",
      "            ...   \n",
      "206203    0.222222\n",
      "206206    0.714286\n",
      "206207    0.891304\n",
      "206208    0.696000\n",
      "206209    0.320000\n",
      "Name: reordered, Length: 149626, dtype: float64\n"
     ]
    }
   ],
   "source": [
    "# Use .mean() on the reordered column to determine the proportion of products reordered by each customer.\n",
    "average_reorders = merge_orders.groupby('user_id')['reordered'].mean()\n",
    "print(average_reorders)"
   ]
  },
  {
   "cell_type": "code",
   "execution_count": 79,
   "id": "4e3278fa-7029-48d3-9587-0b5cc65828c8",
   "metadata": {},
   "outputs": [
    {
     "name": "stdout",
     "output_type": "stream",
     "text": [
      "user_id\n",
      "137587    1.0\n",
      "173474    1.0\n",
      "13918     1.0\n",
      "62300     1.0\n",
      "62307     1.0\n",
      "         ... \n",
      "190953    0.0\n",
      "119371    0.0\n",
      "63173     0.0\n",
      "63163     0.0\n",
      "165726    0.0\n",
      "Name: reordered, Length: 149626, dtype: float64\n"
     ]
    }
   ],
   "source": [
    "# Use .sort_values(ascending=False) to rank products by their reorder rates.\n",
    "sort_orders = average_reorders.sort_values(ascending=False)\n",
    "print(sort_orders)"
   ]
  },
  {
   "cell_type": "code",
   "execution_count": 80,
   "id": "f9ee29fa-e8a6-4892-98d9-1fe2fc9b0e9f",
   "metadata": {},
   "outputs": [
    {
     "name": "stdout",
     "output_type": "stream",
     "text": [
      "        user_id  reordered\n",
      "0        137587        1.0\n",
      "1        173474        1.0\n",
      "2         13918        1.0\n",
      "3         62300        1.0\n",
      "4         62307        1.0\n",
      "...         ...        ...\n",
      "149621   190953        0.0\n",
      "149622   119371        0.0\n",
      "149623    63173        0.0\n",
      "149624    63163        0.0\n",
      "149625   165726        0.0\n",
      "\n",
      "[149626 rows x 2 columns]\n"
     ]
    }
   ],
   "source": [
    "# Use .reset_index() to format the grouped data into a structured DataFrame for further analysis.\n",
    "index_orders = sort_orders.reset_index()\n",
    "print(index_orders)\n",
    "\n",
    "\n",
    "## test to why reordered rates are at 100% for user_id\n",
    "#user_product_counts = merge_orders.groupby('user_id').size()\n",
    "#print(user_product_counts)\n",
    "#print(user_product_counts[137587])\n"
   ]
  },
  {
   "cell_type": "markdown",
   "id": "bba415af-d060-4c3b-939a-9a286052c9bc",
   "metadata": {},
   "source": [
    "<div class=\"alert alert-block alert-success\">\n",
    "<b>Reviewer's comment v1</b>\n",
    " \n",
    "Well done! "
   ]
  },
  {
   "cell_type": "markdown",
   "id": "92d35137",
   "metadata": {
    "id": "92d35137"
   },
   "source": [
    "### [C5] What are the top 20 items that people put in their carts first?\n",
    "\n",
    "To identify the top 20 items that people most frequently add to their carts first:\n",
    "\n",
    "1. **Merge the datasets**: Combine `order_products` with `products` to link product names and IDs.\n",
    "2. **Filter the data**: Focus on rows where `add_to_cart_order` equals 1, indicating the first item added to the cart.\n",
    "3. **Group the data**: Group by `product_id` and `product_name` to aggregate the count of how often each product was the first in a cart.\n",
    "4. **Count occurrences**: Use `.count()` to calculate the total number of times each product was the first added.\n",
    "5. **Sort the results**: Use `.sort_values(ascending=False)` to rank products by their first-in-cart frequency.\n",
    "6. **Display the top 20**: Use `.head(20)` to extract the most popular first-in-cart items.\n",
    "\n",
    "This provides insights into which products customers prioritize in their shopping process.\n"
   ]
  },
  {
   "cell_type": "code",
   "execution_count": 81,
   "id": "0ae57274",
   "metadata": {
    "id": "0ae57274",
    "scrolled": true
   },
   "outputs": [
    {
     "name": "stdout",
     "output_type": "stream",
     "text": [
      "         order_id  product_id  add_to_cart_order  reordered  \\\n",
      "0         2141543       11440                 17          0   \n",
      "1          147172       11440                  7          1   \n",
      "2         3341719       11440                  4          1   \n",
      "3         1938779       11440                  8          1   \n",
      "4         1728338       11440                 23          0   \n",
      "...           ...         ...                ...        ...   \n",
      "4524190    267402       45226                 14          0   \n",
      "4524191   2621676       25201                 10          0   \n",
      "4524192    937623       49153                  2          0   \n",
      "4524193    532895        8182                  1          0   \n",
      "4524194   3132243       40024                  1          0   \n",
      "\n",
      "                               product_name  aisle_id  department_id  \n",
      "0            chicken breast tenders breaded       129              1  \n",
      "1            chicken breast tenders breaded       129              1  \n",
      "2            chicken breast tenders breaded       129              1  \n",
      "3            chicken breast tenders breaded       129              1  \n",
      "4            chicken breast tenders breaded       129              1  \n",
      "...                                     ...       ...            ...  \n",
      "4524190   sweet teriyaki chicken oven sauce         5             13  \n",
      "4524191          crisp waters candle scents       101             17  \n",
      "4524192  shine collection brillance shampoo        22             11  \n",
      "4524193    total mint stripe gel toothpaste        20             11  \n",
      "4524194                 egg replacer powder        17             13  \n",
      "\n",
      "[4524195 rows x 7 columns]\n"
     ]
    }
   ],
   "source": [
    "\n",
    "# Combine order_products with products to link product names and IDs.\n",
    "combine_products = order_products.merge(products, on = 'product_id')\n",
    "print(combine_products)\n"
   ]
  },
  {
   "cell_type": "code",
   "execution_count": 82,
   "id": "forty-netherlands",
   "metadata": {
    "id": "forty-netherlands",
    "scrolled": true
   },
   "outputs": [
    {
     "name": "stdout",
     "output_type": "stream",
     "text": [
      "         order_id  product_id  add_to_cart_order  reordered  \\\n",
      "6         1463503       11440                  1          0   \n",
      "17        2201430       11440                  1          1   \n",
      "21        1036054       11440                  1          1   \n",
      "50        3008652       11440                  1          1   \n",
      "62        2946144       11440                  1          1   \n",
      "...           ...         ...                ...        ...   \n",
      "4524162   1518168       16952                  1          0   \n",
      "4524166   1776450       21507                  1          0   \n",
      "4524183   2333206       25467                  1          0   \n",
      "4524193    532895        8182                  1          0   \n",
      "4524194   3132243       40024                  1          0   \n",
      "\n",
      "                                     product_name  aisle_id  department_id  \n",
      "6                  chicken breast tenders breaded       129              1  \n",
      "17                 chicken breast tenders breaded       129              1  \n",
      "21                 chicken breast tenders breaded       129              1  \n",
      "50                 chicken breast tenders breaded       129              1  \n",
      "62                 chicken breast tenders breaded       129              1  \n",
      "...                                           ...       ...            ...  \n",
      "4524162                     sensitive night cream        73             11  \n",
      "4524166  gluten free all-purpose rice flour blend        17             13  \n",
      "4524183                   madagascar pure vanilla        17             13  \n",
      "4524193          total mint stripe gel toothpaste        20             11  \n",
      "4524194                       egg replacer powder        17             13  \n",
      "\n",
      "[448208 rows x 7 columns]\n"
     ]
    }
   ],
   "source": [
    "\n",
    "# Focus on rows where add_to_cart_order equals 1, indicating the first item added to the cart.\n",
    "one_order = combine_products[combine_products['add_to_cart_order'] == 1]\n",
    "print(one_order)\n"
   ]
  },
  {
   "cell_type": "code",
   "execution_count": 83,
   "id": "bc997f6e-b514-4b26-8807-8de40a488bb9",
   "metadata": {},
   "outputs": [
    {
     "name": "stdout",
     "output_type": "stream",
     "text": [
      "product_id  product_name                                                     \n",
      "1           chocolate sandwich cookies                                             47\n",
      "2           all-seasons salt                                                        2\n",
      "3           robust golden unsweetened oolong tea                                    5\n",
      "4           smart ones classic favorites mini rigatoni with vodka cream sauce       1\n",
      "8           cut russet potatoes steam n' mash                                       4\n",
      "                                                                                 ... \n",
      "49683       cucumber kirby                                                       1078\n",
      "49685       en croute roast hazelnut cranberry                                      1\n",
      "49686       artisan baguette                                                        3\n",
      "49687       smartblend healthy metabolism dry cat food                              1\n",
      "49688       fresh foaming cleanser                                                  1\n",
      "Length: 26443, dtype: int64\n"
     ]
    }
   ],
   "source": [
    "\n",
    "# Group by product_id and product_name to aggregate the count of how often each product was the first in a cart.\n",
    "first_group_order = one_order.groupby(['product_id','product_name']).size() #is it okay to just do .size() instead of .count() for step 3? \n",
    "#I'm having a hard time figuring this out by using .count() function\n",
    "print(first_group_order)\n"
   ]
  },
  {
   "cell_type": "code",
   "execution_count": 84,
   "id": "de6e5bee-be74-4c66-84ed-beb02b520955",
   "metadata": {},
   "outputs": [
    {
     "name": "stdout",
     "output_type": "stream",
     "text": [
      "product_id  product_name                                \n",
      "24852       banana                                          15562\n",
      "13176       bag of organic bananas                          11026\n",
      "27845       organic whole milk                               4363\n",
      "21137       organic strawberries                             3946\n",
      "47209       organic hass avocado                             3390\n",
      "                                                            ...  \n",
      "24825       savory shreds with chicken in gravy cat food        1\n",
      "24827       pepperoni provolone cheese & breadsticks            1\n",
      "24837       organic dried mushrooms medley                      1\n",
      "24839       dark chocolate coconut bars                         1\n",
      "49688       fresh foaming cleanser                              1\n",
      "Length: 26443, dtype: int64\n"
     ]
    }
   ],
   "source": [
    "# Use .sort_values(ascending=False) to rank products by their first-in-cart frequency.\n",
    "sort_first_group = first_group_order.sort_values(ascending=False)\n",
    "print(sort_first_group)\n",
    "\n"
   ]
  },
  {
   "cell_type": "markdown",
   "id": "28ce9872",
   "metadata": {
    "id": "28ce9872"
   },
   "source": [
    "The products that are most often placed into the cart first are produce, dairy, and beverages such as soda or water. I couldn't really say why that is without experience using Instacart because this could have more to do with app design than properties of the products. I do notice that there is considerable overlap between this result and the previous result for most popular and most reordered item types. It could simply be that the app prioritizes popular items as the first suggested purchases, so it happens to be more convenient for customers to place these items in their cart first."
   ]
  },
  {
   "cell_type": "markdown",
   "id": "8ad9120c-c164-4d34-a4ba-1b1c2c2aadd1",
   "metadata": {},
   "source": [
    "<div class=\"alert alert-block alert-success\">\n",
    "<b>Reviewer's comment v1</b>\n",
    " \n",
    "Also everything is correct here. Kudos for completing all tasks in this project 😇"
   ]
  }
 ],
 "metadata": {
  "colab": {
   "provenance": []
  },
  "kernelspec": {
   "display_name": "Python 3 (ipykernel)",
   "language": "python",
   "name": "python3"
  },
  "language_info": {
   "codemirror_mode": {
    "name": "ipython",
    "version": 3
   },
   "file_extension": ".py",
   "mimetype": "text/x-python",
   "name": "python",
   "nbconvert_exporter": "python",
   "pygments_lexer": "ipython3",
   "version": "3.9.23"
  }
 },
 "nbformat": 4,
 "nbformat_minor": 5
}
