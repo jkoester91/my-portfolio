{
 "cells": [
  {
   "cell_type": "markdown",
   "metadata": {},
   "source": [
    "<div style=\"border: solid blue 2px; padding: 15px; margin: 10px\">\n",
    "  <b>Overall Summary of the Project – Iteration 1</b><br><br>\n",
    "\n",
    "  Hi Jimmy, I’m <b>Victor Camargo</b> (<a href=\"https://hub.tripleten.com/u/e9cc9c11\" target=\"_blank\">TripleTen Hub profile</a>). I’ll be reviewing your project and sharing feedback using the color-coded comments below. Thanks for submitting your work!<br><br>\n",
    "\n",
    "  <b>Nice work on:</b><br>\n",
    "  ✔️ Inspecting the dataset carefully and checking for missing values and class balance<br>\n",
    "  ✔️ Splitting the data into train/validation/test with the correct proportions<br>\n",
    "  ✔️ Training Logistic Regression, Decision Tree, and Random Forest, while exploring hyperparameters systematically<br>\n",
    "  ✔️ Choosing Random Forest as the final model and validating it on the test set with accuracy above the 0.75 threshold<br><br>\n",
    "\n",
    "  A few small suggestions for future improvements:<br>\n",
    "  🟡 When splitting the dataset, include <code>stratify=target</code> to preserve the class distribution<br>\n",
    "  🟡 Add a brief written conclusion summarizing why Random Forest outperformed the other models<br><br>\n",
    "\n",
    "  <hr>\n",
    "\n",
    "  🔹 <b>Legend:</b><br>\n",
    "  🟢 Green = well done<br>\n",
    "  🟡 Yellow = suggestions<br>\n",
    "  🔴 Red = must fix<br>\n",
    "  🔵 Blue = your comments or questions<br><br>\n",
    "  \n",
    "  <b>Please ensure</b> that all cells run smoothly from top to bottom and display their outputs before submitting — this helps keep your analysis easy to follow.  \n",
    "  <b>Kind reminder:</b> try not to move, change, or delete reviewer comments, as they are there to track progress and provide better support during your revisions.<br><br>\n",
    "\n",
    "  Congratulations, your project meets the requirements — <b>approved!</b><br><br>\n",
    "\n",
    "  <b>Feel free to reach out if you need help in Questions channel.</b><br>\n",
    "</div>\n"
   ]
  },
  {
   "cell_type": "code",
   "execution_count": 1,
   "metadata": {},
   "outputs": [],
   "source": [
    "import pandas as pd\n",
    "from sklearn.metrics import mean_squared_error\n",
    "from sklearn.ensemble import RandomForestClassifier\n",
    "from sklearn.tree import DecisionTreeClassifier\n",
    "from sklearn.linear_model import LogisticRegression\n",
    "from sklearn.metrics import accuracy_score\n",
    "from sklearn.model_selection import train_test_split\n",
    "from matplotlib import pyplot as plt"
   ]
  },
  {
   "cell_type": "code",
   "execution_count": 2,
   "metadata": {},
   "outputs": [],
   "source": [
    "df = pd.read_csv('/datasets/users_behavior.csv')"
   ]
  },
  {
   "cell_type": "code",
   "execution_count": 3,
   "metadata": {},
   "outputs": [
    {
     "data": {
      "text/html": [
       "<div>\n",
       "<style scoped>\n",
       "    .dataframe tbody tr th:only-of-type {\n",
       "        vertical-align: middle;\n",
       "    }\n",
       "\n",
       "    .dataframe tbody tr th {\n",
       "        vertical-align: top;\n",
       "    }\n",
       "\n",
       "    .dataframe thead th {\n",
       "        text-align: right;\n",
       "    }\n",
       "</style>\n",
       "<table border=\"1\" class=\"dataframe\">\n",
       "  <thead>\n",
       "    <tr style=\"text-align: right;\">\n",
       "      <th></th>\n",
       "      <th>calls</th>\n",
       "      <th>minutes</th>\n",
       "      <th>messages</th>\n",
       "      <th>mb_used</th>\n",
       "      <th>is_ultra</th>\n",
       "    </tr>\n",
       "  </thead>\n",
       "  <tbody>\n",
       "    <tr>\n",
       "      <th>0</th>\n",
       "      <td>40.0</td>\n",
       "      <td>311.90</td>\n",
       "      <td>83.0</td>\n",
       "      <td>19915.42</td>\n",
       "      <td>0</td>\n",
       "    </tr>\n",
       "    <tr>\n",
       "      <th>1</th>\n",
       "      <td>85.0</td>\n",
       "      <td>516.75</td>\n",
       "      <td>56.0</td>\n",
       "      <td>22696.96</td>\n",
       "      <td>0</td>\n",
       "    </tr>\n",
       "    <tr>\n",
       "      <th>2</th>\n",
       "      <td>77.0</td>\n",
       "      <td>467.66</td>\n",
       "      <td>86.0</td>\n",
       "      <td>21060.45</td>\n",
       "      <td>0</td>\n",
       "    </tr>\n",
       "    <tr>\n",
       "      <th>3</th>\n",
       "      <td>106.0</td>\n",
       "      <td>745.53</td>\n",
       "      <td>81.0</td>\n",
       "      <td>8437.39</td>\n",
       "      <td>1</td>\n",
       "    </tr>\n",
       "    <tr>\n",
       "      <th>4</th>\n",
       "      <td>66.0</td>\n",
       "      <td>418.74</td>\n",
       "      <td>1.0</td>\n",
       "      <td>14502.75</td>\n",
       "      <td>0</td>\n",
       "    </tr>\n",
       "  </tbody>\n",
       "</table>\n",
       "</div>"
      ],
      "text/plain": [
       "   calls  minutes  messages   mb_used  is_ultra\n",
       "0   40.0   311.90      83.0  19915.42         0\n",
       "1   85.0   516.75      56.0  22696.96         0\n",
       "2   77.0   467.66      86.0  21060.45         0\n",
       "3  106.0   745.53      81.0   8437.39         1\n",
       "4   66.0   418.74       1.0  14502.75         0"
      ]
     },
     "metadata": {},
     "output_type": "display_data"
    }
   ],
   "source": [
    "# let's look at the data to see what we're dealing here\n",
    "display(df.head())"
   ]
  },
  {
   "cell_type": "code",
   "execution_count": 4,
   "metadata": {},
   "outputs": [
    {
     "name": "stdout",
     "output_type": "stream",
     "text": [
      "<class 'pandas.core.frame.DataFrame'>\n",
      "RangeIndex: 3214 entries, 0 to 3213\n",
      "Data columns (total 5 columns):\n",
      " #   Column    Non-Null Count  Dtype  \n",
      "---  ------    --------------  -----  \n",
      " 0   calls     3214 non-null   float64\n",
      " 1   minutes   3214 non-null   float64\n",
      " 2   messages  3214 non-null   float64\n",
      " 3   mb_used   3214 non-null   float64\n",
      " 4   is_ultra  3214 non-null   int64  \n",
      "dtypes: float64(4), int64(1)\n",
      "memory usage: 125.7 KB\n"
     ]
    }
   ],
   "source": [
    "# check to see if we're missing any data\n",
    "df.info()"
   ]
  },
  {
   "cell_type": "markdown",
   "metadata": {},
   "source": [
    "<b> we see that there's no missing integer so this is good news. But let's see how many Ultra data vs Smart data there is in the data"
   ]
  },
  {
   "cell_type": "code",
   "execution_count": 5,
   "metadata": {},
   "outputs": [
    {
     "name": "stdout",
     "output_type": "stream",
     "text": [
      "0    2229\n",
      "1     985\n",
      "Name: is_ultra, dtype: int64\n"
     ]
    }
   ],
   "source": [
    "print(df['is_ultra'].value_counts())"
   ]
  },
  {
   "cell_type": "markdown",
   "metadata": {},
   "source": [
    "<b> oh wow!!! There's only 30.65% of ultra data!"
   ]
  },
  {
   "cell_type": "markdown",
   "metadata": {},
   "source": [
    "<div class=\"alert alert-success\">\n",
    "  <b>Reviewer’s comment – Iteration 1:</b><br>\n",
    "  Good start! You imported the necessary libraries, loaded the dataset, and inspected the first few rows. Using <code>.info()</code> to check data types and missing values is the right approach. It’s also great that you checked the distribution of the target variable <code>is_ultra</code>.\n",
    "</div>"
   ]
  },
  {
   "cell_type": "code",
   "execution_count": 6,
   "metadata": {},
   "outputs": [],
   "source": [
    "features = df.drop(['is_ultra'], axis = 1)\n",
    "target = df['is_ultra']"
   ]
  },
  {
   "cell_type": "code",
   "execution_count": 7,
   "metadata": {},
   "outputs": [],
   "source": [
    "# split the test to a 3:1:1 ratio\n",
    "features_train, features_temp, target_train, target_temp = train_test_split(features, target, test_size = 0.40, random_state = 54321)\n",
    "features_valid, features_test, target_valid, target_test = train_test_split(features_temp,target_temp, test_size = 0.5, random_state = 54321)\n"
   ]
  },
  {
   "cell_type": "markdown",
   "metadata": {},
   "source": [
    "<div class=\"alert alert-success\">\n",
    "  <b>Reviewer’s comment – Iteration 1:</b><br>\n",
    "  Nice job separating the features and target, and performing a three-way split into train, validation, and test sets. The proportions (60/20/20) are correct, and you fixed the random state for reproducibility.\n",
    "</div>\n",
    "\n",
    "<div class=\"alert alert-warning\">\n",
    "  <b>Reviewer’s comment – Iteration 1:</b><br>\n",
    "  Suggestion: For classification tasks like this, it’s best to include the parameter <code>stratify=target</code> in <code>train_test_split</code>. This ensures the class imbalance (≈30% Ultra vs 70% Smart) is preserved across all splits, which makes training and evaluation more reliable.\n",
    "</div>\n"
   ]
  },
  {
   "cell_type": "code",
   "execution_count": 8,
   "metadata": {},
   "outputs": [
    {
     "data": {
      "text/html": [
       "<div>\n",
       "<style scoped>\n",
       "    .dataframe tbody tr th:only-of-type {\n",
       "        vertical-align: middle;\n",
       "    }\n",
       "\n",
       "    .dataframe tbody tr th {\n",
       "        vertical-align: top;\n",
       "    }\n",
       "\n",
       "    .dataframe thead th {\n",
       "        text-align: right;\n",
       "    }\n",
       "</style>\n",
       "<table border=\"1\" class=\"dataframe\">\n",
       "  <thead>\n",
       "    <tr style=\"text-align: right;\">\n",
       "      <th></th>\n",
       "      <th>calls</th>\n",
       "      <th>minutes</th>\n",
       "      <th>messages</th>\n",
       "      <th>mb_used</th>\n",
       "    </tr>\n",
       "  </thead>\n",
       "  <tbody>\n",
       "    <tr>\n",
       "      <th>389</th>\n",
       "      <td>118.0</td>\n",
       "      <td>908.61</td>\n",
       "      <td>54.0</td>\n",
       "      <td>29678.60</td>\n",
       "    </tr>\n",
       "    <tr>\n",
       "      <th>1066</th>\n",
       "      <td>90.0</td>\n",
       "      <td>653.62</td>\n",
       "      <td>0.0</td>\n",
       "      <td>15697.77</td>\n",
       "    </tr>\n",
       "    <tr>\n",
       "      <th>36</th>\n",
       "      <td>76.0</td>\n",
       "      <td>543.18</td>\n",
       "      <td>43.0</td>\n",
       "      <td>31845.11</td>\n",
       "    </tr>\n",
       "    <tr>\n",
       "      <th>1903</th>\n",
       "      <td>134.0</td>\n",
       "      <td>940.77</td>\n",
       "      <td>56.0</td>\n",
       "      <td>2921.57</td>\n",
       "    </tr>\n",
       "    <tr>\n",
       "      <th>1373</th>\n",
       "      <td>121.0</td>\n",
       "      <td>769.36</td>\n",
       "      <td>0.0</td>\n",
       "      <td>42437.52</td>\n",
       "    </tr>\n",
       "    <tr>\n",
       "      <th>...</th>\n",
       "      <td>...</td>\n",
       "      <td>...</td>\n",
       "      <td>...</td>\n",
       "      <td>...</td>\n",
       "    </tr>\n",
       "    <tr>\n",
       "      <th>2020</th>\n",
       "      <td>81.0</td>\n",
       "      <td>506.46</td>\n",
       "      <td>21.0</td>\n",
       "      <td>7510.09</td>\n",
       "    </tr>\n",
       "    <tr>\n",
       "      <th>96</th>\n",
       "      <td>29.0</td>\n",
       "      <td>267.55</td>\n",
       "      <td>29.0</td>\n",
       "      <td>16996.83</td>\n",
       "    </tr>\n",
       "    <tr>\n",
       "      <th>3098</th>\n",
       "      <td>46.0</td>\n",
       "      <td>360.78</td>\n",
       "      <td>12.0</td>\n",
       "      <td>12706.94</td>\n",
       "    </tr>\n",
       "    <tr>\n",
       "      <th>650</th>\n",
       "      <td>41.0</td>\n",
       "      <td>244.59</td>\n",
       "      <td>39.0</td>\n",
       "      <td>0.00</td>\n",
       "    </tr>\n",
       "    <tr>\n",
       "      <th>2641</th>\n",
       "      <td>69.0</td>\n",
       "      <td>512.66</td>\n",
       "      <td>14.0</td>\n",
       "      <td>14603.95</td>\n",
       "    </tr>\n",
       "  </tbody>\n",
       "</table>\n",
       "<p>1928 rows × 4 columns</p>\n",
       "</div>"
      ],
      "text/plain": [
       "      calls  minutes  messages   mb_used\n",
       "389   118.0   908.61      54.0  29678.60\n",
       "1066   90.0   653.62       0.0  15697.77\n",
       "36     76.0   543.18      43.0  31845.11\n",
       "1903  134.0   940.77      56.0   2921.57\n",
       "1373  121.0   769.36       0.0  42437.52\n",
       "...     ...      ...       ...       ...\n",
       "2020   81.0   506.46      21.0   7510.09\n",
       "96     29.0   267.55      29.0  16996.83\n",
       "3098   46.0   360.78      12.0  12706.94\n",
       "650    41.0   244.59      39.0      0.00\n",
       "2641   69.0   512.66      14.0  14603.95\n",
       "\n",
       "[1928 rows x 4 columns]"
      ]
     },
     "metadata": {},
     "output_type": "display_data"
    }
   ],
   "source": [
    "# I'm just curious what each testing table looks like. Let's start with features_train\n",
    "display(features_train)"
   ]
  },
  {
   "cell_type": "code",
   "execution_count": 9,
   "metadata": {},
   "outputs": [
    {
     "data": {
      "text/html": [
       "<div>\n",
       "<style scoped>\n",
       "    .dataframe tbody tr th:only-of-type {\n",
       "        vertical-align: middle;\n",
       "    }\n",
       "\n",
       "    .dataframe tbody tr th {\n",
       "        vertical-align: top;\n",
       "    }\n",
       "\n",
       "    .dataframe thead th {\n",
       "        text-align: right;\n",
       "    }\n",
       "</style>\n",
       "<table border=\"1\" class=\"dataframe\">\n",
       "  <thead>\n",
       "    <tr style=\"text-align: right;\">\n",
       "      <th></th>\n",
       "      <th>calls</th>\n",
       "      <th>minutes</th>\n",
       "      <th>messages</th>\n",
       "      <th>mb_used</th>\n",
       "    </tr>\n",
       "  </thead>\n",
       "  <tbody>\n",
       "    <tr>\n",
       "      <th>1727</th>\n",
       "      <td>104.0</td>\n",
       "      <td>739.28</td>\n",
       "      <td>55.0</td>\n",
       "      <td>21940.11</td>\n",
       "    </tr>\n",
       "    <tr>\n",
       "      <th>2885</th>\n",
       "      <td>67.0</td>\n",
       "      <td>469.58</td>\n",
       "      <td>63.0</td>\n",
       "      <td>7952.07</td>\n",
       "    </tr>\n",
       "    <tr>\n",
       "      <th>2730</th>\n",
       "      <td>74.0</td>\n",
       "      <td>549.14</td>\n",
       "      <td>20.0</td>\n",
       "      <td>17160.61</td>\n",
       "    </tr>\n",
       "    <tr>\n",
       "      <th>899</th>\n",
       "      <td>31.0</td>\n",
       "      <td>205.14</td>\n",
       "      <td>22.0</td>\n",
       "      <td>10250.58</td>\n",
       "    </tr>\n",
       "    <tr>\n",
       "      <th>2119</th>\n",
       "      <td>26.0</td>\n",
       "      <td>172.87</td>\n",
       "      <td>16.0</td>\n",
       "      <td>6431.26</td>\n",
       "    </tr>\n",
       "    <tr>\n",
       "      <th>...</th>\n",
       "      <td>...</td>\n",
       "      <td>...</td>\n",
       "      <td>...</td>\n",
       "      <td>...</td>\n",
       "    </tr>\n",
       "    <tr>\n",
       "      <th>3056</th>\n",
       "      <td>63.0</td>\n",
       "      <td>438.19</td>\n",
       "      <td>6.0</td>\n",
       "      <td>7104.40</td>\n",
       "    </tr>\n",
       "    <tr>\n",
       "      <th>1144</th>\n",
       "      <td>58.0</td>\n",
       "      <td>413.71</td>\n",
       "      <td>29.0</td>\n",
       "      <td>21481.06</td>\n",
       "    </tr>\n",
       "    <tr>\n",
       "      <th>844</th>\n",
       "      <td>160.0</td>\n",
       "      <td>1055.79</td>\n",
       "      <td>54.0</td>\n",
       "      <td>33629.53</td>\n",
       "    </tr>\n",
       "    <tr>\n",
       "      <th>1939</th>\n",
       "      <td>41.0</td>\n",
       "      <td>314.89</td>\n",
       "      <td>5.0</td>\n",
       "      <td>14260.76</td>\n",
       "    </tr>\n",
       "    <tr>\n",
       "      <th>1482</th>\n",
       "      <td>70.0</td>\n",
       "      <td>434.33</td>\n",
       "      <td>46.0</td>\n",
       "      <td>14439.86</td>\n",
       "    </tr>\n",
       "  </tbody>\n",
       "</table>\n",
       "<p>1286 rows × 4 columns</p>\n",
       "</div>"
      ],
      "text/plain": [
       "      calls  minutes  messages   mb_used\n",
       "1727  104.0   739.28      55.0  21940.11\n",
       "2885   67.0   469.58      63.0   7952.07\n",
       "2730   74.0   549.14      20.0  17160.61\n",
       "899    31.0   205.14      22.0  10250.58\n",
       "2119   26.0   172.87      16.0   6431.26\n",
       "...     ...      ...       ...       ...\n",
       "3056   63.0   438.19       6.0   7104.40\n",
       "1144   58.0   413.71      29.0  21481.06\n",
       "844   160.0  1055.79      54.0  33629.53\n",
       "1939   41.0   314.89       5.0  14260.76\n",
       "1482   70.0   434.33      46.0  14439.86\n",
       "\n",
       "[1286 rows x 4 columns]"
      ]
     },
     "metadata": {},
     "output_type": "display_data"
    }
   ],
   "source": [
    "# features_temp\n",
    "display(features_temp)"
   ]
  },
  {
   "cell_type": "code",
   "execution_count": 10,
   "metadata": {},
   "outputs": [
    {
     "data": {
      "text/html": [
       "<div>\n",
       "<style scoped>\n",
       "    .dataframe tbody tr th:only-of-type {\n",
       "        vertical-align: middle;\n",
       "    }\n",
       "\n",
       "    .dataframe tbody tr th {\n",
       "        vertical-align: top;\n",
       "    }\n",
       "\n",
       "    .dataframe thead th {\n",
       "        text-align: right;\n",
       "    }\n",
       "</style>\n",
       "<table border=\"1\" class=\"dataframe\">\n",
       "  <thead>\n",
       "    <tr style=\"text-align: right;\">\n",
       "      <th></th>\n",
       "      <th>calls</th>\n",
       "      <th>minutes</th>\n",
       "      <th>messages</th>\n",
       "      <th>mb_used</th>\n",
       "    </tr>\n",
       "  </thead>\n",
       "  <tbody>\n",
       "    <tr>\n",
       "      <th>98</th>\n",
       "      <td>67.0</td>\n",
       "      <td>454.43</td>\n",
       "      <td>31.0</td>\n",
       "      <td>19776.50</td>\n",
       "    </tr>\n",
       "    <tr>\n",
       "      <th>2941</th>\n",
       "      <td>57.0</td>\n",
       "      <td>470.30</td>\n",
       "      <td>88.0</td>\n",
       "      <td>9346.00</td>\n",
       "    </tr>\n",
       "    <tr>\n",
       "      <th>2626</th>\n",
       "      <td>6.0</td>\n",
       "      <td>50.95</td>\n",
       "      <td>5.0</td>\n",
       "      <td>3771.34</td>\n",
       "    </tr>\n",
       "    <tr>\n",
       "      <th>1653</th>\n",
       "      <td>80.0</td>\n",
       "      <td>538.39</td>\n",
       "      <td>51.0</td>\n",
       "      <td>21691.46</td>\n",
       "    </tr>\n",
       "    <tr>\n",
       "      <th>2389</th>\n",
       "      <td>35.0</td>\n",
       "      <td>205.35</td>\n",
       "      <td>52.0</td>\n",
       "      <td>35177.94</td>\n",
       "    </tr>\n",
       "    <tr>\n",
       "      <th>...</th>\n",
       "      <td>...</td>\n",
       "      <td>...</td>\n",
       "      <td>...</td>\n",
       "      <td>...</td>\n",
       "    </tr>\n",
       "    <tr>\n",
       "      <th>147</th>\n",
       "      <td>81.0</td>\n",
       "      <td>627.56</td>\n",
       "      <td>37.0</td>\n",
       "      <td>18603.43</td>\n",
       "    </tr>\n",
       "    <tr>\n",
       "      <th>668</th>\n",
       "      <td>94.0</td>\n",
       "      <td>683.19</td>\n",
       "      <td>18.0</td>\n",
       "      <td>19308.01</td>\n",
       "    </tr>\n",
       "    <tr>\n",
       "      <th>160</th>\n",
       "      <td>61.0</td>\n",
       "      <td>495.11</td>\n",
       "      <td>8.0</td>\n",
       "      <td>10891.23</td>\n",
       "    </tr>\n",
       "    <tr>\n",
       "      <th>410</th>\n",
       "      <td>33.0</td>\n",
       "      <td>220.24</td>\n",
       "      <td>15.0</td>\n",
       "      <td>6547.66</td>\n",
       "    </tr>\n",
       "    <tr>\n",
       "      <th>977</th>\n",
       "      <td>68.0</td>\n",
       "      <td>419.13</td>\n",
       "      <td>98.0</td>\n",
       "      <td>21628.93</td>\n",
       "    </tr>\n",
       "  </tbody>\n",
       "</table>\n",
       "<p>643 rows × 4 columns</p>\n",
       "</div>"
      ],
      "text/plain": [
       "      calls  minutes  messages   mb_used\n",
       "98     67.0   454.43      31.0  19776.50\n",
       "2941   57.0   470.30      88.0   9346.00\n",
       "2626    6.0    50.95       5.0   3771.34\n",
       "1653   80.0   538.39      51.0  21691.46\n",
       "2389   35.0   205.35      52.0  35177.94\n",
       "...     ...      ...       ...       ...\n",
       "147    81.0   627.56      37.0  18603.43\n",
       "668    94.0   683.19      18.0  19308.01\n",
       "160    61.0   495.11       8.0  10891.23\n",
       "410    33.0   220.24      15.0   6547.66\n",
       "977    68.0   419.13      98.0  21628.93\n",
       "\n",
       "[643 rows x 4 columns]"
      ]
     },
     "metadata": {},
     "output_type": "display_data"
    }
   ],
   "source": [
    "# features_valid\n",
    "display(features_valid)"
   ]
  },
  {
   "cell_type": "code",
   "execution_count": 11,
   "metadata": {
    "scrolled": true
   },
   "outputs": [
    {
     "data": {
      "text/html": [
       "<div>\n",
       "<style scoped>\n",
       "    .dataframe tbody tr th:only-of-type {\n",
       "        vertical-align: middle;\n",
       "    }\n",
       "\n",
       "    .dataframe tbody tr th {\n",
       "        vertical-align: top;\n",
       "    }\n",
       "\n",
       "    .dataframe thead th {\n",
       "        text-align: right;\n",
       "    }\n",
       "</style>\n",
       "<table border=\"1\" class=\"dataframe\">\n",
       "  <thead>\n",
       "    <tr style=\"text-align: right;\">\n",
       "      <th></th>\n",
       "      <th>calls</th>\n",
       "      <th>minutes</th>\n",
       "      <th>messages</th>\n",
       "      <th>mb_used</th>\n",
       "    </tr>\n",
       "  </thead>\n",
       "  <tbody>\n",
       "    <tr>\n",
       "      <th>40</th>\n",
       "      <td>34.0</td>\n",
       "      <td>183.28</td>\n",
       "      <td>0.0</td>\n",
       "      <td>18631.66</td>\n",
       "    </tr>\n",
       "    <tr>\n",
       "      <th>2523</th>\n",
       "      <td>39.0</td>\n",
       "      <td>257.01</td>\n",
       "      <td>52.0</td>\n",
       "      <td>19450.11</td>\n",
       "    </tr>\n",
       "    <tr>\n",
       "      <th>1529</th>\n",
       "      <td>69.0</td>\n",
       "      <td>453.26</td>\n",
       "      <td>18.0</td>\n",
       "      <td>14427.40</td>\n",
       "    </tr>\n",
       "    <tr>\n",
       "      <th>2850</th>\n",
       "      <td>46.0</td>\n",
       "      <td>309.91</td>\n",
       "      <td>105.0</td>\n",
       "      <td>6444.87</td>\n",
       "    </tr>\n",
       "    <tr>\n",
       "      <th>1109</th>\n",
       "      <td>69.0</td>\n",
       "      <td>479.79</td>\n",
       "      <td>0.0</td>\n",
       "      <td>17559.43</td>\n",
       "    </tr>\n",
       "    <tr>\n",
       "      <th>...</th>\n",
       "      <td>...</td>\n",
       "      <td>...</td>\n",
       "      <td>...</td>\n",
       "      <td>...</td>\n",
       "    </tr>\n",
       "    <tr>\n",
       "      <th>2753</th>\n",
       "      <td>64.0</td>\n",
       "      <td>486.01</td>\n",
       "      <td>57.0</td>\n",
       "      <td>20636.19</td>\n",
       "    </tr>\n",
       "    <tr>\n",
       "      <th>1989</th>\n",
       "      <td>76.0</td>\n",
       "      <td>650.20</td>\n",
       "      <td>20.0</td>\n",
       "      <td>24430.38</td>\n",
       "    </tr>\n",
       "    <tr>\n",
       "      <th>661</th>\n",
       "      <td>23.0</td>\n",
       "      <td>133.41</td>\n",
       "      <td>24.0</td>\n",
       "      <td>28724.23</td>\n",
       "    </tr>\n",
       "    <tr>\n",
       "      <th>2239</th>\n",
       "      <td>68.0</td>\n",
       "      <td>443.10</td>\n",
       "      <td>5.0</td>\n",
       "      <td>6632.60</td>\n",
       "    </tr>\n",
       "    <tr>\n",
       "      <th>817</th>\n",
       "      <td>24.0</td>\n",
       "      <td>153.32</td>\n",
       "      <td>91.0</td>\n",
       "      <td>23122.08</td>\n",
       "    </tr>\n",
       "  </tbody>\n",
       "</table>\n",
       "<p>643 rows × 4 columns</p>\n",
       "</div>"
      ],
      "text/plain": [
       "      calls  minutes  messages   mb_used\n",
       "40     34.0   183.28       0.0  18631.66\n",
       "2523   39.0   257.01      52.0  19450.11\n",
       "1529   69.0   453.26      18.0  14427.40\n",
       "2850   46.0   309.91     105.0   6444.87\n",
       "1109   69.0   479.79       0.0  17559.43\n",
       "...     ...      ...       ...       ...\n",
       "2753   64.0   486.01      57.0  20636.19\n",
       "1989   76.0   650.20      20.0  24430.38\n",
       "661    23.0   133.41      24.0  28724.23\n",
       "2239   68.0   443.10       5.0   6632.60\n",
       "817    24.0   153.32      91.0  23122.08\n",
       "\n",
       "[643 rows x 4 columns]"
      ]
     },
     "metadata": {},
     "output_type": "display_data"
    }
   ],
   "source": [
    "# features_test\n",
    "display(features_test)"
   ]
  },
  {
   "cell_type": "markdown",
   "metadata": {},
   "source": [
    "<b> Excellent! We see that the rows and are splitted perfectly (60%, 20%, 20%) as 3:1:1 ratio"
   ]
  },
  {
   "cell_type": "code",
   "execution_count": 12,
   "metadata": {},
   "outputs": [],
   "source": [
    "# let's try to test LogisticRegression\n",
    "log_model = LogisticRegression(random_state = 54321, solver = 'liblinear')\n",
    "# fit the model\n",
    "log_model.fit(features_train, target_train)\n",
    "score_train = log_model.score(features_train, target_train) # calculate accuracy score on traning set\n",
    "score_valid = log_model.score(features_valid, target_valid) # calculate accuracy score on validation set\n"
   ]
  },
  {
   "cell_type": "code",
   "execution_count": 13,
   "metadata": {},
   "outputs": [
    {
     "name": "stdout",
     "output_type": "stream",
     "text": [
      "Accuracy of the logistic regression model on the training set 0.7131742738589212\n",
      "\n",
      "Accuracy of the logistic regression model on the validation set 0.6780715396578538\n"
     ]
    }
   ],
   "source": [
    "# calculate the accuracy scores from the Logistic Regression Model\n",
    "print(\"Accuracy of the logistic regression model on the training set\", score_train)\n",
    "print()\n",
    "print(\"Accuracy of the logistic regression model on the validation set\", score_valid)"
   ]
  },
  {
   "cell_type": "markdown",
   "metadata": {},
   "source": [
    "<b> the accuracy is below 0.75 and the training set is higher than the validation set which makes the model overfitting. Dot mentioned something about C parameters so I want to test that out real quick before testing a different model"
   ]
  },
  {
   "cell_type": "markdown",
   "metadata": {},
   "source": [
    "<div class=\"alert alert-success\">\n",
    "  <b>Reviewer’s comment – Iteration 1:</b><br>\n",
    "  Good work testing Logistic Regression as a baseline model. You correctly compared training vs. validation accuracy and identified signs of overfitting when the validation score is below the target threshold and lower than the training score.\n",
    "</div>"
   ]
  },
  {
   "cell_type": "code",
   "execution_count": 14,
   "metadata": {},
   "outputs": [
    {
     "name": "stdout",
     "output_type": "stream",
     "text": [
      "C=0.1: Train=0.713, Valid=0.678\n",
      "C=1.0: Train=0.713, Valid=0.678\n",
      "C=10.0: Train=0.713, Valid=0.678\n"
     ]
    }
   ],
   "source": [
    "# testing different C parameters for our Logistic Regression model\n",
    "for c_val in [0.1, 1.0, 10.0]:\n",
    "    model = LogisticRegression(random_state=54321, solver='liblinear', C=c_val)\n",
    "    model.fit(features_train, target_train)\n",
    "    train_score = model.score(features_train, target_train)\n",
    "    valid_score = model.score(features_valid, target_valid)\n",
    "    print(f\"C={c_val}: Train={train_score:.3f}, Valid={valid_score:.3f}\")"
   ]
  },
  {
   "cell_type": "markdown",
   "metadata": {},
   "source": [
    "<b> wow, this really tells you something about how all 3 different C paramters gives you the exact same accuracy score for both training and validation set! \n",
    "This shows us that Linear Regression is not the right model to test our dataset. Now it's time to try Decision Tree Classifier!"
   ]
  },
  {
   "cell_type": "markdown",
   "metadata": {},
   "source": [
    "<div class=\"alert alert-success\">\n",
    "  <b>Reviewer’s comment – Iteration 1:</b><br>\n",
    "  Great experiment! You tested different <code>C</code> values for Logistic Regression and clearly reported the train/validation accuracy. This is a solid way to confirm whether regularization improves performance.\n",
    "</div>"
   ]
  },
  {
   "cell_type": "code",
   "execution_count": 15,
   "metadata": {},
   "outputs": [
    {
     "name": "stdout",
     "output_type": "stream",
     "text": [
      "max_depth = 1 : 0.7216174183514774\n",
      "max_depth = 2 : 0.7418351477449455\n",
      "max_depth = 3 : 0.7651632970451011\n",
      "max_depth = 4 : 0.744945567651633\n",
      "max_depth = 5 : 0.7651632970451011\n"
     ]
    }
   ],
   "source": [
    "# Let's try the DecisionTreeClassifier\n",
    "for depth in range (1,6):\n",
    "    tree_model = DecisionTreeClassifier(random_state=54321, max_depth = depth)\n",
    "    tree_model.fit(features_train, target_train)\n",
    "    tree_predictions = tree_model.predict(features_valid)\n",
    "    tree_result = accuracy_score(target_valid,tree_predictions)\n",
    "    print(f\"max_depth = {depth} : {tree_result}\")\n",
    "\n"
   ]
  },
  {
   "cell_type": "markdown",
   "metadata": {},
   "source": [
    "<b> this is interesting to see max_depth 3 and 5 being identical. I wonder if we increased the max_depth to 10, we would get the same result of 0.7651632970451011"
   ]
  },
  {
   "cell_type": "code",
   "execution_count": 16,
   "metadata": {},
   "outputs": [
    {
     "name": "stdout",
     "output_type": "stream",
     "text": [
      "max_depth = 1 : 0.7216174183514774\n",
      "max_depth = 2 : 0.7418351477449455\n",
      "max_depth = 3 : 0.7651632970451011\n",
      "max_depth = 4 : 0.744945567651633\n",
      "max_depth = 5 : 0.7651632970451011\n",
      "max_depth = 6 : 0.7542768273716952\n",
      "max_depth = 7 : 0.7433903576982893\n",
      "max_depth = 8 : 0.7511664074650077\n",
      "max_depth = 9 : 0.7682737169517885\n",
      "max_depth = 10 : 0.7822706065318819\n"
     ]
    }
   ],
   "source": [
    "# Let's try the DecisionTreeClassifier with a max depth of 10\n",
    "for depth in range (1,11):\n",
    "    tree_model = DecisionTreeClassifier(random_state=54321, max_depth = depth)\n",
    "    tree_model.fit(features_train, target_train)\n",
    "    tree_predictions = tree_model.predict(features_valid)\n",
    "    tree_result = accuracy_score(target_valid,tree_predictions)\n",
    "    print(f\"max_depth = {depth} : {tree_result}\")\n",
    "\n"
   ]
  },
  {
   "cell_type": "markdown",
   "metadata": {},
   "source": [
    "<b> not what I honestly expected since depth 3 and 5 were identical that made an assumption that the decision tree was done growing but depth 10 grew its highest accuracy score\n",
    "let's try to go to 15 to see what we get. "
   ]
  },
  {
   "cell_type": "code",
   "execution_count": 17,
   "metadata": {},
   "outputs": [
    {
     "name": "stdout",
     "output_type": "stream",
     "text": [
      "max_depth = 1 : 0.7216174183514774\n",
      "max_depth = 2 : 0.7418351477449455\n",
      "max_depth = 3 : 0.7651632970451011\n",
      "max_depth = 4 : 0.744945567651633\n",
      "max_depth = 5 : 0.7651632970451011\n",
      "max_depth = 6 : 0.7542768273716952\n",
      "max_depth = 7 : 0.7433903576982893\n",
      "max_depth = 8 : 0.7511664074650077\n",
      "max_depth = 9 : 0.7682737169517885\n",
      "max_depth = 10 : 0.7822706065318819\n",
      "max_depth = 11 : 0.7729393468118196\n",
      "max_depth = 12 : 0.7480559875583204\n",
      "max_depth = 13 : 0.7387247278382582\n",
      "max_depth = 14 : 0.7356143079315708\n",
      "max_depth = 15 : 0.7356143079315708\n"
     ]
    }
   ],
   "source": [
    "# Let's try the DecisionTreeClassifier with a max depth of 15\n",
    "for depth in range (1,16):\n",
    "    tree_model = DecisionTreeClassifier(random_state=54321, max_depth = depth)\n",
    "    tree_model.fit(features_train, target_train)\n",
    "    tree_predictions = tree_model.predict(features_valid)\n",
    "    tree_result = accuracy_score(target_valid,tree_predictions)\n",
    "    print(f\"max_depth = {depth} : {tree_result}\")\n",
    "\n"
   ]
  },
  {
   "cell_type": "markdown",
   "metadata": {},
   "source": [
    "<b> Our highest peak was at depth 10 at 78.23%. Depths 11-15 performance starts declining. Turns out this data is overfitting.\n",
    "Depth 15 is becoming too complex for the dataset. It's memorizing the training data instead of learning generalizable patterns, which hurts its performance on validation data. "
   ]
  },
  {
   "cell_type": "code",
   "execution_count": 18,
   "metadata": {},
   "outputs": [
    {
     "data": {
      "image/png": "[encoded data removed]",
      "text/plain": [
       "<Figure size 1000x600 with 1 Axes>"
      ]
     },
     "metadata": {},
     "output_type": "display_data"
    }
   ],
   "source": [
    "# Create a line chart to visual the DecisonTree's accuracy score\n",
    "depths = list(range(1, 16))\n",
    "accuracies = [0.7216, 0.7418, 0.7652, 0.7449, 0.7652, 0.7543, 0.7434, 0.7512, 0.7683, 0.7823, 0.7729, 0.7481, 0.7387, 0.7356, 0.7356]\n",
    "\n",
    "plt.figure(figsize=(10, 6))\n",
    "plt.plot(depths, accuracies, marker='o')\n",
    "plt.xlabel('Max Depth')\n",
    "plt.ylabel('Accuracy')\n",
    "plt.title('Decision Tree Performance vs Max Depth')\n",
    "plt.grid(True)\n",
    "plt.show()"
   ]
  },
  {
   "cell_type": "markdown",
   "metadata": {},
   "source": [
    "<div class=\"alert alert-success\">\n",
    "  <b>Reviewer’s comment – Iteration 1:</b><br>\n",
    "  Excellent approach! You systematically tested different <code>max_depth</code> values for the Decision Tree and analyzed how accuracy changes with model complexity. The line chart is a great addition to visualize overfitting and find the optimal depth.\n",
    "</div>"
   ]
  },
  {
   "cell_type": "code",
   "execution_count": 19,
   "metadata": {},
   "outputs": [
    {
     "name": "stdout",
     "output_type": "stream",
     "text": [
      "n_estimators = 1: 0.6781\n",
      "n_estimators = 2: 0.7247\n",
      "n_estimators = 3: 0.7294\n",
      "n_estimators = 4: 0.7356\n",
      "n_estimators = 5: 0.7294\n",
      "n_estimators = 6: 0.7465\n",
      "n_estimators = 7: 0.7325\n",
      "n_estimators = 8: 0.7574\n",
      "n_estimators = 9: 0.7621\n",
      "n_estimators = 10: 0.7698\n",
      "Accuracy of the best model on the validation set for RandomForestClassifier(n_estimators = 10):0.7698289269051322\n"
     ]
    }
   ],
   "source": [
    "# Final model: RandomForestClassifier\n",
    "best_score = 0\n",
    "best_est = 0\n",
    "\n",
    "for est in range (1,11):\n",
    "    random_model = RandomForestClassifier(random_state = 54321, n_estimators = est)\n",
    "    random_model.fit(features_train, target_train)\n",
    "    random_score = random_model.score(features_valid, target_valid)\n",
    "\n",
    "    # Print each result\n",
    "    print(f\"n_estimators = {est}: {random_score:.4f}\")\n",
    "    \n",
    "    if random_score > best_score:\n",
    "        best_score = random_score\n",
    "        best_est = est\n",
    "\n",
    "print(\"Accuracy of the best model on the validation set for RandomForestClassifier(n_estimators = {}):{}\".format(best_est, best_score))"
   ]
  },
  {
   "cell_type": "markdown",
   "metadata": {},
   "source": [
    "<b>We noticed that from 1 to 10, it's a significant jump for the accuracy score to be from 67.81% to 76.98%! Let's try to reach for 20 and see what we get!"
   ]
  },
  {
   "cell_type": "code",
   "execution_count": 20,
   "metadata": {},
   "outputs": [
    {
     "name": "stdout",
     "output_type": "stream",
     "text": [
      "n_estimators = 1: 0.6781\n",
      "n_estimators = 2: 0.7247\n",
      "n_estimators = 3: 0.7294\n",
      "n_estimators = 4: 0.7356\n",
      "n_estimators = 5: 0.7294\n",
      "n_estimators = 6: 0.7465\n",
      "n_estimators = 7: 0.7325\n",
      "n_estimators = 8: 0.7574\n",
      "n_estimators = 9: 0.7621\n",
      "n_estimators = 10: 0.7698\n",
      "n_estimators = 11: 0.7652\n",
      "n_estimators = 12: 0.7698\n",
      "n_estimators = 13: 0.7683\n",
      "n_estimators = 14: 0.7729\n",
      "n_estimators = 15: 0.7636\n",
      "n_estimators = 16: 0.7745\n",
      "n_estimators = 17: 0.7729\n",
      "n_estimators = 18: 0.7745\n",
      "n_estimators = 19: 0.7698\n",
      "n_estimators = 20: 0.7714\n",
      "Accuracy of the best model on the validation set for RandomForestClassifier(n_estimators = 16):0.7744945567651633\n"
     ]
    }
   ],
   "source": [
    "# Going to up to 20 estimators\n",
    "best_score = 0\n",
    "best_est = 0\n",
    "\n",
    "for est in range (1,21):\n",
    "    random_model = RandomForestClassifier(random_state = 54321, n_estimators = est)\n",
    "    random_model.fit(features_train, target_train)\n",
    "    random_score = random_model.score(features_valid, target_valid)\n",
    "\n",
    "    # Print each result\n",
    "    print(f\"n_estimators = {est}: {random_score:.4f}\")\n",
    "    \n",
    "    if random_score > best_score:\n",
    "        best_score = random_score\n",
    "        best_est = est\n",
    "\n",
    "print(\"Accuracy of the best model on the validation set for RandomForestClassifier(n_estimators = {}):{}\".format(best_est, best_score))"
   ]
  },
  {
   "cell_type": "code",
   "execution_count": 21,
   "metadata": {},
   "outputs": [
    {
     "name": "stdout",
     "output_type": "stream",
     "text": [
      "n_estimators = 1: 0.6781\n",
      "n_estimators = 2: 0.7247\n",
      "n_estimators = 3: 0.7294\n",
      "n_estimators = 4: 0.7356\n",
      "n_estimators = 5: 0.7294\n",
      "n_estimators = 6: 0.7465\n",
      "n_estimators = 7: 0.7325\n",
      "n_estimators = 8: 0.7574\n",
      "n_estimators = 9: 0.7621\n",
      "n_estimators = 10: 0.7698\n",
      "n_estimators = 11: 0.7652\n",
      "n_estimators = 12: 0.7698\n",
      "n_estimators = 13: 0.7683\n",
      "n_estimators = 14: 0.7729\n",
      "n_estimators = 15: 0.7636\n",
      "n_estimators = 16: 0.7745\n",
      "n_estimators = 17: 0.7729\n",
      "n_estimators = 18: 0.7745\n",
      "n_estimators = 19: 0.7698\n",
      "n_estimators = 20: 0.7714\n",
      "n_estimators = 21: 0.7714\n",
      "n_estimators = 22: 0.7745\n",
      "n_estimators = 23: 0.7714\n",
      "n_estimators = 24: 0.7776\n",
      "n_estimators = 25: 0.7776\n",
      "n_estimators = 26: 0.7792\n",
      "n_estimators = 27: 0.7760\n",
      "n_estimators = 28: 0.7760\n",
      "n_estimators = 29: 0.7745\n",
      "n_estimators = 30: 0.7760\n",
      "n_estimators = 31: 0.7760\n",
      "n_estimators = 32: 0.7792\n",
      "n_estimators = 33: 0.7776\n",
      "n_estimators = 34: 0.7792\n",
      "n_estimators = 35: 0.7745\n",
      "n_estimators = 36: 0.7807\n",
      "n_estimators = 37: 0.7792\n",
      "n_estimators = 38: 0.7838\n",
      "n_estimators = 39: 0.7838\n",
      "n_estimators = 40: 0.7838\n",
      "n_estimators = 41: 0.7823\n",
      "n_estimators = 42: 0.7838\n",
      "n_estimators = 43: 0.7792\n",
      "n_estimators = 44: 0.7854\n",
      "n_estimators = 45: 0.7838\n",
      "n_estimators = 46: 0.7807\n",
      "n_estimators = 47: 0.7838\n",
      "n_estimators = 48: 0.7823\n",
      "n_estimators = 49: 0.7792\n",
      "n_estimators = 50: 0.7807\n",
      "Accuracy of the best model on the validation set for RandomForestClassifier(n_estimators = 44):0.7853810264385692\n"
     ]
    }
   ],
   "source": [
    "# Going to up to 50 estimators\n",
    "best_score = 0\n",
    "best_est = 0\n",
    "\n",
    "for est in range (1,51):\n",
    "    random_model = RandomForestClassifier(random_state = 54321, n_estimators = est)\n",
    "    random_model.fit(features_train, target_train)\n",
    "    random_score = random_model.score(features_valid, target_valid)\n",
    "\n",
    "    # Print each result\n",
    "    print(f\"n_estimators = {est}: {random_score:.4f}\")\n",
    "    \n",
    "    if random_score > best_score:\n",
    "        best_score = random_score\n",
    "        best_est = est\n",
    "\n",
    "print(\"Accuracy of the best model on the validation set for RandomForestClassifier(n_estimators = {}):{}\".format(best_est, best_score))"
   ]
  },
  {
   "cell_type": "code",
   "execution_count": 22,
   "metadata": {},
   "outputs": [
    {
     "name": "stdout",
     "output_type": "stream",
     "text": [
      "n_estimators = 1: 0.6781\n",
      "n_estimators = 2: 0.7247\n",
      "n_estimators = 3: 0.7294\n",
      "n_estimators = 4: 0.7356\n",
      "n_estimators = 5: 0.7294\n",
      "n_estimators = 6: 0.7465\n",
      "n_estimators = 7: 0.7325\n",
      "n_estimators = 8: 0.7574\n",
      "n_estimators = 9: 0.7621\n",
      "n_estimators = 10: 0.7698\n",
      "n_estimators = 11: 0.7652\n",
      "n_estimators = 12: 0.7698\n",
      "n_estimators = 13: 0.7683\n",
      "n_estimators = 14: 0.7729\n",
      "n_estimators = 15: 0.7636\n",
      "n_estimators = 16: 0.7745\n",
      "n_estimators = 17: 0.7729\n",
      "n_estimators = 18: 0.7745\n",
      "n_estimators = 19: 0.7698\n",
      "n_estimators = 20: 0.7714\n",
      "n_estimators = 21: 0.7714\n",
      "n_estimators = 22: 0.7745\n",
      "n_estimators = 23: 0.7714\n",
      "n_estimators = 24: 0.7776\n",
      "n_estimators = 25: 0.7776\n",
      "n_estimators = 26: 0.7792\n",
      "n_estimators = 27: 0.7760\n",
      "n_estimators = 28: 0.7760\n",
      "n_estimators = 29: 0.7745\n",
      "n_estimators = 30: 0.7760\n",
      "n_estimators = 31: 0.7760\n",
      "n_estimators = 32: 0.7792\n",
      "n_estimators = 33: 0.7776\n",
      "n_estimators = 34: 0.7792\n",
      "n_estimators = 35: 0.7745\n",
      "n_estimators = 36: 0.7807\n",
      "n_estimators = 37: 0.7792\n",
      "n_estimators = 38: 0.7838\n",
      "n_estimators = 39: 0.7838\n",
      "n_estimators = 40: 0.7838\n",
      "n_estimators = 41: 0.7823\n",
      "n_estimators = 42: 0.7838\n",
      "n_estimators = 43: 0.7792\n",
      "n_estimators = 44: 0.7854\n",
      "n_estimators = 45: 0.7838\n",
      "n_estimators = 46: 0.7807\n",
      "n_estimators = 47: 0.7838\n",
      "n_estimators = 48: 0.7823\n",
      "n_estimators = 49: 0.7792\n",
      "n_estimators = 50: 0.7807\n",
      "n_estimators = 51: 0.7838\n",
      "n_estimators = 52: 0.7869\n",
      "n_estimators = 53: 0.7838\n",
      "n_estimators = 54: 0.7838\n",
      "n_estimators = 55: 0.7823\n",
      "n_estimators = 56: 0.7792\n",
      "n_estimators = 57: 0.7792\n",
      "n_estimators = 58: 0.7776\n",
      "n_estimators = 59: 0.7792\n",
      "n_estimators = 60: 0.7807\n",
      "n_estimators = 61: 0.7776\n",
      "n_estimators = 62: 0.7807\n",
      "n_estimators = 63: 0.7792\n",
      "n_estimators = 64: 0.7792\n",
      "n_estimators = 65: 0.7776\n",
      "n_estimators = 66: 0.7792\n",
      "n_estimators = 67: 0.7776\n",
      "n_estimators = 68: 0.7776\n",
      "n_estimators = 69: 0.7807\n",
      "n_estimators = 70: 0.7792\n",
      "n_estimators = 71: 0.7792\n",
      "n_estimators = 72: 0.7760\n",
      "n_estimators = 73: 0.7760\n",
      "n_estimators = 74: 0.7760\n",
      "n_estimators = 75: 0.7760\n",
      "n_estimators = 76: 0.7760\n",
      "n_estimators = 77: 0.7792\n",
      "n_estimators = 78: 0.7792\n",
      "n_estimators = 79: 0.7776\n",
      "n_estimators = 80: 0.7760\n",
      "n_estimators = 81: 0.7776\n",
      "n_estimators = 82: 0.7792\n",
      "n_estimators = 83: 0.7838\n",
      "n_estimators = 84: 0.7792\n",
      "n_estimators = 85: 0.7776\n",
      "n_estimators = 86: 0.7776\n",
      "n_estimators = 87: 0.7776\n",
      "n_estimators = 88: 0.7792\n",
      "n_estimators = 89: 0.7776\n",
      "n_estimators = 90: 0.7776\n",
      "n_estimators = 91: 0.7776\n",
      "n_estimators = 92: 0.7776\n",
      "n_estimators = 93: 0.7760\n",
      "n_estimators = 94: 0.7792\n",
      "n_estimators = 95: 0.7792\n",
      "n_estimators = 96: 0.7807\n",
      "n_estimators = 97: 0.7807\n",
      "n_estimators = 98: 0.7807\n",
      "n_estimators = 99: 0.7823\n",
      "n_estimators = 100: 0.7823\n",
      "Accuracy of the best model on the validation set for RandomForestClassifier(n_estimators = 52):0.7869362363919129\n"
     ]
    }
   ],
   "source": [
    "# Going to up to 100 estimators\n",
    "best_score = 0\n",
    "best_est = 0\n",
    "\n",
    "for est in range (1,101):\n",
    "    random_model = RandomForestClassifier(random_state = 54321, n_estimators = est)\n",
    "    random_model.fit(features_train, target_train)\n",
    "    random_score = random_model.score(features_valid, target_valid)\n",
    "\n",
    "    # Print each result\n",
    "    print(f\"n_estimators = {est}: {random_score:.4f}\")\n",
    "    \n",
    "    if random_score > best_score:\n",
    "        best_score = random_score\n",
    "        best_est = est\n",
    "\n",
    "print(\"Accuracy of the best model on the validation set for RandomForestClassifier(n_estimators = {}):{}\".format(best_est, best_score))"
   ]
  },
  {
   "cell_type": "code",
   "execution_count": 23,
   "metadata": {},
   "outputs": [
    {
     "data": {
      "image/png": "[encoded data removed]",
      "text/plain": [
       "<Figure size 1200x600 with 1 Axes>"
      ]
     },
     "metadata": {},
     "output_type": "display_data"
    }
   ],
   "source": [
    "# Let's create a graph for the RandomForestClassifier\n",
    "estimators = list(range(1,101))\n",
    "accuracies = []\n",
    "\n",
    "for est in range(1,101):\n",
    "    random_model = RandomForestClassifier(random_state = 54321, n_estimators = est)\n",
    "    random_model.fit(features_train, target_train)\n",
    "    random_score = random_model.score(features_valid, target_valid)\n",
    "    accuracies.append(random_score)\n",
    "\n",
    "# Plot the 100 estimators\n",
    "plt.figure(figsize = (12,6))\n",
    "plt.plot(estimators,accuracies,marker='o', markersize=3)\n",
    "plt.xlabel('Number of Estimators')\n",
    "plt.ylabel('Accuracy')\n",
    "plt.title('Random Forest Performance')\n",
    "plt.grid(True)\n",
    "plt.show()"
   ]
  },
  {
   "cell_type": "markdown",
   "metadata": {},
   "source": [
    "<b> We can see that accuracy is around 77-78% from estimators 30 and beyond. 52 is our best estimator but should we use 44 for our top 50 versus top 100?"
   ]
  },
  {
   "cell_type": "code",
   "execution_count": 24,
   "metadata": {},
   "outputs": [
    {
     "name": "stdout",
     "output_type": "stream",
     "text": [
      "max_depth = 3: 0.7714\n",
      "max_depth = 5: 0.7807\n",
      "max_depth = 7: 0.7776\n",
      "max_depth = 10: 0.7947\n",
      "max_depth = None: 0.7854\n"
     ]
    }
   ],
   "source": [
    "# Test different max_depth values\n",
    "for depth in [3, 5, 7, 10, None]:  # None means no limit\n",
    "    rf_model = RandomForestClassifier(\n",
    "        random_state=54321, \n",
    "        n_estimators=44,  # Use your best n_estimators\n",
    "        max_depth=depth\n",
    "    )\n",
    "    rf_model.fit(features_train, target_train)\n",
    "    score = rf_model.score(features_valid, target_valid)\n",
    "    print(f\"max_depth = {depth}: {score:.4f}\")"
   ]
  },
  {
   "cell_type": "code",
   "execution_count": 25,
   "metadata": {},
   "outputs": [
    {
     "name": "stdout",
     "output_type": "stream",
     "text": [
      "best_depth = 2: 0.7418\n",
      "best_depth = 4: 0.7776\n",
      "best_depth = 6: 0.7823\n",
      "best_depth = 8: 0.7869\n",
      "best_depth = 10: 0.7947\n",
      "best_depth = 12: 0.7932\n",
      "best_depth = 15: 0.7854\n",
      "best_depth = 20: 0.7792\n"
     ]
    }
   ],
   "source": [
    "# Your best combination so far\n",
    "for depth in [2, 4, 6, 8, 10, 12, 15,20]: # None means no limit\n",
    "    rf_best = RandomForestClassifier(\n",
    "    random_state=54321,\n",
    "    n_estimators=44,  # or whatever was your best\n",
    "    max_depth=depth\n",
    "    )\n",
    "    rf_best.fit(features_train,target_train)\n",
    "    rf_score = rf_best.score(features_valid, target_valid)\n",
    "    print(f\"best_depth = {depth}: {rf_score:.4f}\")\n"
   ]
  },
  {
   "cell_type": "markdown",
   "metadata": {},
   "source": [
    "<b> max_depth 10 is our best accuracy score for the RandomForest model, now let's do the final test"
   ]
  },
  {
   "cell_type": "markdown",
   "metadata": {},
   "source": [
    "<div class=\"alert alert-success\">\n",
    "  <b>Reviewer’s comment – Iteration 1:</b><br>\n",
    "  Great job experimenting with Random Forest! You tested different numbers of estimators, plotted their performance, and further optimized by tuning <code>max_depth</code>. The accuracy stabilization around 77–78% and finding the best configuration shows a strong and systematic approach to hyperparameter tuning.\n",
    "</div>\n",
    "\n",
    "<div class=\"alert alert-warning\">\n",
    "  <b>Reviewer’s comment – Iteration 1:</b><br>\n",
    "  Suggestion: You might also want to explore additional parameters like <code>max_features</code> or <code>min_samples_split</code> to squeeze out more performance. Using tools like <code>GridSearchCV</code> or <code>RandomizedSearchCV</code> could automate this search process and provide cross-validated results, giving you more confidence in the chosen model.\n",
    "</div>\n"
   ]
  },
  {
   "cell_type": "code",
   "execution_count": 26,
   "metadata": {},
   "outputs": [
    {
     "name": "stdout",
     "output_type": "stream",
     "text": [
      "Final mode accuracy on the test set:  0.8289\n"
     ]
    }
   ],
   "source": [
    "# Testing the best model for the best score\n",
    "final_model = RandomForestClassifier(random_state=54321, n_estimators=44, max_depth=10)\n",
    "# Train the final model on the full training set \n",
    "final_model.fit(features_train, target_train)\n",
    "# Elevate it on the test set\n",
    "test_score = final_model.score(features_test, target_test)\n",
    "print(f\"Final mode accuracy on the test set: {test_score: .4f}\")"
   ]
  },
  {
   "cell_type": "markdown",
   "metadata": {},
   "source": [
    "### From testing the 3 model, RandomForestClassifier is the best model to make the data accurate!"
   ]
  },
  {
   "cell_type": "markdown",
   "metadata": {},
   "source": [
    "<div class=\"alert alert-success\">\n",
    "  <b>Reviewer’s comment – Iteration 1:</b><br>\n",
    "  Excellent work! You trained the final Random Forest model with the tuned parameters and evaluated it on the test set. The test accuracy is clearly reported, and you concluded that Random Forest is the best-performing model out of the three. This meets the project requirement of achieving at least 0.75 accuracy.\n",
    "</div>\n",
    "\n",
    "<div class=\"alert alert-warning\">\n",
    "  <b>Reviewer’s comment – Iteration 1:</b><br>\n",
    "  Suggestion: It would make the project even stronger if you added a short written conclusion summarizing the process — mentioning that Logistic Regression underperformed, Decision Tree showed signs of overfitting, and Random Forest with tuned parameters achieved the best accuracy on the test set. This gives a clear takeaway for anyone reviewing your notebook.\n",
    "</div>\n"
   ]
  },
  {
   "cell_type": "code",
   "execution_count": null,
   "metadata": {},
   "outputs": [],
   "source": []
  }
 ],
 "metadata": {
  "kernelspec": {
   "display_name": "Python 3 (ipykernel)",
   "language": "python",
   "name": "python3"
  },
  "language_info": {
   "codemirror_mode": {
    "name": "ipython",
    "version": 3
   },
   "file_extension": ".py",
   "mimetype": "text/x-python",
   "name": "python",
   "nbconvert_exporter": "python",
   "pygments_lexer": "ipython3",
   "version": "3.9.23"
  }
 },
 "nbformat": 4,
 "nbformat_minor": 4
}
