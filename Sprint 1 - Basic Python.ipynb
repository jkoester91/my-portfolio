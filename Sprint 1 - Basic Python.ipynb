{
 "cells": [
  {
   "cell_type": "markdown",
   "metadata": {},
   "source": [
    "<div style=\"border:solid blue 2px; padding: 20px\">\n",
    "\n",
    "**Overall Summary of the Project**\n",
    "\n",
    "Hi Jimmy! Nice work tackling all 8 tasks! You’ve shown you can import, inspect, clean, filter, and write functions with pandas. Here’s some feedback to get your notebook running smoothly:\n",
    "\n",
    "---\n",
    "\n",
    "**✅ What’s working well**\n",
    "\n",
    "- You strip whitespace on column names with `df.columns = df.columns.str.strip()`.  \n",
    "- Your `df.rename(...)` correctly standardizes names like `r0le→role`, `imdb sc0re→imdb_score`.  \n",
    "- You locate and fix “In??s Prieto” via `df.loc[85576, 'name'] = 'Ines Prieto'`.  \n",
    "- Filtering for high-rated movies and converting `title` to a `set` to get unique titles works perfectly.  \n",
    "- Your helper functions (`get_unique_top_movies`, `get_top_movies_from_decade`, `get_actors_for_title`, `categorize_imdb_score`) follow the right structure.\n",
    "\n",
    "---\n",
    "\n",
    "**🛠 Key improvements**  \n",
    "\n",
    "1. **Don’t overwrite `df` when filtering**  \n",
    "   In Task 3 you do  \n",
    "   <code>df = df[df['name'] == 'Ines Prieto'][[...] ]</code>  \n",
    "   which discards all other data. Instead assign to a new variable:  \n",
    "   <code>ines_df = df[df['name'] == 'Ines Prieto'][['title','release_year','imdb_score','genres']]</code>  \n",
    "\n",
    "2. **Combine masks correctly**  \n",
    "   Your decade filter masks were applied to the original `df` with only the decade condition. Instead combine release-year and score in one mask:  \n",
    "   <code>\n",
    "   def get_top_movies_from_decade(start, min_score):  \n",
    "       mask = (df['release_year'] >= start) &  \n",
    "              (df['release_year'] <= start + 9) &  \n",
    "              (df['imdb_score'] >= min_score)  \n",
    "       return set(df[mask]['title'])  \n",
    "   </code>  \n",
    "\n",
    "3. **Fix variable name in categorization**  \n",
    "   You define `imdb_score` but check `if imdb_score >= ...`. Make sure you use that same variable in all branches. Also include the final `else` so every path returns:  \n",
    "   <code>\n",
    "   def categorize_imdb_score(title):  \n",
    "       movie = df[df['title'] == title]  \n",
    "       if movie.empty:  \n",
    "           return \"Title not found\"  \n",
    "       score = movie['imdb_score'].iloc[0]  \n",
    "       if score >= 9.0: return \"Excellent\"  \n",
    "       elif score >= 7.0: return \"Good\"  \n",
    "       elif score >= 5.0: return \"Average\"  \n",
    "       else: return \"Low\"  \n",
    "   </code>  \n",
    "\n",
    "4. **Return, not print, inside functions**  \n",
    "   All your helper functions should `return` values so you can capture and reuse them. For example:  \n",
    "   <code>\n",
    "   def get_unique_top_movies(min_score):  \n",
    "       high = df[df['imdb_score'] >= min_score]  \n",
    "       return set(high['title'])  \n",
    "   </code>  \n",
    "\n",
    "5. **Test your functions explicitly**  \n",
    "   After defining each function, call and print its result in a separate cell:  \n",
    "   <code>\n",
    "   top9 = get_unique_top_movies(9.0)  \n",
    "   print(top9)  \n",
    "   </code>  \n",
    "\n",
    "---\n",
    "\n",
    "With these tweaks—preserving your master DataFrame, combining masks properly, fixing the variable name, and returning values—your notebook will run error-free and be more idiomatic. Keep it up!  "
   ]
  },
  {
   "cell_type": "markdown",
   "metadata": {},
   "source": [
    "<div style=\"border:solid blue 2px; padding: 20px\">\n",
    "\n",
    "**Overall Summary of the Project Iter 2**\n",
    "\n",
    "Congrats on your approval, Jimmy! ;)"
   ]
  },
  {
   "cell_type": "markdown",
   "metadata": {
    "id": "JKIIqy01lgHq"
   },
   "source": [
    "# Project: Data Analysis with Pandas\n",
    "\n",
    "In this project, you will work with a dataset containing information about movies and shows. You will use the pandas library to read, clean, and analyze the data. This project will help you practice working with DataFrames, indexing, and data manipulation using pandas.\n",
    "\n",
    "\n",
    "## Dataset Description\n",
    "\n",
    "The dataset `movies_and_shows.csv` contains information about various movies and shows, including:\n",
    "\n",
    "- **name**: The name of the actor or actress.\n",
    "- **Character**: The character they played.\n",
    "- **r0le**: The role type (e.g., ACTOR).\n",
    "- **TITLE**: The title of the movie or show.\n",
    "- **Type**: Whether it's a MOVIE or SHOW.\n",
    "- **release Year**: The year it was released.\n",
    "- **genres**: A list of genres the movie or show belongs to.\n",
    "- **imdb sc0re**: The IMDb score of the movie or show.\n",
    "- **imdb v0tes**: The number of votes on IMDb.\n",
    "\n",
    "Here's a small sample of the dataset:\n",
    "\n",
    "| name              | Character                         | r0le   | TITLE        |  Type | release Year | genres             | imdb sc0re | imdb v0tes |\n",
    "|-------------------|-----------------------------------|--------|--------------|-------|--------------|--------------------|------------|------------|\n",
    "| Robert De Niro    | Travis Bickle                     | ACTOR  | Taxi Driver  | MOVIE | 1976         | ['drama', 'crime'] | 8.2        | 808582     |\n",
    "| Jodie Foster      | Iris Steensma                     | ACTOR  | Taxi Driver  | MOVIE | 1976         | ['drama', 'crime'] | 8.2        | 808582     |\n",
    "| Albert Brooks     | Tom                               | ACTOR  | Taxi Driver  | MOVIE | 1976         | ['drama', 'crime'] | 8.2        | 808582     |\n",
    "| Harvey Keitel     | Matthew 'Sport' Higgins           | ACTOR  | Taxi Driver  | MOVIE | 1976         | ['drama', 'crime'] | 8.2        | 808582     |\n",
    "| Cybill Shepherd   | Betsy                             | ACTOR  | Taxi Driver  | MOVIE | 1976         | ['drama', 'crime'] | 8.2        | 808582     |\n",
    "\n"
   ]
  },
  {
   "cell_type": "markdown",
   "metadata": {
    "id": "csnpkGaRlkVj"
   },
   "source": [
    "## Getting Started\n",
    "\n",
    "Let's begin by setting up our environment.\n",
    "\n",
    "### Importing Libraries\n",
    "\n",
    "First, we need to import the necessary libraries.\n",
    "\n",
    "**Instructions:**\n",
    "\n",
    "- Import the `pandas` library, which we will use for data manipulation."
   ]
  },
  {
   "cell_type": "code",
   "execution_count": 1,
   "metadata": {
    "id": "xVSzQhyjlg2F"
   },
   "outputs": [],
   "source": [
    "#Import the pandas library as 'pd'\n",
    "import pandas as pd"
   ]
  },
  {
   "cell_type": "markdown",
   "metadata": {
    "id": "C2Ks4kU9lsH7"
   },
   "source": [
    "We will load the dataset into a pandas DataFrame to begin our analysis.\n",
    "\n",
    "**Instructions:**\n",
    "\n",
    "- Read the `movies_and_shows.csv` file into a DataFrame. It is in the /datasets directory so the full path to include in the read_csv method will be \"/datasets/movies_and_shows.csv\"\n",
    "- Display the first few rows of the DataFrame to get an initial look at the data.\n",
    "\n",
    "**Hints:**\n",
    "\n",
    "- Use `pd.read_csv()` to read the CSV file and store it in a variable called \"df\".\n",
    "- Use the `.head()` method to display the first few rows."
   ]
  },
  {
   "cell_type": "code",
   "execution_count": 2,
   "metadata": {
    "id": "afwv-RRIlwcF"
   },
   "outputs": [],
   "source": [
    "# Read the dataset into a DataFrame\n",
    "df = pd.read_csv('/datasets/movies_and_shows.csv')"
   ]
  },
  {
   "cell_type": "code",
   "execution_count": 3,
   "metadata": {
    "id": "iHI5NhB6mYel"
   },
   "outputs": [
    {
     "data": {
      "text/html": [
       "<div>\n",
       "<style scoped>\n",
       "    .dataframe tbody tr th:only-of-type {\n",
       "        vertical-align: middle;\n",
       "    }\n",
       "\n",
       "    .dataframe tbody tr th {\n",
       "        vertical-align: top;\n",
       "    }\n",
       "\n",
       "    .dataframe thead th {\n",
       "        text-align: right;\n",
       "    }\n",
       "</style>\n",
       "<table border=\"1\" class=\"dataframe\">\n",
       "  <thead>\n",
       "    <tr style=\"text-align: right;\">\n",
       "      <th></th>\n",
       "      <th>name</th>\n",
       "      <th>Character</th>\n",
       "      <th>r0le</th>\n",
       "      <th>TITLE</th>\n",
       "      <th>Type</th>\n",
       "      <th>release Year</th>\n",
       "      <th>genres</th>\n",
       "      <th>imdb sc0re</th>\n",
       "      <th>imdb v0tes</th>\n",
       "    </tr>\n",
       "  </thead>\n",
       "  <tbody>\n",
       "    <tr>\n",
       "      <th>0</th>\n",
       "      <td>Robert De Niro</td>\n",
       "      <td>Travis Bickle</td>\n",
       "      <td>ACTOR</td>\n",
       "      <td>Taxi Driver</td>\n",
       "      <td>MOVIE</td>\n",
       "      <td>1976</td>\n",
       "      <td>['drama', 'crime']</td>\n",
       "      <td>8.2</td>\n",
       "      <td>808582.0</td>\n",
       "    </tr>\n",
       "    <tr>\n",
       "      <th>1</th>\n",
       "      <td>Jodie Foster</td>\n",
       "      <td>Iris Steensma</td>\n",
       "      <td>ACTOR</td>\n",
       "      <td>Taxi Driver</td>\n",
       "      <td>MOVIE</td>\n",
       "      <td>1976</td>\n",
       "      <td>['drama', 'crime']</td>\n",
       "      <td>8.2</td>\n",
       "      <td>808582.0</td>\n",
       "    </tr>\n",
       "    <tr>\n",
       "      <th>2</th>\n",
       "      <td>Albert Brooks</td>\n",
       "      <td>Tom</td>\n",
       "      <td>ACTOR</td>\n",
       "      <td>Taxi Driver</td>\n",
       "      <td>MOVIE</td>\n",
       "      <td>1976</td>\n",
       "      <td>['drama', 'crime']</td>\n",
       "      <td>8.2</td>\n",
       "      <td>808582.0</td>\n",
       "    </tr>\n",
       "    <tr>\n",
       "      <th>3</th>\n",
       "      <td>Harvey Keitel</td>\n",
       "      <td>Matthew 'Sport' Higgins</td>\n",
       "      <td>ACTOR</td>\n",
       "      <td>Taxi Driver</td>\n",
       "      <td>MOVIE</td>\n",
       "      <td>1976</td>\n",
       "      <td>['drama', 'crime']</td>\n",
       "      <td>8.2</td>\n",
       "      <td>808582.0</td>\n",
       "    </tr>\n",
       "    <tr>\n",
       "      <th>4</th>\n",
       "      <td>Cybill Shepherd</td>\n",
       "      <td>Betsy</td>\n",
       "      <td>ACTOR</td>\n",
       "      <td>Taxi Driver</td>\n",
       "      <td>MOVIE</td>\n",
       "      <td>1976</td>\n",
       "      <td>['drama', 'crime']</td>\n",
       "      <td>8.2</td>\n",
       "      <td>808582.0</td>\n",
       "    </tr>\n",
       "  </tbody>\n",
       "</table>\n",
       "</div>"
      ],
      "text/plain": [
       "              name                Character   r0le        TITLE   Type  \\\n",
       "0   Robert De Niro            Travis Bickle  ACTOR  Taxi Driver  MOVIE   \n",
       "1     Jodie Foster            Iris Steensma  ACTOR  Taxi Driver  MOVIE   \n",
       "2    Albert Brooks                      Tom  ACTOR  Taxi Driver  MOVIE   \n",
       "3    Harvey Keitel  Matthew 'Sport' Higgins  ACTOR  Taxi Driver  MOVIE   \n",
       "4  Cybill Shepherd                    Betsy  ACTOR  Taxi Driver  MOVIE   \n",
       "\n",
       "   release Year              genres  imdb sc0re  imdb v0tes  \n",
       "0          1976  ['drama', 'crime']         8.2    808582.0  \n",
       "1          1976  ['drama', 'crime']         8.2    808582.0  \n",
       "2          1976  ['drama', 'crime']         8.2    808582.0  \n",
       "3          1976  ['drama', 'crime']         8.2    808582.0  \n",
       "4          1976  ['drama', 'crime']         8.2    808582.0  "
      ]
     },
     "execution_count": 3,
     "metadata": {},
     "output_type": "execute_result"
    }
   ],
   "source": [
    "# Display the first few rows of the DataFrame\n",
    "df.head()"
   ]
  },
  {
   "cell_type": "markdown",
   "metadata": {
    "id": "otEIbWKZmmaT"
   },
   "source": [
    "Understanding the structure and content of your data is crucial before performing any analysis.\n",
    "\n",
    "**Instructions:**\n",
    "\n",
    "- Use the `.info()` method to get information about the DataFrame.\n",
    "- Identify any issues with the Column names."
   ]
  },
  {
   "cell_type": "code",
   "execution_count": 4,
   "metadata": {
    "id": "v7Oa8Zuzmjo1"
   },
   "outputs": [
    {
     "name": "stdout",
     "output_type": "stream",
     "text": [
      "<class 'pandas.core.frame.DataFrame'>\n",
      "RangeIndex: 85579 entries, 0 to 85578\n",
      "Data columns (total 9 columns):\n",
      " #   Column        Non-Null Count  Dtype  \n",
      "---  ------        --------------  -----  \n",
      " 0      name       85579 non-null  object \n",
      " 1   Character     85579 non-null  object \n",
      " 2   r0le          85579 non-null  object \n",
      " 3   TITLE         85578 non-null  object \n",
      " 4     Type        85579 non-null  object \n",
      " 5   release Year  85579 non-null  int64  \n",
      " 6   genres        85579 non-null  object \n",
      " 7   imdb sc0re    80970 non-null  float64\n",
      " 8   imdb v0tes    80853 non-null  float64\n",
      "dtypes: float64(2), int64(1), object(6)\n",
      "memory usage: 5.9+ MB\n"
     ]
    }
   ],
   "source": [
    "# Get information about the DataFrame and print the column names\n",
    "df.info()"
   ]
  },
  {
   "cell_type": "markdown",
   "metadata": {
    "id": "_rsPAidUm3lS"
   },
   "source": [
    "## Task 1: Data Cleaning\n",
    "\n",
    "Let's clean the data to fix issues with the column names\n",
    "\n",
    "**Instructions:**\n",
    "- Rename the columns to correct any errors and make them consistent.\n",
    "\n",
    "**Hints:**\n",
    "\n",
    "- Use the `.rename()` method to rename columns.\n",
    "- Pass a dictionary to the `columns` parameter of `.rename()`, where the keys are the old column names and the values are the new names.\n",
    "- Remove unnecessary whitespace from the column names."
   ]
  },
  {
   "cell_type": "code",
   "execution_count": 5,
   "metadata": {},
   "outputs": [],
   "source": [
    "# Remove unnecessary whitespace from the column names\n",
    "df.columns = df.columns.str.strip()"
   ]
  },
  {
   "cell_type": "code",
   "execution_count": 6,
   "metadata": {
    "id": "FkIUzgKPm4Rz"
   },
   "outputs": [],
   "source": [
    "# Rename columns to make them consistent and correct errors\n",
    "df = df.rename(\n",
    "    columns ={\n",
    "        'Character': 'character',\n",
    "        'r0le': 'role',\n",
    "        'TITLE': 'title',\n",
    "        'Type': 'type',\n",
    "        'release Year': 'release_year',\n",
    "        'imdb sc0re': 'imdb_score',\n",
    "        'imdb v0tes': 'imdb_votes'\n",
    "    }\n",
    "    \n",
    "    \n",
    ")"
   ]
  },
  {
   "cell_type": "code",
   "execution_count": 7,
   "metadata": {
    "id": "cHi0aQgunByj"
   },
   "outputs": [
    {
     "name": "stdout",
     "output_type": "stream",
     "text": [
      "Index(['name', 'character', 'role', 'title', 'type', 'release_year', 'genres',\n",
      "       'imdb_score', 'imdb_votes'],\n",
      "      dtype='object')\n"
     ]
    }
   ],
   "source": [
    "# Print the updated column names to confirm changes\n",
    "print(df.columns)"
   ]
  },
  {
   "cell_type": "markdown",
   "metadata": {
    "id": "z6ShKY5boqj1"
   },
   "source": [
    "## Task 2: Correcting a Misspelled Name in the Data\n",
    "\n",
    "While analyzing the dataset, you notice that some names are misspelled or contain special characters due to encoding issues. Accurate data is essential for reporting and recommendations, so let’s correct one of these entries.\n",
    "\n",
    "### Instructions\n",
    "\n",
    "1. **Locate the Row with the Incorrect Name**:\n",
    "   - Use `.loc[]` to retrieve the row where `name` is `\"In??s Prieto\"`.\n",
    "   - You can locate a row based on the index (85576) and column name called \"name\".\n",
    "   - Print the row to verify that you have the correct one.\n",
    "\n",
    "\n",
    "2. **Correct the Name**:\n",
    "   - Using `.loc[]`, update the `name` column for this row to \"Ines Prieto.\"\n",
    "   \n",
    "3. **Verify the Correction**:\n",
    "   - Print the row again to ensure that the name has been corrected."
   ]
  },
  {
   "cell_type": "code",
   "execution_count": 8,
   "metadata": {
    "id": "JeEDNCYsoo0z"
   },
   "outputs": [
    {
     "name": "stdout",
     "output_type": "stream",
     "text": [
      "In??s Prieto\n"
     ]
    }
   ],
   "source": [
    "# Locate the row with the incorrect name\n",
    "print(df.loc[85576, 'name'])"
   ]
  },
  {
   "cell_type": "code",
   "execution_count": 9,
   "metadata": {
    "id": "US2yweQ3RFTE"
   },
   "outputs": [],
   "source": [
    "# Correct the name\n",
    "df.loc[85576,'name'] = 'Ines Prieto'"
   ]
  },
  {
   "cell_type": "code",
   "execution_count": 10,
   "metadata": {
    "id": "IgEGbcNVqLnU"
   },
   "outputs": [
    {
     "name": "stdout",
     "output_type": "stream",
     "text": [
      "Ines Prieto\n"
     ]
    }
   ],
   "source": [
    "# Verify the correction\n",
    "print(df.loc[85576,'name'])"
   ]
  },
  {
   "cell_type": "markdown",
   "metadata": {
    "id": "vLIvSF0hsYpE"
   },
   "source": [
    "## Task 3: Finding All Movies and Shows Featuring Ines Prieto\n",
    "\n",
    "Now that we've corrected the spelling of \"Ines Prieto\" in the dataset, let's find all the TV shows and movies she has acted in. This type of filtering is helpful for generating actor-specific profiles or building a list of their works.\n",
    "\n",
    "### Instructions\n",
    "\n",
    "1. **Filter by Actor’s Name**:\n",
    "   - Use a filtering condition to select rows where the `name` column is equal to `\"Ines Prieto\"`.\n",
    "   \n",
    "2. **Display Relevant Columns**:\n",
    "   - From each matching row, retrieve only the `title`, `release_year`, `imdb_score`, and `genres` columns for a clear, concise output.\n",
    "\n",
    "**Hint:**\n",
    "\n",
    "To filter rows based on a specific value in a column, use a condition inside df[ ... ]. In this case, check if the name column equals \"Ines Prieto\". Then, select only the columns you need (like title, release_year, imdb_score, and genres) by specifying them in double brackets [ [ ... ] ].\n"
   ]
  },
  {
   "cell_type": "code",
   "execution_count": 11,
   "metadata": {
    "id": "eksJ9sXXr1UU"
   },
   "outputs": [],
   "source": [
    "# Filter rows where the actor's name is \"Ines Prieto\" and display the title, release_year, genres, and imdb_score\n",
    "ines_df = df[df['name'] == 'Ines Prieto'][['title','release_year','imdb_score','genres']]\n"
   ]
  },
  {
   "cell_type": "code",
   "execution_count": 12,
   "metadata": {
    "id": "vYrm6MhERlZc"
   },
   "outputs": [
    {
     "name": "stdout",
     "output_type": "stream",
     "text": [
      "         title  release_year  imdb_score      genres\n",
      "85576  Lokillo          2021         3.8  ['comedy']\n"
     ]
    }
   ],
   "source": [
    "# Display the result\n",
    "print(ines_df)"
   ]
  },
  {
   "cell_type": "markdown",
   "metadata": {
    "id": "HtmXfQHHutNk"
   },
   "source": [
    "## Task 4: Finding Highly Rated Movies\n",
    "\n",
    "We want to identify movies with an IMDb rating of at least **9.0**. This list could be helpful for curating a \"Top Movies\" section based on high ratings.\n",
    "\n",
    "### Instructions\n",
    "\n",
    "1. **Filter for High IMDb Scores**:\n",
    "   - First, filter the DataFrame to include only rows where the `imdb_score` is greater than 9.0.\n",
    "\n",
    "2. **Extract the Titles**:\n",
    "   - From this filtered DataFrame, select only the `title` column, which contains the names of the movies.\n",
    "\n",
    "3. **Get Unique Titles**:\n",
    "   - Convert the resulting list of titles to a set to remove any duplicate titles. Using `set()` will keep only unique movie names.\n",
    "\n",
    "   - *Example*: `unique_titles = set(high_score_titles)`\n",
    "\n",
    "4. **Print the Unique Titles**:\n",
    "   - Display the final set of unique movie titles to see the list of top-rated movies.\n"
   ]
  },
  {
   "cell_type": "code",
   "execution_count": 13,
   "metadata": {},
   "outputs": [
    {
     "name": "stdout",
     "output_type": "stream",
     "text": [
      "{'Kota Factory', 'My Mister', 'The Last Dance', 'Avatar: The Last Airbender', 'Reply 1988', 'Our Planet', 'Major', 'Breaking Bad'}\n"
     ]
    }
   ],
   "source": [
    "# Filter for movies with an IMDb score above 9.0\n",
    "Top_Movies = df[df['imdb_score']> 9.0]\n",
    "\n",
    "# Extract the 'title' column from the filtered DataFrame\n",
    "high_score_titles = Top_Movies['title']\n",
    "\n",
    "# Get a unique set of titles\n",
    "unique_titles = set(high_score_titles)\n",
    "\n",
    "# Print the unique titles\n",
    "print(unique_titles)\n"
   ]
  },
  {
   "cell_type": "code",
   "execution_count": 14,
   "metadata": {
    "id": "B_smQ3cAtAXk"
   },
   "outputs": [
    {
     "name": "stdout",
     "output_type": "stream",
     "text": [
      "{'Kota Factory', 'My Mister', 'The Last Dance', 'Avatar: The Last Airbender', 'Reply 1988', 'Our Planet', 'Major', 'Breaking Bad'}\n"
     ]
    }
   ],
   "source": [
    "# Filter for movies with an IMDb score above 9.0\n",
    "Top_Movies = df[df['imdb_score']> 9.0]\n",
    "\n",
    "# Extract the 'title' column from the filtered DataFrame\n",
    "high_score_titles = Top_Movies['title']\n",
    "\n",
    "# Get a unique set of titles\n",
    "unique_titles = set(high_score_titles)\n",
    "\n",
    "# Print the unique titles\n",
    "print(unique_titles)\n"
   ]
  },
  {
   "cell_type": "markdown",
   "metadata": {
    "id": "PrlORh6mwoZs"
   },
   "source": [
    "## Task 5: Creating a Function to Find Unique Top-Rated Movies\n",
    "\n",
    "In this task, we’ll create a function to find unique movies with an IMDb score above a certain threshold that the user provides.\n",
    "\n",
    "### Instructions\n",
    "\n",
    "1. **Define the Function**:\n",
    "   - Start by creating a function called `get_unique_top_movies` that takes one parameter, `min_score`.\n",
    "\n",
    "2. **Filter the Data**:\n",
    "   - Inside the function, create a new variable (e.g., `high_score_df`) that stores rows where the `imdb_score` is greater than or equal to `min_score`.\n",
    "\n",
    "3. **Extract Movie Titles**:\n",
    "   - In a new variable (e.g., `high_score_titles`), select the `title` column from the filtered DataFrame.\n",
    "\n",
    "4. **Remove Duplicate Titles**:\n",
    "   - Convert `high_score_titles` to a set using `set(high_score_titles)` to automatically remove duplicates, ensuring each title appears only once.\n",
    "\n",
    "5. **Return the Unique Titles**:\n",
    "   - Make sure the function returns the `unique_titles` set.\n"
   ]
  },
  {
   "cell_type": "code",
   "execution_count": 15,
   "metadata": {
    "id": "pamLDfY9vErT"
   },
   "outputs": [],
   "source": [
    "# Define the function\n",
    "#def get_unique_top_movies(min_score):\n",
    "    # Filter for movies with IMDb score above min_score\n",
    "    #high_score_df = df[df['imdb_score']>= min_score]\n",
    "    # Extract the 'title' column\n",
    "    #high_score_titles = high_score_df['title']\n",
    "\n",
    "    # Remove duplicate titles\n",
    "   #unique_titles = set(high_score_titles)\n",
    "\n",
    "    # Return unique titles\n",
    "    #return unique_titles\n"
   ]
  },
  {
   "cell_type": "code",
   "execution_count": 16,
   "metadata": {
    "id": "kUUJMTWgww1E"
   },
   "outputs": [],
   "source": [
    "# Test the function\n",
    "#print(get_unique_top_movies(9.0))"
   ]
  },
  {
   "cell_type": "code",
   "execution_count": 17,
   "metadata": {},
   "outputs": [],
   "source": [
    "## making modifications from feedback\n",
    "def get_unique_top_movies(min_score):\n",
    "    high = df[df['imdb_score'] >= min_score]\n",
    "    return set(high['title'])"
   ]
  },
  {
   "cell_type": "code",
   "execution_count": 18,
   "metadata": {},
   "outputs": [
    {
     "name": "stdout",
     "output_type": "stream",
     "text": [
      "{'Okupas', 'Kota Factory', 'Major', 'My Mister', 'Leah Remini: Scientology and the Aftermath', 'DEATH NOTE', 'The Last Dance', 'Avatar: The Last Airbender', 'Arcane', 'Hunter x Hunter', 'Reply 1988', 'Our Planet', 'Attack on Titan', 'Breaking Bad'}\n"
     ]
    }
   ],
   "source": [
    "top9 = get_unique_top_movies(9.0)\n",
    "print(top9)"
   ]
  },
  {
   "cell_type": "markdown",
   "metadata": {
    "id": "YvWTywMQxynt"
   },
   "source": [
    "## Task 6: Creating a Function to Find Top Movies from a Specific Decade\n",
    "\n",
    "Let’s create a function to retrieve movies from a particular decade with high IMDb ratings. This function can be useful for generating lists of top-rated movies from different time periods.\n",
    "\n",
    "### Instructions\n",
    "\n",
    "1. **Define the Function**:\n",
    "   - Create a function called `get_top_movies_from_decade` that accepts `decade_start` and `min_score` as parameters.\n",
    "\n",
    "2. **Filter by Decade**:\n",
    "   - Inside the function, filter the DataFrame to include only movies where `release_year` is within the specified decade.\n",
    "   - *Hint*: You can achieve this by checking that `release_year` is between `decade_start` and `decade_start + 9`\n",
    "\n",
    "3. **Filter by IMDb Score**:\n",
    "   - Further filter this subset to include only movies where `imdb_score` is greater than or equal to `min_score`.\n",
    "\n",
    "4. **Extract Movie Titles**:\n",
    "   - From the resulting DataFrame, select the `title` column and remove duplicates using set().\n",
    "\n",
    "5. **Return the List of Titles**:\n",
    "   - Return the set of the best movies from that decade.\n",
    "\n",
    "By completing this task, you’ll have a function that returns unique, top-rated movies from a specified decade. This is useful for highlighting standout movies from different eras, perfect for “Best of the Decade” features!"
   ]
  },
  {
   "cell_type": "code",
   "execution_count": 19,
   "metadata": {
    "id": "H6pJpElgxxtT"
   },
   "outputs": [],
   "source": [
    "# Define the function\n",
    "#def get_top_movies_from_decade(decade_start, min_score):\n",
    "     #Filter for movies released within the decade\n",
    "    #decade_df = df[(df['release_year'] >= decade_start) & (df['release_year'] <= decade_start + 9)]\n",
    "\n",
    "     #Further filter by IMDb score\n",
    "    #top_decade_df = decade_df[decade_df['imdb_score'] >= min_score]\n",
    "\n",
    "     #Extract and remove duplicate titles\n",
    "    #unique_titles = set(top_decade_df['title'])\n",
    "\n",
    "     #Return unique titles\n",
    "    #return unique_titles"
   ]
  },
  {
   "cell_type": "code",
   "execution_count": 20,
   "metadata": {},
   "outputs": [],
   "source": [
    "## Making modification from feedback\n",
    "\n",
    "def get_top_movies_from_decade(start, min_score):\n",
    "    mask = ((df['release_year'] >= start) &\n",
    "            (df['release_year'] <= start + 9) &\n",
    "            (df['imdb_score'] >= min_score))\n",
    "    return set(df[mask]['title'])"
   ]
  },
  {
   "cell_type": "code",
   "execution_count": 21,
   "metadata": {
    "id": "r_q7imodyIbz"
   },
   "outputs": [
    {
     "name": "stdout",
     "output_type": "stream",
     "text": [
      "{'One Piece', 'GoodFellas', 'Neon Genesis Evangelion', 'Bill Hicks: Revelations', 'L??on: The Professional', 'Forrest Gump', 'Se7en', 'Cowboy Bebop'}\n"
     ]
    }
   ],
   "source": [
    "# Test the function\n",
    "print(get_top_movies_from_decade(1990, 8.5))"
   ]
  },
  {
   "cell_type": "markdown",
   "metadata": {
    "id": "5olBh5JRzYgN"
   },
   "source": [
    "\n",
    "## Task 7: Creating a Function to List All Actors in a Given Title\n",
    "\n",
    "Imagine you want to list all the actors in a specific movie or show. Let’s create a function that takes a `title` as input and returns the names of all actors in that title, combined into a single string.\n",
    "\n",
    "\n",
    "### Instructions\n",
    "\n",
    "1. **Define the Function**:\n",
    "   - Create a function called `get_actors_for_title` that accepts one parameter, `title`.\n",
    "   \n",
    "2. **Filter by Title and Role**:\n",
    "   - Inside the function, filter the DataFrame to select rows where the `title` column matches the provided `title` parameter and the `role` column is `\"ACTOR\"` (to ensure you only retrieve actors).\n",
    "\n",
    "3. **Extract Actor Names**:\n",
    "   - From this filtered DataFrame, select only the `name` column to get the actor names.\n",
    "\n",
    "4. **Combine Names into a Single String**:\n",
    "   - Use `', '.join()` to combine the list of actor names into a single string, with each name separated by a comma.\n",
    "\n",
    "5. **Return the Result**:\n",
    "   - Return the resulting string of actor names.\n",
    "\n",
    "\n",
    "This function will allow you to retrieve and format a list of actors for any movie or show title, which is useful for creating cast lists or displaying actors for specific titles."
   ]
  },
  {
   "cell_type": "code",
   "execution_count": 22,
   "metadata": {
    "id": "hSCm5mYRziCD"
   },
   "outputs": [],
   "source": [
    "# Define the function\n",
    "def get_actors_for_title(title):\n",
    "    # Filter for rows with the specified title and role as 'ACTOR'\n",
    "    title_df = df[(df['title'] == title) & (df['role'] == 'ACTOR')]\n",
    "\n",
    "    # Extract the 'name' column for actor names\n",
    "    name_df = title_df['name']\n",
    "\n",
    "    # Combine names into a single string\n",
    "    join_df = ', '.join(name_df)\n",
    "\n",
    "    # Return the result\n",
    "    return join_df\n"
   ]
  },
  {
   "cell_type": "code",
   "execution_count": 23,
   "metadata": {
    "id": "BCnnBFUdzj20"
   },
   "outputs": [
    {
     "name": "stdout",
     "output_type": "stream",
     "text": [
      "Robert De Niro, Jodie Foster, Albert Brooks, Harvey Keitel, Cybill Shepherd, Peter Boyle, Leonard Harris, Diahnne Abbott, Gino Ardito, Martin Scorsese, Murray Moston, Richard Higgs, Bill Minkin, Bob Maroff, Victor Argo, Joe Spinell, Robinson Frank Adu, Brenda Dickson, Norman Matlock, Harry Northup, Harlan Cary Poe, Steven Prince, Peter Savage, Nicholas Shields, Ralph S. Singleton, Annie Gagen, Carson Grant, Mary-Pat Green, Debbi Morgan, Don Stroud, Copper Cunningham, Garth Avery, Nat Grant, Billie Perkins, Catherine Scorsese, Charles Scorsese, Odunlade Adekola, Ijeoma Grace Agu\n"
     ]
    }
   ],
   "source": [
    "# Test the function\n",
    "print(get_actors_for_title(\"Taxi Driver\"))"
   ]
  },
  {
   "cell_type": "markdown",
   "metadata": {
    "id": "Iu7Zzk7M0o_9"
   },
   "source": [
    "## Task 8: Creating a Function to Categorize Movies by IMDb Score\n",
    "\n",
    "Let’s categorize movies and shows based on their IMDb scores to provide a quick evaluation of their popularity or quality. We’ll create a function that takes in a `title` and returns a rating category based on the movie or show’s IMDb score.\n",
    "\n",
    "### Rating Categories\n",
    "\n",
    "- **Excellent**: IMDb score of 9.0 or higher\n",
    "- **Good**: IMDb score between 7.0 and 8.9\n",
    "- **Average**: IMDb score between 5.0 and 6.9\n",
    "- **Low**: IMDb score below 5.0\n",
    "\n",
    "### Instructions\n",
    "\n",
    "1. **Define the Function**:\n",
    "   - Create a function called `categorize_imdb_score` that accepts one parameter, `title`.\n",
    "\n",
    "2. **Filter by Title**:\n",
    "   - Inside the function, filter the DataFrame to find the row where `title` matches the given title.\n",
    "\n",
    "3. **Retrieve IMDb Score**:\n",
    "   - If the title exists, retrieve the `imdb_score` for that movie or show.\n",
    "   - If the title is not found, return `\"Title not found\"`.\n",
    "\n",
    "4. **Categorize Score with `if-else`**:\n",
    "   - Use `if-elif-else` statements to evaluate the `imdb_score` and return one of the rating categories based on the ranges provided.\n",
    "\n",
    "5. **Return the Category**:\n",
    "   - Return the appropriate category based on the score.\n",
    "\n",
    "This function allows you to quickly categorize movies or shows by their IMDb score, which could be helpful for creating rating tags or recommending top-rated content."
   ]
  },
  {
   "cell_type": "code",
   "execution_count": 24,
   "metadata": {
    "id": "ZfrrGY7h0zYT"
   },
   "outputs": [],
   "source": [
    "# Define the function\n",
    "def categorize_imdb_score(title):\n",
    "    # Filter for the row with the specified title\n",
    "    movie = df[df['title'] == title]\n",
    "    \n",
    "    # Check if title exists\n",
    "    if movie.empty:\n",
    "        return 'title not found'\n",
    "    \n",
    "# Retrieve the IMDb score for the movie\n",
    "    score = movie['imdb_score'].iloc[0]\n",
    "    \n",
    "# Categorize score using if-else and return the ranking accordingly\n",
    "    if score >= 9.0:\n",
    "        return \"Excellent\"\n",
    "    elif score >= 7.0:\n",
    "        return \"Good\"\n",
    "    elif score >= 5.0:\n",
    "        return \"Average\"\n",
    "    else:\n",
    "        return \"Low\"\n"
   ]
  },
  {
   "cell_type": "code",
   "execution_count": 25,
   "metadata": {
    "id": "4wqHjcFZ01Qk"
   },
   "outputs": [
    {
     "name": "stdout",
     "output_type": "stream",
     "text": [
      "Good\n"
     ]
    }
   ],
   "source": [
    "# Test the function\n",
    "print(categorize_imdb_score(\"Taxi Driver\"))"
   ]
  }
 ],
 "metadata": {
  "colab": {
   "provenance": []
  },
  "kernelspec": {
   "display_name": "Python 3 (ipykernel)",
   "language": "python",
   "name": "python3"
  },
  "language_info": {
   "codemirror_mode": {
    "name": "ipython",
    "version": 3
   },
   "file_extension": ".py",
   "mimetype": "text/x-python",
   "name": "python",
   "nbconvert_exporter": "python",
   "pygments_lexer": "ipython3",
   "version": "3.9.22"
  }
 },
 "nbformat": 4,
 "nbformat_minor": 4
}
